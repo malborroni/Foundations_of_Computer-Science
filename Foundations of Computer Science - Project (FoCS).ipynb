{
 "cells": [
  {
   "cell_type": "markdown",
   "metadata": {},
   "source": [
    "<br>\n",
    "<br>\n",
    "<br>\n",
    "<br>\n",
    "<br>"
   ]
  },
  {
   "cell_type": "markdown",
   "metadata": {},
   "source": [
    "#  &nbsp;&nbsp;&nbsp;&nbsp;&nbsp;&nbsp;&nbsp;&nbsp;&nbsp;&nbsp;&nbsp;&nbsp;&nbsp;&nbsp;&nbsp;&nbsp;&nbsp;&nbsp;&nbsp;&nbsp;&nbsp;&nbsp; Foundations of Computer Science (FoCS)  -  Project"
   ]
  },
  {
   "cell_type": "markdown",
   "metadata": {},
   "source": [
    "***\n",
    "\n",
    "> - __ID number__: &nbsp;&nbsp;800069\n",
    "- __Surname__: &nbsp;&nbsp;_Borroni_&nbsp;&nbsp;&nbsp;&nbsp;&nbsp;&nbsp;&nbsp;&nbsp;&nbsp;&nbsp;&nbsp;&nbsp;__Name__: &nbsp;&nbsp;_Alessandro_\n",
    "- __Academic year__: &nbsp;&nbsp;2018/2019\n",
    "- __CdLM__: &nbsp;&nbsp;Data Science\n",
    "- __Faculty__: &nbsp;&nbsp;Department of Informatics, Systems and Communication (DISCO)\n",
    "- __Class__: &nbsp;&nbsp;LM-91 - Classe delle Lauree Magistrali in Tecniche e metodi per la Società dell'Informazione\n",
    "- __E-mail__: &nbsp;&nbsp;a.borroni2@campus.unimib.it\n",
    "\n",
    "***"
   ]
  },
  {
   "cell_type": "markdown",
   "metadata": {},
   "source": [
    "##  Table of contents \n",
    "> &nbsp; &#9679; &nbsp;&nbsp; Introduction <br>\n",
    "    &nbsp;&nbsp;&nbsp;&nbsp;&nbsp;&nbsp; &#9675; &nbsp;&nbsp; Links to the instructions and datasets used for the project <br>\n",
    "    &nbsp;&nbsp;&nbsp;&nbsp;&nbsp;&nbsp; &#9675; &nbsp;&nbsp; Import libraries <br>\n",
    "    &nbsp;&nbsp;&nbsp;&nbsp;&nbsp;&nbsp; &#9675; &nbsp;&nbsp; Import and explore datasets <br>\n",
    "&nbsp; &#9679; &nbsp;&nbsp; Solution to the exercises <br>\n",
    "    &nbsp;&nbsp;&nbsp;&nbsp;&nbsp; 1) &nbsp;&nbsp; Convert the app sizes to a number <br>\n",
    "    &nbsp;&nbsp;&nbsp;&nbsp;&nbsp; 2) &nbsp;&nbsp; Convert the number of installs to a number <br>\n",
    "    &nbsp;&nbsp;&nbsp;&nbsp;&nbsp; 3) &nbsp;&nbsp; Transform “Varies with device” into a missing value <br>\n",
    "    &nbsp;&nbsp;&nbsp;&nbsp;&nbsp; 4) &nbsp;&nbsp; Convert Current Ver and Android Ver into a dotted number <br>\n",
    "    &nbsp;&nbsp;&nbsp;&nbsp;&nbsp; 5) &nbsp;&nbsp; Remove the duplicates <br>\n",
    "    &nbsp;&nbsp;&nbsp;&nbsp;&nbsp; 6) &nbsp;&nbsp; For each category, compute the number of apps <br>\n",
    "    &nbsp;&nbsp;&nbsp;&nbsp;&nbsp; 7) &nbsp;&nbsp; For each category, compute the average rating <br>\n",
    "    &nbsp;&nbsp;&nbsp;&nbsp;&nbsp; 8) &nbsp;&nbsp; Create two dataframes: one for the genres and one bridging apps and genres <br>\n",
    "    &nbsp;&nbsp;&nbsp;&nbsp;&nbsp; 9) &nbsp;&nbsp; For each genre, create a new column of the original dataframe <br>\n",
    "    &nbsp;&nbsp;&nbsp; 10) &nbsp;&nbsp; For each genre, compute the average rating <br>\n",
    "    &nbsp;&nbsp;&nbsp; 11) &nbsp;&nbsp; For each app, compute the approximate income, obtain as a product of number of installs and price <br>\n",
    "    &nbsp;&nbsp;&nbsp; 12) &nbsp;&nbsp; For each app, compute its minimum and maximum ` Sentiment_polarity ` <br>\n",
    "   &nbsp; &#9679; &nbsp;&nbsp; Conclusion <br>\n",
    "    &nbsp;&nbsp;&nbsp;&nbsp;&nbsp;&nbsp; &#9675; &nbsp;&nbsp; First \"_time_\" ending <br>\n",
    "    &nbsp;&nbsp;&nbsp;&nbsp;&nbsp;&nbsp; &#9675; &nbsp;&nbsp; Some Data Visualizations <br>\n",
    "    &nbsp;&nbsp;&nbsp;&nbsp;&nbsp;&nbsp; &#9675; &nbsp;&nbsp; Second \"_time_\" ending"
   ]
  },
  {
   "cell_type": "markdown",
   "metadata": {},
   "source": [
    "##  Introduction "
   ]
  },
  {
   "cell_type": "markdown",
   "metadata": {},
   "source": [
    "In questa fase introduttiva svolgo qualche passaggio basilare prima di approcciarmi al progetto in sè e alle specifiche richieste oggetto di valutazione, come l'importazione delle librerie necessarie e l'esplorazione dei dataset. <br>\n",
    "In più, ho deciso di allegare qualche link utile al fine di avere un'idea più precisa del progetto in sè e degli stessi dataset.\n",
    "\n",
    "<a name=\"subparagraph1\"></a>"
   ]
  },
  {
   "cell_type": "markdown",
   "metadata": {},
   "source": [
    "  ### »  Links to instructions and datasets used for the project</p>\n",
    " "
   ]
  },
  {
   "cell_type": "markdown",
   "metadata": {},
   "source": [
    "Per le istruzioni in merito al progetto, cliccare [qui](https://gdv.github.io/foundationsCS-2018/project \"Clicca qui per vedere le istruzioni.\")."
   ]
  },
  {
   "cell_type": "markdown",
   "metadata": {},
   "source": [
    "Per scaricare i dataset, cliccare sui seguenti link:\n",
    "<br> &nbsp;&nbsp;&nbsp;&nbsp;&nbsp; i) &nbsp;&nbsp;&nbsp; [Google Play Store](https://raw.githubusercontent.com/gdv/foundationsCS-2018/master/ex-data/project/googleplaystore.csv)\n",
    "<br> &nbsp;&nbsp;&nbsp;&nbsp;&nbsp; ii) &nbsp;&nbsp; [Google Play Store: User reviews](https://raw.githubusercontent.com/gdv/foundationsCS-2018/master/ex-data/project/googleplaystore_user_reviews.csv)\n",
    "\n",
    "<a name=\"subparagraph2\"></a>"
   ]
  },
  {
   "cell_type": "markdown",
   "metadata": {},
   "source": [
    "  ### »  Import *libraries*"
   ]
  },
  {
   "cell_type": "code",
   "execution_count": 1,
   "metadata": {},
   "outputs": [],
   "source": [
    "import pandas as pd\n",
    "import numpy as np\n",
    "import re\n",
    "import time"
   ]
  },
  {
   "cell_type": "markdown",
   "metadata": {},
   "source": [
    "Uso \"*time*\" con l'intento di avere un resoconto sul tempo di esecuzione del codice."
   ]
  },
  {
   "cell_type": "code",
   "execution_count": 2,
   "metadata": {},
   "outputs": [],
   "source": [
    "begin = time.time()"
   ]
  },
  {
   "cell_type": "markdown",
   "metadata": {},
   "source": [
    "Il risultato, ovviamente, verrà mostrato in fondo al Notebook, quando la funzione verrà chiamata nuovamente nella sua fase conclusiva.\n",
    "\n",
    "<a name=\"subparagraph3\"></a>"
   ]
  },
  {
   "cell_type": "markdown",
   "metadata": {},
   "source": [
    "   ### »  Import and explore *datasets*"
   ]
  },
  {
   "cell_type": "code",
   "execution_count": 3,
   "metadata": {},
   "outputs": [],
   "source": [
    "play_store = pd.read_csv('C:/Users/MioPC/Documents/googleplaystore.csv')\n",
    "user_reviews = pd.read_csv('C:/Users/MioPC/Documents/googleplaystore_user_reviews.csv')"
   ]
  },
  {
   "cell_type": "markdown",
   "metadata": {},
   "source": [
    "Decido di controllare il dataset denominato: \"*googleplaystore.csv*\", limitando l'output alle prime 5 righe."
   ]
  },
  {
   "cell_type": "code",
   "execution_count": 4,
   "metadata": {
    "scrolled": false
   },
   "outputs": [
    {
     "data": {
      "text/html": [
       "<div>\n",
       "<style scoped>\n",
       "    .dataframe tbody tr th:only-of-type {\n",
       "        vertical-align: middle;\n",
       "    }\n",
       "\n",
       "    .dataframe tbody tr th {\n",
       "        vertical-align: top;\n",
       "    }\n",
       "\n",
       "    .dataframe thead th {\n",
       "        text-align: right;\n",
       "    }\n",
       "</style>\n",
       "<table border=\"1\" class=\"dataframe\">\n",
       "  <thead>\n",
       "    <tr style=\"text-align: right;\">\n",
       "      <th></th>\n",
       "      <th>App</th>\n",
       "      <th>Category</th>\n",
       "      <th>Rating</th>\n",
       "      <th>Reviews</th>\n",
       "      <th>Size</th>\n",
       "      <th>Installs</th>\n",
       "      <th>Type</th>\n",
       "      <th>Price</th>\n",
       "      <th>Content Rating</th>\n",
       "      <th>Genres</th>\n",
       "      <th>Last Updated</th>\n",
       "      <th>Current Ver</th>\n",
       "      <th>Android Ver</th>\n",
       "    </tr>\n",
       "  </thead>\n",
       "  <tbody>\n",
       "    <tr>\n",
       "      <th>0</th>\n",
       "      <td>Photo Editor &amp; Candy Camera &amp; Grid &amp; ScrapBook</td>\n",
       "      <td>ART_AND_DESIGN</td>\n",
       "      <td>4.1</td>\n",
       "      <td>159</td>\n",
       "      <td>19M</td>\n",
       "      <td>10,000+</td>\n",
       "      <td>Free</td>\n",
       "      <td>0</td>\n",
       "      <td>Everyone</td>\n",
       "      <td>Art &amp; Design</td>\n",
       "      <td>January 7, 2018</td>\n",
       "      <td>1.0.0</td>\n",
       "      <td>4.0.3 and up</td>\n",
       "    </tr>\n",
       "    <tr>\n",
       "      <th>1</th>\n",
       "      <td>Coloring book moana</td>\n",
       "      <td>ART_AND_DESIGN</td>\n",
       "      <td>3.9</td>\n",
       "      <td>967</td>\n",
       "      <td>14M</td>\n",
       "      <td>500,000+</td>\n",
       "      <td>Free</td>\n",
       "      <td>0</td>\n",
       "      <td>Everyone</td>\n",
       "      <td>Art &amp; Design;Pretend Play</td>\n",
       "      <td>January 15, 2018</td>\n",
       "      <td>2.0.0</td>\n",
       "      <td>4.0.3 and up</td>\n",
       "    </tr>\n",
       "    <tr>\n",
       "      <th>2</th>\n",
       "      <td>U Launcher Lite – FREE Live Cool Themes, Hide ...</td>\n",
       "      <td>ART_AND_DESIGN</td>\n",
       "      <td>4.7</td>\n",
       "      <td>87510</td>\n",
       "      <td>8.7M</td>\n",
       "      <td>5,000,000+</td>\n",
       "      <td>Free</td>\n",
       "      <td>0</td>\n",
       "      <td>Everyone</td>\n",
       "      <td>Art &amp; Design</td>\n",
       "      <td>August 1, 2018</td>\n",
       "      <td>1.2.4</td>\n",
       "      <td>4.0.3 and up</td>\n",
       "    </tr>\n",
       "    <tr>\n",
       "      <th>3</th>\n",
       "      <td>Sketch - Draw &amp; Paint</td>\n",
       "      <td>ART_AND_DESIGN</td>\n",
       "      <td>4.5</td>\n",
       "      <td>215644</td>\n",
       "      <td>25M</td>\n",
       "      <td>50,000,000+</td>\n",
       "      <td>Free</td>\n",
       "      <td>0</td>\n",
       "      <td>Teen</td>\n",
       "      <td>Art &amp; Design</td>\n",
       "      <td>June 8, 2018</td>\n",
       "      <td>Varies with device</td>\n",
       "      <td>4.2 and up</td>\n",
       "    </tr>\n",
       "    <tr>\n",
       "      <th>4</th>\n",
       "      <td>Pixel Draw - Number Art Coloring Book</td>\n",
       "      <td>ART_AND_DESIGN</td>\n",
       "      <td>4.3</td>\n",
       "      <td>967</td>\n",
       "      <td>2.8M</td>\n",
       "      <td>100,000+</td>\n",
       "      <td>Free</td>\n",
       "      <td>0</td>\n",
       "      <td>Everyone</td>\n",
       "      <td>Art &amp; Design;Creativity</td>\n",
       "      <td>June 20, 2018</td>\n",
       "      <td>1.1</td>\n",
       "      <td>4.4 and up</td>\n",
       "    </tr>\n",
       "  </tbody>\n",
       "</table>\n",
       "</div>"
      ],
      "text/plain": [
       "                                                 App        Category  Rating  \\\n",
       "0     Photo Editor & Candy Camera & Grid & ScrapBook  ART_AND_DESIGN     4.1   \n",
       "1                                Coloring book moana  ART_AND_DESIGN     3.9   \n",
       "2  U Launcher Lite – FREE Live Cool Themes, Hide ...  ART_AND_DESIGN     4.7   \n",
       "3                              Sketch - Draw & Paint  ART_AND_DESIGN     4.5   \n",
       "4              Pixel Draw - Number Art Coloring Book  ART_AND_DESIGN     4.3   \n",
       "\n",
       "  Reviews  Size     Installs  Type Price Content Rating  \\\n",
       "0     159   19M      10,000+  Free     0       Everyone   \n",
       "1     967   14M     500,000+  Free     0       Everyone   \n",
       "2   87510  8.7M   5,000,000+  Free     0       Everyone   \n",
       "3  215644   25M  50,000,000+  Free     0           Teen   \n",
       "4     967  2.8M     100,000+  Free     0       Everyone   \n",
       "\n",
       "                      Genres      Last Updated         Current Ver  \\\n",
       "0               Art & Design   January 7, 2018               1.0.0   \n",
       "1  Art & Design;Pretend Play  January 15, 2018               2.0.0   \n",
       "2               Art & Design    August 1, 2018               1.2.4   \n",
       "3               Art & Design      June 8, 2018  Varies with device   \n",
       "4    Art & Design;Creativity     June 20, 2018                 1.1   \n",
       "\n",
       "    Android Ver  \n",
       "0  4.0.3 and up  \n",
       "1  4.0.3 and up  \n",
       "2  4.0.3 and up  \n",
       "3    4.2 and up  \n",
       "4    4.4 and up  "
      ]
     },
     "execution_count": 4,
     "metadata": {},
     "output_type": "execute_result"
    }
   ],
   "source": [
    "play_store.head()"
   ]
  },
  {
   "cell_type": "markdown",
   "metadata": {},
   "source": [
    "Decido di controllare il dataset denominato: \"*googleplaystore_user_reviews.csv*\", sempre limitando l'output a 5 righe."
   ]
  },
  {
   "cell_type": "code",
   "execution_count": 5,
   "metadata": {
    "scrolled": true
   },
   "outputs": [
    {
     "data": {
      "text/html": [
       "<div>\n",
       "<style scoped>\n",
       "    .dataframe tbody tr th:only-of-type {\n",
       "        vertical-align: middle;\n",
       "    }\n",
       "\n",
       "    .dataframe tbody tr th {\n",
       "        vertical-align: top;\n",
       "    }\n",
       "\n",
       "    .dataframe thead th {\n",
       "        text-align: right;\n",
       "    }\n",
       "</style>\n",
       "<table border=\"1\" class=\"dataframe\">\n",
       "  <thead>\n",
       "    <tr style=\"text-align: right;\">\n",
       "      <th></th>\n",
       "      <th>App</th>\n",
       "      <th>Translated_Review</th>\n",
       "      <th>Sentiment</th>\n",
       "      <th>Sentiment_Polarity</th>\n",
       "      <th>Sentiment_Subjectivity</th>\n",
       "    </tr>\n",
       "  </thead>\n",
       "  <tbody>\n",
       "    <tr>\n",
       "      <th>0</th>\n",
       "      <td>10 Best Foods for You</td>\n",
       "      <td>I like eat delicious food. That's I'm cooking ...</td>\n",
       "      <td>Positive</td>\n",
       "      <td>1.00</td>\n",
       "      <td>0.533333</td>\n",
       "    </tr>\n",
       "    <tr>\n",
       "      <th>1</th>\n",
       "      <td>10 Best Foods for You</td>\n",
       "      <td>This help eating healthy exercise regular basis</td>\n",
       "      <td>Positive</td>\n",
       "      <td>0.25</td>\n",
       "      <td>0.288462</td>\n",
       "    </tr>\n",
       "    <tr>\n",
       "      <th>2</th>\n",
       "      <td>10 Best Foods for You</td>\n",
       "      <td>NaN</td>\n",
       "      <td>NaN</td>\n",
       "      <td>NaN</td>\n",
       "      <td>NaN</td>\n",
       "    </tr>\n",
       "    <tr>\n",
       "      <th>3</th>\n",
       "      <td>10 Best Foods for You</td>\n",
       "      <td>Works great especially going grocery store</td>\n",
       "      <td>Positive</td>\n",
       "      <td>0.40</td>\n",
       "      <td>0.875000</td>\n",
       "    </tr>\n",
       "    <tr>\n",
       "      <th>4</th>\n",
       "      <td>10 Best Foods for You</td>\n",
       "      <td>Best idea us</td>\n",
       "      <td>Positive</td>\n",
       "      <td>1.00</td>\n",
       "      <td>0.300000</td>\n",
       "    </tr>\n",
       "  </tbody>\n",
       "</table>\n",
       "</div>"
      ],
      "text/plain": [
       "                     App                                  Translated_Review  \\\n",
       "0  10 Best Foods for You  I like eat delicious food. That's I'm cooking ...   \n",
       "1  10 Best Foods for You    This help eating healthy exercise regular basis   \n",
       "2  10 Best Foods for You                                                NaN   \n",
       "3  10 Best Foods for You         Works great especially going grocery store   \n",
       "4  10 Best Foods for You                                       Best idea us   \n",
       "\n",
       "  Sentiment  Sentiment_Polarity  Sentiment_Subjectivity  \n",
       "0  Positive                1.00                0.533333  \n",
       "1  Positive                0.25                0.288462  \n",
       "2       NaN                 NaN                     NaN  \n",
       "3  Positive                0.40                0.875000  \n",
       "4  Positive                1.00                0.300000  "
      ]
     },
     "execution_count": 5,
     "metadata": {},
     "output_type": "execute_result"
    }
   ],
   "source": [
    "user_reviews.head()"
   ]
  },
  {
   "cell_type": "markdown",
   "metadata": {},
   "source": [
    "Eseguo un controllo sul *dtype* degli attributi."
   ]
  },
  {
   "cell_type": "code",
   "execution_count": 6,
   "metadata": {},
   "outputs": [
    {
     "name": "stdout",
     "output_type": "stream",
     "text": [
      "App                object\n",
      "Category           object\n",
      "Rating            float64\n",
      "Reviews            object\n",
      "Size               object\n",
      "Installs           object\n",
      "Type               object\n",
      "Price              object\n",
      "Content Rating     object\n",
      "Genres             object\n",
      "Last Updated       object\n",
      "Current Ver        object\n",
      "Android Ver        object\n",
      "dtype: object\n"
     ]
    }
   ],
   "source": [
    "print(play_store.dtypes)"
   ]
  },
  {
   "cell_type": "code",
   "execution_count": 7,
   "metadata": {},
   "outputs": [
    {
     "name": "stdout",
     "output_type": "stream",
     "text": [
      "App                        object\n",
      "Translated_Review          object\n",
      "Sentiment                  object\n",
      "Sentiment_Polarity        float64\n",
      "Sentiment_Subjectivity    float64\n",
      "dtype: object\n"
     ]
    }
   ],
   "source": [
    "print(user_reviews.dtypes)"
   ]
  },
  {
   "cell_type": "markdown",
   "metadata": {},
   "source": [
    "Dopo un'attenta analisi, mi rendo conto che il record *_10472_* presenta dei valori inaccurati.<br> Più precisamente, la mancanza di un valore per il campo \"*Category*\" causa uno spostamento di tutti gli altri valori a sinistra di una posizione.<br> Qui sotto si può verificare quanto appena affermato:"
   ]
  },
  {
   "cell_type": "code",
   "execution_count": 8,
   "metadata": {
    "scrolled": true
   },
   "outputs": [
    {
     "data": {
      "text/html": [
       "<div>\n",
       "<style scoped>\n",
       "    .dataframe tbody tr th:only-of-type {\n",
       "        vertical-align: middle;\n",
       "    }\n",
       "\n",
       "    .dataframe tbody tr th {\n",
       "        vertical-align: top;\n",
       "    }\n",
       "\n",
       "    .dataframe thead th {\n",
       "        text-align: right;\n",
       "    }\n",
       "</style>\n",
       "<table border=\"1\" class=\"dataframe\">\n",
       "  <thead>\n",
       "    <tr style=\"text-align: right;\">\n",
       "      <th></th>\n",
       "      <th>App</th>\n",
       "      <th>Category</th>\n",
       "      <th>Rating</th>\n",
       "      <th>Reviews</th>\n",
       "      <th>Size</th>\n",
       "      <th>Installs</th>\n",
       "      <th>Type</th>\n",
       "      <th>Price</th>\n",
       "      <th>Content Rating</th>\n",
       "      <th>Genres</th>\n",
       "      <th>Last Updated</th>\n",
       "      <th>Current Ver</th>\n",
       "      <th>Android Ver</th>\n",
       "    </tr>\n",
       "  </thead>\n",
       "  <tbody>\n",
       "    <tr>\n",
       "      <th>10472</th>\n",
       "      <td>Life Made WI-Fi Touchscreen Photo Frame</td>\n",
       "      <td>1.9</td>\n",
       "      <td>19.0</td>\n",
       "      <td>3.0M</td>\n",
       "      <td>1,000+</td>\n",
       "      <td>Free</td>\n",
       "      <td>0</td>\n",
       "      <td>Everyone</td>\n",
       "      <td>NaN</td>\n",
       "      <td>February 11, 2018</td>\n",
       "      <td>1.0.19</td>\n",
       "      <td>4.0 and up</td>\n",
       "      <td>NaN</td>\n",
       "    </tr>\n",
       "  </tbody>\n",
       "</table>\n",
       "</div>"
      ],
      "text/plain": [
       "                                           App Category  Rating Reviews  \\\n",
       "10472  Life Made WI-Fi Touchscreen Photo Frame      1.9    19.0    3.0M   \n",
       "\n",
       "         Size Installs Type     Price Content Rating             Genres  \\\n",
       "10472  1,000+     Free    0  Everyone            NaN  February 11, 2018   \n",
       "\n",
       "      Last Updated Current Ver Android Ver  \n",
       "10472       1.0.19  4.0 and up         NaN  "
      ]
     },
     "execution_count": 8,
     "metadata": {},
     "output_type": "execute_result"
    }
   ],
   "source": [
    "play_store.loc[[10472]]"
   ]
  },
  {
   "cell_type": "markdown",
   "metadata": {},
   "source": [
    "La cosa migliore da fare, quindi, è eliminare tale record."
   ]
  },
  {
   "cell_type": "code",
   "execution_count": 9,
   "metadata": {},
   "outputs": [],
   "source": [
    "play_store = play_store.drop(10472)"
   ]
  },
  {
   "cell_type": "markdown",
   "metadata": {},
   "source": [
    "***\n",
    "\n",
    "<a name=\"paragraph2\"></a>"
   ]
  },
  {
   "cell_type": "markdown",
   "metadata": {},
   "source": [
    "##  Solution to the exercises "
   ]
  },
  {
   "cell_type": "markdown",
   "metadata": {},
   "source": [
    "##  Exercise 1)\n",
    "<a name=\"ex1\"></a>"
   ]
  },
  {
   "cell_type": "markdown",
   "metadata": {},
   "source": [
    "> ###  Convert the app sizes to a number"
   ]
  },
  {
   "cell_type": "markdown",
   "metadata": {},
   "source": [
    "Prima di proseguire, controllo il formato dei dati:"
   ]
  },
  {
   "cell_type": "code",
   "execution_count": 10,
   "metadata": {},
   "outputs": [
    {
     "data": {
      "text/plain": [
       "array(['19M', '14M', '8.7M', '25M', '2.8M', '5.6M', '29M', '33M'],\n",
       "      dtype=object)"
      ]
     },
     "execution_count": 10,
     "metadata": {},
     "output_type": "execute_result"
    }
   ],
   "source": [
    "play_store.Size.unique()[0:8]"
   ]
  },
  {
   "cell_type": "markdown",
   "metadata": {},
   "source": [
    "Al fine di evitare problemi con il record che presenta il valore \"*Varies with device*\" nel campo relativo alla Size, scrivo un pezzo di codice che mi permette di convertirlo in un numero che sicuramente non verrà preso in considerazione dalla funzione creata.<br> Scelgo di usare il valore \"999999999\"."
   ]
  },
  {
   "cell_type": "code",
   "execution_count": 11,
   "metadata": {},
   "outputs": [],
   "source": [
    "play_store['Size'] = [re.sub('Varies with device', '999999999', size) for size in play_store['Size']]\n",
    "play_store['Size'] = [re.sub(',', '.', size) for size in play_store['Size']]"
   ]
  },
  {
   "cell_type": "markdown",
   "metadata": {},
   "source": [
    "Nella seconda linea di codice ho sostituito un punto alla virgola."
   ]
  },
  {
   "cell_type": "code",
   "execution_count": 12,
   "metadata": {},
   "outputs": [],
   "source": [
    "size_to_number = re.compile('(?P<amount>\\d*\\.*\\d*)(?P<unit>\\w*\\+*)')\n",
    "\n",
    "def unit_to_mult(unit):\n",
    "    if unit == 'G':\n",
    "        return 1000000000\n",
    "    if unit == 'M':\n",
    "        return 1000000\n",
    "    if unit == 'k':\n",
    "        return 1000\n",
    "    return 1"
   ]
  },
  {
   "cell_type": "markdown",
   "metadata": {},
   "source": [
    "Nella funzione sopraindicata si usano rispettivamente:<br>\n",
    "&nbsp;&nbsp;&nbsp;&nbsp;&nbsp; i) *k* &nbsp;per indicare le migliaia (*kilo*);<br>\n",
    "&nbsp;&nbsp;&nbsp;&nbsp;&nbsp; ii) *M* &nbsp;per indicare i milioni (*Mega*);<br>\n",
    "&nbsp;&nbsp;&nbsp;&nbsp;&nbsp; iii) *G* &nbsp;per indicare i miliardi (*Giga*).<br>"
   ]
  },
  {
   "cell_type": "code",
   "execution_count": 13,
   "metadata": {},
   "outputs": [],
   "source": [
    "def to_numeric(elem):\n",
    "    m = size_to_number.search(elem)\n",
    "    unit = m.group('unit')\n",
    "    mult = unit_to_mult(unit)\n",
    "    amount = float(m.group('amount'))\n",
    "    return int(amount * mult)"
   ]
  },
  {
   "cell_type": "markdown",
   "metadata": {},
   "source": [
    "La funzione appena scritta ci permette di convertire le stringhe in numeri."
   ]
  },
  {
   "cell_type": "code",
   "execution_count": 14,
   "metadata": {
    "scrolled": false
   },
   "outputs": [],
   "source": [
    "play_store['Standard size'] = play_store['Size'].apply(to_numeric)"
   ]
  },
  {
   "cell_type": "markdown",
   "metadata": {},
   "source": [
    "Dopo aver applicato le trasformazioni necessarie su \"*Size*\", posso finalmente riportare \"*Varies with device*\" nella sua forma originaria. Questo al fine di non alterare il significato iniziale dell'attributo."
   ]
  },
  {
   "cell_type": "code",
   "execution_count": 15,
   "metadata": {
    "scrolled": true
   },
   "outputs": [
    {
     "data": {
      "text/html": [
       "<div>\n",
       "<style scoped>\n",
       "    .dataframe tbody tr th:only-of-type {\n",
       "        vertical-align: middle;\n",
       "    }\n",
       "\n",
       "    .dataframe tbody tr th {\n",
       "        vertical-align: top;\n",
       "    }\n",
       "\n",
       "    .dataframe thead th {\n",
       "        text-align: right;\n",
       "    }\n",
       "</style>\n",
       "<table border=\"1\" class=\"dataframe\">\n",
       "  <thead>\n",
       "    <tr style=\"text-align: right;\">\n",
       "      <th></th>\n",
       "      <th>App</th>\n",
       "      <th>Category</th>\n",
       "      <th>Rating</th>\n",
       "      <th>Reviews</th>\n",
       "      <th>Size</th>\n",
       "      <th>Installs</th>\n",
       "      <th>Type</th>\n",
       "      <th>Price</th>\n",
       "      <th>Content Rating</th>\n",
       "      <th>Genres</th>\n",
       "      <th>Last Updated</th>\n",
       "      <th>Current Ver</th>\n",
       "      <th>Android Ver</th>\n",
       "      <th>Standard size</th>\n",
       "    </tr>\n",
       "  </thead>\n",
       "  <tbody>\n",
       "    <tr>\n",
       "      <th>0</th>\n",
       "      <td>Photo Editor &amp; Candy Camera &amp; Grid &amp; ScrapBook</td>\n",
       "      <td>ART_AND_DESIGN</td>\n",
       "      <td>4.1</td>\n",
       "      <td>159</td>\n",
       "      <td>19M</td>\n",
       "      <td>10,000+</td>\n",
       "      <td>Free</td>\n",
       "      <td>0</td>\n",
       "      <td>Everyone</td>\n",
       "      <td>Art &amp; Design</td>\n",
       "      <td>January 7, 2018</td>\n",
       "      <td>1.0.0</td>\n",
       "      <td>4.0.3 and up</td>\n",
       "      <td>19000000</td>\n",
       "    </tr>\n",
       "    <tr>\n",
       "      <th>1</th>\n",
       "      <td>Coloring book moana</td>\n",
       "      <td>ART_AND_DESIGN</td>\n",
       "      <td>3.9</td>\n",
       "      <td>967</td>\n",
       "      <td>14M</td>\n",
       "      <td>500,000+</td>\n",
       "      <td>Free</td>\n",
       "      <td>0</td>\n",
       "      <td>Everyone</td>\n",
       "      <td>Art &amp; Design;Pretend Play</td>\n",
       "      <td>January 15, 2018</td>\n",
       "      <td>2.0.0</td>\n",
       "      <td>4.0.3 and up</td>\n",
       "      <td>14000000</td>\n",
       "    </tr>\n",
       "    <tr>\n",
       "      <th>2</th>\n",
       "      <td>U Launcher Lite – FREE Live Cool Themes, Hide ...</td>\n",
       "      <td>ART_AND_DESIGN</td>\n",
       "      <td>4.7</td>\n",
       "      <td>87510</td>\n",
       "      <td>8.7M</td>\n",
       "      <td>5,000,000+</td>\n",
       "      <td>Free</td>\n",
       "      <td>0</td>\n",
       "      <td>Everyone</td>\n",
       "      <td>Art &amp; Design</td>\n",
       "      <td>August 1, 2018</td>\n",
       "      <td>1.2.4</td>\n",
       "      <td>4.0.3 and up</td>\n",
       "      <td>8700000</td>\n",
       "    </tr>\n",
       "    <tr>\n",
       "      <th>3</th>\n",
       "      <td>Sketch - Draw &amp; Paint</td>\n",
       "      <td>ART_AND_DESIGN</td>\n",
       "      <td>4.5</td>\n",
       "      <td>215644</td>\n",
       "      <td>25M</td>\n",
       "      <td>50,000,000+</td>\n",
       "      <td>Free</td>\n",
       "      <td>0</td>\n",
       "      <td>Teen</td>\n",
       "      <td>Art &amp; Design</td>\n",
       "      <td>June 8, 2018</td>\n",
       "      <td>Varies with device</td>\n",
       "      <td>4.2 and up</td>\n",
       "      <td>25000000</td>\n",
       "    </tr>\n",
       "    <tr>\n",
       "      <th>4</th>\n",
       "      <td>Pixel Draw - Number Art Coloring Book</td>\n",
       "      <td>ART_AND_DESIGN</td>\n",
       "      <td>4.3</td>\n",
       "      <td>967</td>\n",
       "      <td>2.8M</td>\n",
       "      <td>100,000+</td>\n",
       "      <td>Free</td>\n",
       "      <td>0</td>\n",
       "      <td>Everyone</td>\n",
       "      <td>Art &amp; Design;Creativity</td>\n",
       "      <td>June 20, 2018</td>\n",
       "      <td>1.1</td>\n",
       "      <td>4.4 and up</td>\n",
       "      <td>2800000</td>\n",
       "    </tr>\n",
       "  </tbody>\n",
       "</table>\n",
       "</div>"
      ],
      "text/plain": [
       "                                                 App        Category  Rating  \\\n",
       "0     Photo Editor & Candy Camera & Grid & ScrapBook  ART_AND_DESIGN     4.1   \n",
       "1                                Coloring book moana  ART_AND_DESIGN     3.9   \n",
       "2  U Launcher Lite – FREE Live Cool Themes, Hide ...  ART_AND_DESIGN     4.7   \n",
       "3                              Sketch - Draw & Paint  ART_AND_DESIGN     4.5   \n",
       "4              Pixel Draw - Number Art Coloring Book  ART_AND_DESIGN     4.3   \n",
       "\n",
       "  Reviews  Size     Installs  Type Price Content Rating  \\\n",
       "0     159   19M      10,000+  Free     0       Everyone   \n",
       "1     967   14M     500,000+  Free     0       Everyone   \n",
       "2   87510  8.7M   5,000,000+  Free     0       Everyone   \n",
       "3  215644   25M  50,000,000+  Free     0           Teen   \n",
       "4     967  2.8M     100,000+  Free     0       Everyone   \n",
       "\n",
       "                      Genres      Last Updated         Current Ver  \\\n",
       "0               Art & Design   January 7, 2018               1.0.0   \n",
       "1  Art & Design;Pretend Play  January 15, 2018               2.0.0   \n",
       "2               Art & Design    August 1, 2018               1.2.4   \n",
       "3               Art & Design      June 8, 2018  Varies with device   \n",
       "4    Art & Design;Creativity     June 20, 2018                 1.1   \n",
       "\n",
       "    Android Ver Standard size  \n",
       "0  4.0.3 and up      19000000  \n",
       "1  4.0.3 and up      14000000  \n",
       "2  4.0.3 and up       8700000  \n",
       "3    4.2 and up      25000000  \n",
       "4    4.4 and up       2800000  "
      ]
     },
     "execution_count": 15,
     "metadata": {},
     "output_type": "execute_result"
    }
   ],
   "source": [
    "play_store['Size'] = [re.sub('999999999', 'Varies with device', size) for size in play_store['Size']]\n",
    "play_store['Standard size'] = play_store['Standard size'].apply(str)\n",
    "play_store['Standard size'] = [re.sub('999999999', 'Varies with device', size) for size in play_store['Standard size']]\n",
    "\n",
    "play_store.head()"
   ]
  },
  {
   "cell_type": "markdown",
   "metadata": {},
   "source": [
    "Sposto la colonna '*Size*' in fondo, mediante l'ausilio di una List Comprehension, così da permettere un confronto immediato con la colonna '*Standard size*' appena creata."
   ]
  },
  {
   "cell_type": "code",
   "execution_count": 16,
   "metadata": {},
   "outputs": [
    {
     "data": {
      "text/html": [
       "<div>\n",
       "<style scoped>\n",
       "    .dataframe tbody tr th:only-of-type {\n",
       "        vertical-align: middle;\n",
       "    }\n",
       "\n",
       "    .dataframe tbody tr th {\n",
       "        vertical-align: top;\n",
       "    }\n",
       "\n",
       "    .dataframe thead th {\n",
       "        text-align: right;\n",
       "    }\n",
       "</style>\n",
       "<table border=\"1\" class=\"dataframe\">\n",
       "  <thead>\n",
       "    <tr style=\"text-align: right;\">\n",
       "      <th></th>\n",
       "      <th>App</th>\n",
       "      <th>Category</th>\n",
       "      <th>Rating</th>\n",
       "      <th>Reviews</th>\n",
       "      <th>Installs</th>\n",
       "      <th>Type</th>\n",
       "      <th>Price</th>\n",
       "      <th>Content Rating</th>\n",
       "      <th>Genres</th>\n",
       "      <th>Last Updated</th>\n",
       "      <th>Current Ver</th>\n",
       "      <th>Android Ver</th>\n",
       "      <th>Size</th>\n",
       "      <th>Standard size</th>\n",
       "    </tr>\n",
       "  </thead>\n",
       "  <tbody>\n",
       "    <tr>\n",
       "      <th>0</th>\n",
       "      <td>Photo Editor &amp; Candy Camera &amp; Grid &amp; ScrapBook</td>\n",
       "      <td>ART_AND_DESIGN</td>\n",
       "      <td>4.1</td>\n",
       "      <td>159</td>\n",
       "      <td>10,000+</td>\n",
       "      <td>Free</td>\n",
       "      <td>0</td>\n",
       "      <td>Everyone</td>\n",
       "      <td>Art &amp; Design</td>\n",
       "      <td>January 7, 2018</td>\n",
       "      <td>1.0.0</td>\n",
       "      <td>4.0.3 and up</td>\n",
       "      <td>19M</td>\n",
       "      <td>19000000</td>\n",
       "    </tr>\n",
       "    <tr>\n",
       "      <th>1</th>\n",
       "      <td>Coloring book moana</td>\n",
       "      <td>ART_AND_DESIGN</td>\n",
       "      <td>3.9</td>\n",
       "      <td>967</td>\n",
       "      <td>500,000+</td>\n",
       "      <td>Free</td>\n",
       "      <td>0</td>\n",
       "      <td>Everyone</td>\n",
       "      <td>Art &amp; Design;Pretend Play</td>\n",
       "      <td>January 15, 2018</td>\n",
       "      <td>2.0.0</td>\n",
       "      <td>4.0.3 and up</td>\n",
       "      <td>14M</td>\n",
       "      <td>14000000</td>\n",
       "    </tr>\n",
       "    <tr>\n",
       "      <th>2</th>\n",
       "      <td>U Launcher Lite – FREE Live Cool Themes, Hide ...</td>\n",
       "      <td>ART_AND_DESIGN</td>\n",
       "      <td>4.7</td>\n",
       "      <td>87510</td>\n",
       "      <td>5,000,000+</td>\n",
       "      <td>Free</td>\n",
       "      <td>0</td>\n",
       "      <td>Everyone</td>\n",
       "      <td>Art &amp; Design</td>\n",
       "      <td>August 1, 2018</td>\n",
       "      <td>1.2.4</td>\n",
       "      <td>4.0.3 and up</td>\n",
       "      <td>8.7M</td>\n",
       "      <td>8700000</td>\n",
       "    </tr>\n",
       "    <tr>\n",
       "      <th>3</th>\n",
       "      <td>Sketch - Draw &amp; Paint</td>\n",
       "      <td>ART_AND_DESIGN</td>\n",
       "      <td>4.5</td>\n",
       "      <td>215644</td>\n",
       "      <td>50,000,000+</td>\n",
       "      <td>Free</td>\n",
       "      <td>0</td>\n",
       "      <td>Teen</td>\n",
       "      <td>Art &amp; Design</td>\n",
       "      <td>June 8, 2018</td>\n",
       "      <td>Varies with device</td>\n",
       "      <td>4.2 and up</td>\n",
       "      <td>25M</td>\n",
       "      <td>25000000</td>\n",
       "    </tr>\n",
       "    <tr>\n",
       "      <th>4</th>\n",
       "      <td>Pixel Draw - Number Art Coloring Book</td>\n",
       "      <td>ART_AND_DESIGN</td>\n",
       "      <td>4.3</td>\n",
       "      <td>967</td>\n",
       "      <td>100,000+</td>\n",
       "      <td>Free</td>\n",
       "      <td>0</td>\n",
       "      <td>Everyone</td>\n",
       "      <td>Art &amp; Design;Creativity</td>\n",
       "      <td>June 20, 2018</td>\n",
       "      <td>1.1</td>\n",
       "      <td>4.4 and up</td>\n",
       "      <td>2.8M</td>\n",
       "      <td>2800000</td>\n",
       "    </tr>\n",
       "  </tbody>\n",
       "</table>\n",
       "</div>"
      ],
      "text/plain": [
       "                                                 App        Category  Rating  \\\n",
       "0     Photo Editor & Candy Camera & Grid & ScrapBook  ART_AND_DESIGN     4.1   \n",
       "1                                Coloring book moana  ART_AND_DESIGN     3.9   \n",
       "2  U Launcher Lite – FREE Live Cool Themes, Hide ...  ART_AND_DESIGN     4.7   \n",
       "3                              Sketch - Draw & Paint  ART_AND_DESIGN     4.5   \n",
       "4              Pixel Draw - Number Art Coloring Book  ART_AND_DESIGN     4.3   \n",
       "\n",
       "  Reviews     Installs  Type Price Content Rating                     Genres  \\\n",
       "0     159      10,000+  Free     0       Everyone               Art & Design   \n",
       "1     967     500,000+  Free     0       Everyone  Art & Design;Pretend Play   \n",
       "2   87510   5,000,000+  Free     0       Everyone               Art & Design   \n",
       "3  215644  50,000,000+  Free     0           Teen               Art & Design   \n",
       "4     967     100,000+  Free     0       Everyone    Art & Design;Creativity   \n",
       "\n",
       "       Last Updated         Current Ver   Android Ver  Size Standard size  \n",
       "0   January 7, 2018               1.0.0  4.0.3 and up   19M      19000000  \n",
       "1  January 15, 2018               2.0.0  4.0.3 and up   14M      14000000  \n",
       "2    August 1, 2018               1.2.4  4.0.3 and up  8.7M       8700000  \n",
       "3      June 8, 2018  Varies with device    4.2 and up   25M      25000000  \n",
       "4     June 20, 2018                 1.1    4.4 and up  2.8M       2800000  "
      ]
     },
     "execution_count": 16,
     "metadata": {},
     "output_type": "execute_result"
    }
   ],
   "source": [
    "play_store = play_store[[i for i in play_store if i not in ['Size', 'Standard size']] + ['Size', 'Standard size']]\n",
    "\n",
    "play_store.head()"
   ]
  },
  {
   "cell_type": "markdown",
   "metadata": {},
   "source": [
    "##  Exercise 2)"
   ]
  },
  {
   "cell_type": "markdown",
   "metadata": {},
   "source": [
    "> ###  Convert the number of installs to a number"
   ]
  },
  {
   "cell_type": "markdown",
   "metadata": {},
   "source": [
    "Ancora una volta, prima di proseguire controllo il formato dei dati:"
   ]
  },
  {
   "cell_type": "code",
   "execution_count": 17,
   "metadata": {
    "scrolled": true
   },
   "outputs": [
    {
     "data": {
      "text/plain": [
       "array(['10,000+', '500,000+', '5,000,000+', '50,000,000+', '100,000+',\n",
       "       '50,000+', '1,000,000+', '10,000,000+', '5,000+', '100,000,000+',\n",
       "       '1,000,000,000+', '1,000+', '500,000,000+', '50+', '100+', '500+',\n",
       "       '10+', '1+', '5+', '0+', '0'], dtype=object)"
      ]
     },
     "execution_count": 17,
     "metadata": {},
     "output_type": "execute_result"
    }
   ],
   "source": [
    "play_store.Installs.unique()"
   ]
  },
  {
   "cell_type": "markdown",
   "metadata": {},
   "source": [
    "Identifico eventuali valori anomali in maniera più precisa attraverso una Group By."
   ]
  },
  {
   "cell_type": "code",
   "execution_count": 18,
   "metadata": {
    "scrolled": true
   },
   "outputs": [
    {
     "data": {
      "text/plain": [
       "Installs\n",
       "0                    1\n",
       "0+                  14\n",
       "1+                  67\n",
       "1,000+             907\n",
       "1,000,000+        1579\n",
       "1,000,000,000+      58\n",
       "10+                386\n",
       "10,000+           1054\n",
       "10,000,000+       1252\n",
       "100+               719\n",
       "100,000+          1169\n",
       "100,000,000+       409\n",
       "5+                  82\n",
       "5,000+             477\n",
       "5,000,000+         752\n",
       "50+                205\n",
       "50,000+            479\n",
       "50,000,000+        289\n",
       "500+               330\n",
       "500,000+           539\n",
       "500,000,000+        72\n",
       "Name: Installs, dtype: int64"
      ]
     },
     "execution_count": 18,
     "metadata": {},
     "output_type": "execute_result"
    }
   ],
   "source": [
    "play_store.groupby('Installs')['Installs'].size()"
   ]
  },
  {
   "cell_type": "markdown",
   "metadata": {},
   "source": [
    "L'unica riga diversa dalle altre è quella che presenta uno \" *0* \" senza il simbolo \" *+* \" alla sua destra."
   ]
  },
  {
   "cell_type": "code",
   "execution_count": 19,
   "metadata": {
    "scrolled": true
   },
   "outputs": [
    {
     "data": {
      "text/html": [
       "<div>\n",
       "<style scoped>\n",
       "    .dataframe tbody tr th:only-of-type {\n",
       "        vertical-align: middle;\n",
       "    }\n",
       "\n",
       "    .dataframe tbody tr th {\n",
       "        vertical-align: top;\n",
       "    }\n",
       "\n",
       "    .dataframe thead th {\n",
       "        text-align: right;\n",
       "    }\n",
       "</style>\n",
       "<table border=\"1\" class=\"dataframe\">\n",
       "  <thead>\n",
       "    <tr style=\"text-align: right;\">\n",
       "      <th></th>\n",
       "      <th>App</th>\n",
       "      <th>Category</th>\n",
       "      <th>Rating</th>\n",
       "      <th>Reviews</th>\n",
       "      <th>Installs</th>\n",
       "      <th>Type</th>\n",
       "      <th>Price</th>\n",
       "      <th>Content Rating</th>\n",
       "      <th>Genres</th>\n",
       "      <th>Last Updated</th>\n",
       "      <th>Current Ver</th>\n",
       "      <th>Android Ver</th>\n",
       "      <th>Size</th>\n",
       "      <th>Standard size</th>\n",
       "    </tr>\n",
       "  </thead>\n",
       "  <tbody>\n",
       "    <tr>\n",
       "      <th>9148</th>\n",
       "      <td>Command &amp; Conquer: Rivals</td>\n",
       "      <td>FAMILY</td>\n",
       "      <td>NaN</td>\n",
       "      <td>0</td>\n",
       "      <td>0</td>\n",
       "      <td>NaN</td>\n",
       "      <td>0</td>\n",
       "      <td>Everyone 10+</td>\n",
       "      <td>Strategy</td>\n",
       "      <td>June 28, 2018</td>\n",
       "      <td>Varies with device</td>\n",
       "      <td>Varies with device</td>\n",
       "      <td>Varies with device</td>\n",
       "      <td>Varies with device</td>\n",
       "    </tr>\n",
       "  </tbody>\n",
       "</table>\n",
       "</div>"
      ],
      "text/plain": [
       "                            App Category  Rating Reviews Installs Type Price  \\\n",
       "9148  Command & Conquer: Rivals   FAMILY     NaN       0        0  NaN     0   \n",
       "\n",
       "     Content Rating    Genres   Last Updated         Current Ver  \\\n",
       "9148   Everyone 10+  Strategy  June 28, 2018  Varies with device   \n",
       "\n",
       "             Android Ver                Size       Standard size  \n",
       "9148  Varies with device  Varies with device  Varies with device  "
      ]
     },
     "metadata": {},
     "output_type": "display_data"
    }
   ],
   "source": [
    "display(play_store[play_store.Installs == '0'])"
   ]
  },
  {
   "cell_type": "markdown",
   "metadata": {},
   "source": [
    "Tuttavia questo non costituisce un problema, dal momento che il summenzionato simbolo sarà ignorato nello svolgimento dell'esercizio."
   ]
  },
  {
   "cell_type": "code",
   "execution_count": 20,
   "metadata": {},
   "outputs": [
    {
     "data": {
      "text/plain": [
       "dtype('int64')"
      ]
     },
     "execution_count": 20,
     "metadata": {},
     "output_type": "execute_result"
    }
   ],
   "source": [
    "play_store['N° of Installs'] = [re.sub('\\\\D', '', number) for number in play_store['Installs']]\n",
    "play_store['N° of Installs'] = play_store['N° of Installs'].apply(int)\n",
    "\n",
    "play_store['N° of Installs'].dtypes"
   ]
  },
  {
   "cell_type": "markdown",
   "metadata": {},
   "source": [
    "In ordine:<br>\n",
    "&nbsp;&nbsp;&nbsp;&nbsp;&nbsp; i) Rimuovo tutti i caratteri dagli attributi;<br>\n",
    "&nbsp;&nbsp;&nbsp;&nbsp;&nbsp; ii) Converto i valori in interi;<br>\n",
    "&nbsp;&nbsp;&nbsp;&nbsp;&nbsp; iii) Controllo il tipo per avere una conferma dell'avvenuta modificazione."
   ]
  },
  {
   "cell_type": "code",
   "execution_count": 21,
   "metadata": {},
   "outputs": [
    {
     "data": {
      "text/html": [
       "<div>\n",
       "<style scoped>\n",
       "    .dataframe tbody tr th:only-of-type {\n",
       "        vertical-align: middle;\n",
       "    }\n",
       "\n",
       "    .dataframe tbody tr th {\n",
       "        vertical-align: top;\n",
       "    }\n",
       "\n",
       "    .dataframe thead th {\n",
       "        text-align: right;\n",
       "    }\n",
       "</style>\n",
       "<table border=\"1\" class=\"dataframe\">\n",
       "  <thead>\n",
       "    <tr style=\"text-align: right;\">\n",
       "      <th></th>\n",
       "      <th>App</th>\n",
       "      <th>Category</th>\n",
       "      <th>Rating</th>\n",
       "      <th>Reviews</th>\n",
       "      <th>Type</th>\n",
       "      <th>Price</th>\n",
       "      <th>Content Rating</th>\n",
       "      <th>Genres</th>\n",
       "      <th>Last Updated</th>\n",
       "      <th>Current Ver</th>\n",
       "      <th>Android Ver</th>\n",
       "      <th>Size</th>\n",
       "      <th>Standard size</th>\n",
       "      <th>Installs</th>\n",
       "      <th>N° of Installs</th>\n",
       "    </tr>\n",
       "  </thead>\n",
       "  <tbody>\n",
       "    <tr>\n",
       "      <th>0</th>\n",
       "      <td>Photo Editor &amp; Candy Camera &amp; Grid &amp; ScrapBook</td>\n",
       "      <td>ART_AND_DESIGN</td>\n",
       "      <td>4.1</td>\n",
       "      <td>159</td>\n",
       "      <td>Free</td>\n",
       "      <td>0</td>\n",
       "      <td>Everyone</td>\n",
       "      <td>Art &amp; Design</td>\n",
       "      <td>January 7, 2018</td>\n",
       "      <td>1.0.0</td>\n",
       "      <td>4.0.3 and up</td>\n",
       "      <td>19M</td>\n",
       "      <td>19000000</td>\n",
       "      <td>10,000+</td>\n",
       "      <td>10000</td>\n",
       "    </tr>\n",
       "    <tr>\n",
       "      <th>1</th>\n",
       "      <td>Coloring book moana</td>\n",
       "      <td>ART_AND_DESIGN</td>\n",
       "      <td>3.9</td>\n",
       "      <td>967</td>\n",
       "      <td>Free</td>\n",
       "      <td>0</td>\n",
       "      <td>Everyone</td>\n",
       "      <td>Art &amp; Design;Pretend Play</td>\n",
       "      <td>January 15, 2018</td>\n",
       "      <td>2.0.0</td>\n",
       "      <td>4.0.3 and up</td>\n",
       "      <td>14M</td>\n",
       "      <td>14000000</td>\n",
       "      <td>500,000+</td>\n",
       "      <td>500000</td>\n",
       "    </tr>\n",
       "    <tr>\n",
       "      <th>2</th>\n",
       "      <td>U Launcher Lite – FREE Live Cool Themes, Hide ...</td>\n",
       "      <td>ART_AND_DESIGN</td>\n",
       "      <td>4.7</td>\n",
       "      <td>87510</td>\n",
       "      <td>Free</td>\n",
       "      <td>0</td>\n",
       "      <td>Everyone</td>\n",
       "      <td>Art &amp; Design</td>\n",
       "      <td>August 1, 2018</td>\n",
       "      <td>1.2.4</td>\n",
       "      <td>4.0.3 and up</td>\n",
       "      <td>8.7M</td>\n",
       "      <td>8700000</td>\n",
       "      <td>5,000,000+</td>\n",
       "      <td>5000000</td>\n",
       "    </tr>\n",
       "    <tr>\n",
       "      <th>3</th>\n",
       "      <td>Sketch - Draw &amp; Paint</td>\n",
       "      <td>ART_AND_DESIGN</td>\n",
       "      <td>4.5</td>\n",
       "      <td>215644</td>\n",
       "      <td>Free</td>\n",
       "      <td>0</td>\n",
       "      <td>Teen</td>\n",
       "      <td>Art &amp; Design</td>\n",
       "      <td>June 8, 2018</td>\n",
       "      <td>Varies with device</td>\n",
       "      <td>4.2 and up</td>\n",
       "      <td>25M</td>\n",
       "      <td>25000000</td>\n",
       "      <td>50,000,000+</td>\n",
       "      <td>50000000</td>\n",
       "    </tr>\n",
       "    <tr>\n",
       "      <th>4</th>\n",
       "      <td>Pixel Draw - Number Art Coloring Book</td>\n",
       "      <td>ART_AND_DESIGN</td>\n",
       "      <td>4.3</td>\n",
       "      <td>967</td>\n",
       "      <td>Free</td>\n",
       "      <td>0</td>\n",
       "      <td>Everyone</td>\n",
       "      <td>Art &amp; Design;Creativity</td>\n",
       "      <td>June 20, 2018</td>\n",
       "      <td>1.1</td>\n",
       "      <td>4.4 and up</td>\n",
       "      <td>2.8M</td>\n",
       "      <td>2800000</td>\n",
       "      <td>100,000+</td>\n",
       "      <td>100000</td>\n",
       "    </tr>\n",
       "  </tbody>\n",
       "</table>\n",
       "</div>"
      ],
      "text/plain": [
       "                                                 App        Category  Rating  \\\n",
       "0     Photo Editor & Candy Camera & Grid & ScrapBook  ART_AND_DESIGN     4.1   \n",
       "1                                Coloring book moana  ART_AND_DESIGN     3.9   \n",
       "2  U Launcher Lite – FREE Live Cool Themes, Hide ...  ART_AND_DESIGN     4.7   \n",
       "3                              Sketch - Draw & Paint  ART_AND_DESIGN     4.5   \n",
       "4              Pixel Draw - Number Art Coloring Book  ART_AND_DESIGN     4.3   \n",
       "\n",
       "  Reviews  Type Price Content Rating                     Genres  \\\n",
       "0     159  Free     0       Everyone               Art & Design   \n",
       "1     967  Free     0       Everyone  Art & Design;Pretend Play   \n",
       "2   87510  Free     0       Everyone               Art & Design   \n",
       "3  215644  Free     0           Teen               Art & Design   \n",
       "4     967  Free     0       Everyone    Art & Design;Creativity   \n",
       "\n",
       "       Last Updated         Current Ver   Android Ver  Size Standard size  \\\n",
       "0   January 7, 2018               1.0.0  4.0.3 and up   19M      19000000   \n",
       "1  January 15, 2018               2.0.0  4.0.3 and up   14M      14000000   \n",
       "2    August 1, 2018               1.2.4  4.0.3 and up  8.7M       8700000   \n",
       "3      June 8, 2018  Varies with device    4.2 and up   25M      25000000   \n",
       "4     June 20, 2018                 1.1    4.4 and up  2.8M       2800000   \n",
       "\n",
       "      Installs  N° of Installs  \n",
       "0      10,000+           10000  \n",
       "1     500,000+          500000  \n",
       "2   5,000,000+         5000000  \n",
       "3  50,000,000+        50000000  \n",
       "4     100,000+          100000  "
      ]
     },
     "execution_count": 21,
     "metadata": {},
     "output_type": "execute_result"
    }
   ],
   "source": [
    "play_store = play_store[[i for i in play_store if i not in ['Installs', 'N° of Installs']] + ['Installs', 'N° of Installs']]\n",
    "\n",
    "play_store.head()"
   ]
  },
  {
   "cell_type": "markdown",
   "metadata": {},
   "source": [
    "Ho eseguito una List Comprehension al fine di affiancare le colonne di interesse in fondo alla tabella."
   ]
  },
  {
   "cell_type": "markdown",
   "metadata": {},
   "source": [
    "##  Exercise 3)"
   ]
  },
  {
   "cell_type": "markdown",
   "metadata": {},
   "source": [
    "> ###  Transform “Varies with device” into a missing value"
   ]
  },
  {
   "cell_type": "markdown",
   "metadata": {},
   "source": [
    "Trasformo \"*Varies with device*\" in un missing value, rimpiazzandolo con un NaN."
   ]
  },
  {
   "cell_type": "code",
   "execution_count": 22,
   "metadata": {},
   "outputs": [],
   "source": [
    "play_store_nan = play_store.replace('Varies with device', np.nan)"
   ]
  },
  {
   "cell_type": "markdown",
   "metadata": {},
   "source": [
    "Dopo aver utilizzato la trasformazione in NaN di \"*Varies with device*\", posso finalmente convertire l'attributo \"*Standard size*\" in un float."
   ]
  },
  {
   "cell_type": "code",
   "execution_count": 23,
   "metadata": {},
   "outputs": [
    {
     "data": {
      "text/plain": [
       "dtype('float64')"
      ]
     },
     "execution_count": 23,
     "metadata": {},
     "output_type": "execute_result"
    }
   ],
   "source": [
    "play_store_nan['Standard size'] = play_store_nan['Standard size'].apply(float)\n",
    "\n",
    "play_store_nan['Standard size'].dtypes"
   ]
  },
  {
   "cell_type": "markdown",
   "metadata": {},
   "source": [
    "##  Exercise 4)"
   ]
  },
  {
   "cell_type": "markdown",
   "metadata": {},
   "source": [
    "> ###  Convert Current Ver and Android Ver into a dotted number (e.g. 4.0.3 or 4.2)"
   ]
  },
  {
   "cell_type": "markdown",
   "metadata": {},
   "source": [
    "Dò una rapida occhiata a un estratto del dataset, focalizzandomi sulle colonne specificate nella consegna dell'esercizio:"
   ]
  },
  {
   "cell_type": "code",
   "execution_count": 24,
   "metadata": {
    "scrolled": true
   },
   "outputs": [
    {
     "data": {
      "text/html": [
       "<div>\n",
       "<style scoped>\n",
       "    .dataframe tbody tr th:only-of-type {\n",
       "        vertical-align: middle;\n",
       "    }\n",
       "\n",
       "    .dataframe tbody tr th {\n",
       "        vertical-align: top;\n",
       "    }\n",
       "\n",
       "    .dataframe thead th {\n",
       "        text-align: right;\n",
       "    }\n",
       "</style>\n",
       "<table border=\"1\" class=\"dataframe\">\n",
       "  <thead>\n",
       "    <tr style=\"text-align: right;\">\n",
       "      <th></th>\n",
       "      <th>App</th>\n",
       "      <th>Current Ver</th>\n",
       "      <th>Android Ver</th>\n",
       "    </tr>\n",
       "  </thead>\n",
       "  <tbody>\n",
       "    <tr>\n",
       "      <th>0</th>\n",
       "      <td>Photo Editor &amp; Candy Camera &amp; Grid &amp; ScrapBook</td>\n",
       "      <td>1.0.0</td>\n",
       "      <td>4.0.3 and up</td>\n",
       "    </tr>\n",
       "    <tr>\n",
       "      <th>1</th>\n",
       "      <td>Coloring book moana</td>\n",
       "      <td>2.0.0</td>\n",
       "      <td>4.0.3 and up</td>\n",
       "    </tr>\n",
       "    <tr>\n",
       "      <th>2</th>\n",
       "      <td>U Launcher Lite – FREE Live Cool Themes, Hide ...</td>\n",
       "      <td>1.2.4</td>\n",
       "      <td>4.0.3 and up</td>\n",
       "    </tr>\n",
       "    <tr>\n",
       "      <th>3</th>\n",
       "      <td>Sketch - Draw &amp; Paint</td>\n",
       "      <td>NaN</td>\n",
       "      <td>4.2 and up</td>\n",
       "    </tr>\n",
       "    <tr>\n",
       "      <th>4</th>\n",
       "      <td>Pixel Draw - Number Art Coloring Book</td>\n",
       "      <td>1.1</td>\n",
       "      <td>4.4 and up</td>\n",
       "    </tr>\n",
       "    <tr>\n",
       "      <th>5</th>\n",
       "      <td>Paper flowers instructions</td>\n",
       "      <td>1.0</td>\n",
       "      <td>2.3 and up</td>\n",
       "    </tr>\n",
       "    <tr>\n",
       "      <th>6</th>\n",
       "      <td>Smoke Effect Photo Maker - Smoke Editor</td>\n",
       "      <td>1.1</td>\n",
       "      <td>4.0.3 and up</td>\n",
       "    </tr>\n",
       "    <tr>\n",
       "      <th>7</th>\n",
       "      <td>Infinite Painter</td>\n",
       "      <td>6.1.61.1</td>\n",
       "      <td>4.2 and up</td>\n",
       "    </tr>\n",
       "    <tr>\n",
       "      <th>8</th>\n",
       "      <td>Garden Coloring Book</td>\n",
       "      <td>2.9.2</td>\n",
       "      <td>3.0 and up</td>\n",
       "    </tr>\n",
       "    <tr>\n",
       "      <th>9</th>\n",
       "      <td>Kids Paint Free - Drawing Fun</td>\n",
       "      <td>2.8</td>\n",
       "      <td>4.0.3 and up</td>\n",
       "    </tr>\n",
       "  </tbody>\n",
       "</table>\n",
       "</div>"
      ],
      "text/plain": [
       "                                                 App Current Ver   Android Ver\n",
       "0     Photo Editor & Candy Camera & Grid & ScrapBook       1.0.0  4.0.3 and up\n",
       "1                                Coloring book moana       2.0.0  4.0.3 and up\n",
       "2  U Launcher Lite – FREE Live Cool Themes, Hide ...       1.2.4  4.0.3 and up\n",
       "3                              Sketch - Draw & Paint         NaN    4.2 and up\n",
       "4              Pixel Draw - Number Art Coloring Book         1.1    4.4 and up\n",
       "5                         Paper flowers instructions         1.0    2.3 and up\n",
       "6            Smoke Effect Photo Maker - Smoke Editor         1.1  4.0.3 and up\n",
       "7                                   Infinite Painter    6.1.61.1    4.2 and up\n",
       "8                               Garden Coloring Book       2.9.2    3.0 and up\n",
       "9                      Kids Paint Free - Drawing Fun         2.8  4.0.3 and up"
      ]
     },
     "execution_count": 24,
     "metadata": {},
     "output_type": "execute_result"
    }
   ],
   "source": [
    "play_store_nan[['App', 'Current Ver', 'Android Ver']].head(10)"
   ]
  },
  {
   "cell_type": "markdown",
   "metadata": {},
   "source": [
    "Decido di privare le colonne \"*Current Ver*\" e \"*Android Ver*\" di tutti i caratteri non numerici."
   ]
  },
  {
   "cell_type": "code",
   "execution_count": 25,
   "metadata": {},
   "outputs": [],
   "source": [
    "play_store_nan['Current Ver Refined'] = play_store_nan['Current Ver']\n",
    "play_store_nan['Android Ver Refined'] = play_store_nan['Android Ver']\n",
    "\n",
    "# Rimuovo caratteri non numerici da \"Current Ver\":\n",
    "play_store_nan['Current Ver Refined'].replace('[a-z]+|[A-z]+', '', regex = True, inplace = True)\n",
    "\n",
    "# Rimuovo caratteri non numerici da \"Android Ver\":\n",
    "play_store_nan['Android Ver Refined'].replace('[a-z]+|[A-z]+', '', regex = True, inplace = True)"
   ]
  },
  {
   "cell_type": "markdown",
   "metadata": {},
   "source": [
    "Rimuovo dalle due versioni anche eventuali punti che non sono seguiti da una cifra numerica:"
   ]
  },
  {
   "cell_type": "code",
   "execution_count": 26,
   "metadata": {},
   "outputs": [
    {
     "data": {
      "text/html": [
       "<div>\n",
       "<style scoped>\n",
       "    .dataframe tbody tr th:only-of-type {\n",
       "        vertical-align: middle;\n",
       "    }\n",
       "\n",
       "    .dataframe tbody tr th {\n",
       "        vertical-align: top;\n",
       "    }\n",
       "\n",
       "    .dataframe thead th {\n",
       "        text-align: right;\n",
       "    }\n",
       "</style>\n",
       "<table border=\"1\" class=\"dataframe\">\n",
       "  <thead>\n",
       "    <tr style=\"text-align: right;\">\n",
       "      <th></th>\n",
       "      <th>App</th>\n",
       "      <th>Current Ver</th>\n",
       "      <th>Current Ver Refined</th>\n",
       "      <th>Android Ver</th>\n",
       "      <th>Android Ver Refined</th>\n",
       "    </tr>\n",
       "  </thead>\n",
       "  <tbody>\n",
       "    <tr>\n",
       "      <th>0</th>\n",
       "      <td>Photo Editor &amp; Candy Camera &amp; Grid &amp; ScrapBook</td>\n",
       "      <td>1.0.0</td>\n",
       "      <td>1.0.0</td>\n",
       "      <td>4.0.3 and up</td>\n",
       "      <td>4.0.3</td>\n",
       "    </tr>\n",
       "    <tr>\n",
       "      <th>1</th>\n",
       "      <td>Coloring book moana</td>\n",
       "      <td>2.0.0</td>\n",
       "      <td>2.0.0</td>\n",
       "      <td>4.0.3 and up</td>\n",
       "      <td>4.0.3</td>\n",
       "    </tr>\n",
       "    <tr>\n",
       "      <th>2</th>\n",
       "      <td>U Launcher Lite – FREE Live Cool Themes, Hide ...</td>\n",
       "      <td>1.2.4</td>\n",
       "      <td>1.2.4</td>\n",
       "      <td>4.0.3 and up</td>\n",
       "      <td>4.0.3</td>\n",
       "    </tr>\n",
       "    <tr>\n",
       "      <th>3</th>\n",
       "      <td>Sketch - Draw &amp; Paint</td>\n",
       "      <td>NaN</td>\n",
       "      <td>NaN</td>\n",
       "      <td>4.2 and up</td>\n",
       "      <td>4.2</td>\n",
       "    </tr>\n",
       "    <tr>\n",
       "      <th>4</th>\n",
       "      <td>Pixel Draw - Number Art Coloring Book</td>\n",
       "      <td>1.1</td>\n",
       "      <td>1.1</td>\n",
       "      <td>4.4 and up</td>\n",
       "      <td>4.4</td>\n",
       "    </tr>\n",
       "  </tbody>\n",
       "</table>\n",
       "</div>"
      ],
      "text/plain": [
       "                                                 App Current Ver  \\\n",
       "0     Photo Editor & Candy Camera & Grid & ScrapBook       1.0.0   \n",
       "1                                Coloring book moana       2.0.0   \n",
       "2  U Launcher Lite – FREE Live Cool Themes, Hide ...       1.2.4   \n",
       "3                              Sketch - Draw & Paint         NaN   \n",
       "4              Pixel Draw - Number Art Coloring Book         1.1   \n",
       "\n",
       "  Current Ver Refined   Android Ver Android Ver Refined  \n",
       "0               1.0.0  4.0.3 and up             4.0.3    \n",
       "1               2.0.0  4.0.3 and up             4.0.3    \n",
       "2               1.2.4  4.0.3 and up             4.0.3    \n",
       "3                 NaN    4.2 and up               4.2    \n",
       "4                 1.1    4.4 and up               4.4    "
      ]
     },
     "execution_count": 26,
     "metadata": {},
     "output_type": "execute_result"
    }
   ],
   "source": [
    "play_store_nan['Current Ver Refined'].replace(r'(\\.+$)', '', regex = True, inplace = True)\n",
    "play_store_nan['Android Ver Refined'].replace(r'(\\.+$)', '', regex = True, inplace = True)\n",
    "\n",
    "play_store_nan[['App', 'Current Ver', 'Current Ver Refined', 'Android Ver', 'Android Ver Refined']].head()"
   ]
  },
  {
   "cell_type": "markdown",
   "metadata": {},
   "source": [
    "Volendo mostrare il dataset nella sua interezza, mi avvalgo, come nei punti precedenti, di una List Comprehension al fine di avere le colonne interessate in fondo alla tabella di output:"
   ]
  },
  {
   "cell_type": "code",
   "execution_count": 27,
   "metadata": {
    "scrolled": false
   },
   "outputs": [
    {
     "data": {
      "text/html": [
       "<div>\n",
       "<style scoped>\n",
       "    .dataframe tbody tr th:only-of-type {\n",
       "        vertical-align: middle;\n",
       "    }\n",
       "\n",
       "    .dataframe tbody tr th {\n",
       "        vertical-align: top;\n",
       "    }\n",
       "\n",
       "    .dataframe thead th {\n",
       "        text-align: right;\n",
       "    }\n",
       "</style>\n",
       "<table border=\"1\" class=\"dataframe\">\n",
       "  <thead>\n",
       "    <tr style=\"text-align: right;\">\n",
       "      <th></th>\n",
       "      <th>App</th>\n",
       "      <th>Category</th>\n",
       "      <th>Rating</th>\n",
       "      <th>Reviews</th>\n",
       "      <th>Type</th>\n",
       "      <th>Price</th>\n",
       "      <th>Content Rating</th>\n",
       "      <th>Genres</th>\n",
       "      <th>Last Updated</th>\n",
       "      <th>Size</th>\n",
       "      <th>Standard size</th>\n",
       "      <th>Installs</th>\n",
       "      <th>N° of Installs</th>\n",
       "      <th>Current Ver</th>\n",
       "      <th>Current Ver Refined</th>\n",
       "      <th>Android Ver</th>\n",
       "      <th>Android Ver Refined</th>\n",
       "    </tr>\n",
       "  </thead>\n",
       "  <tbody>\n",
       "    <tr>\n",
       "      <th>0</th>\n",
       "      <td>Photo Editor &amp; Candy Camera &amp; Grid &amp; ScrapBook</td>\n",
       "      <td>ART_AND_DESIGN</td>\n",
       "      <td>4.1</td>\n",
       "      <td>159</td>\n",
       "      <td>Free</td>\n",
       "      <td>0</td>\n",
       "      <td>Everyone</td>\n",
       "      <td>Art &amp; Design</td>\n",
       "      <td>January 7, 2018</td>\n",
       "      <td>19M</td>\n",
       "      <td>19000000.0</td>\n",
       "      <td>10,000+</td>\n",
       "      <td>10000</td>\n",
       "      <td>1.0.0</td>\n",
       "      <td>1.0.0</td>\n",
       "      <td>4.0.3 and up</td>\n",
       "      <td>4.0.3</td>\n",
       "    </tr>\n",
       "    <tr>\n",
       "      <th>1</th>\n",
       "      <td>Coloring book moana</td>\n",
       "      <td>ART_AND_DESIGN</td>\n",
       "      <td>3.9</td>\n",
       "      <td>967</td>\n",
       "      <td>Free</td>\n",
       "      <td>0</td>\n",
       "      <td>Everyone</td>\n",
       "      <td>Art &amp; Design;Pretend Play</td>\n",
       "      <td>January 15, 2018</td>\n",
       "      <td>14M</td>\n",
       "      <td>14000000.0</td>\n",
       "      <td>500,000+</td>\n",
       "      <td>500000</td>\n",
       "      <td>2.0.0</td>\n",
       "      <td>2.0.0</td>\n",
       "      <td>4.0.3 and up</td>\n",
       "      <td>4.0.3</td>\n",
       "    </tr>\n",
       "    <tr>\n",
       "      <th>2</th>\n",
       "      <td>U Launcher Lite – FREE Live Cool Themes, Hide ...</td>\n",
       "      <td>ART_AND_DESIGN</td>\n",
       "      <td>4.7</td>\n",
       "      <td>87510</td>\n",
       "      <td>Free</td>\n",
       "      <td>0</td>\n",
       "      <td>Everyone</td>\n",
       "      <td>Art &amp; Design</td>\n",
       "      <td>August 1, 2018</td>\n",
       "      <td>8.7M</td>\n",
       "      <td>8700000.0</td>\n",
       "      <td>5,000,000+</td>\n",
       "      <td>5000000</td>\n",
       "      <td>1.2.4</td>\n",
       "      <td>1.2.4</td>\n",
       "      <td>4.0.3 and up</td>\n",
       "      <td>4.0.3</td>\n",
       "    </tr>\n",
       "    <tr>\n",
       "      <th>3</th>\n",
       "      <td>Sketch - Draw &amp; Paint</td>\n",
       "      <td>ART_AND_DESIGN</td>\n",
       "      <td>4.5</td>\n",
       "      <td>215644</td>\n",
       "      <td>Free</td>\n",
       "      <td>0</td>\n",
       "      <td>Teen</td>\n",
       "      <td>Art &amp; Design</td>\n",
       "      <td>June 8, 2018</td>\n",
       "      <td>25M</td>\n",
       "      <td>25000000.0</td>\n",
       "      <td>50,000,000+</td>\n",
       "      <td>50000000</td>\n",
       "      <td>NaN</td>\n",
       "      <td>NaN</td>\n",
       "      <td>4.2 and up</td>\n",
       "      <td>4.2</td>\n",
       "    </tr>\n",
       "    <tr>\n",
       "      <th>4</th>\n",
       "      <td>Pixel Draw - Number Art Coloring Book</td>\n",
       "      <td>ART_AND_DESIGN</td>\n",
       "      <td>4.3</td>\n",
       "      <td>967</td>\n",
       "      <td>Free</td>\n",
       "      <td>0</td>\n",
       "      <td>Everyone</td>\n",
       "      <td>Art &amp; Design;Creativity</td>\n",
       "      <td>June 20, 2018</td>\n",
       "      <td>2.8M</td>\n",
       "      <td>2800000.0</td>\n",
       "      <td>100,000+</td>\n",
       "      <td>100000</td>\n",
       "      <td>1.1</td>\n",
       "      <td>1.1</td>\n",
       "      <td>4.4 and up</td>\n",
       "      <td>4.4</td>\n",
       "    </tr>\n",
       "  </tbody>\n",
       "</table>\n",
       "</div>"
      ],
      "text/plain": [
       "                                                 App        Category  Rating  \\\n",
       "0     Photo Editor & Candy Camera & Grid & ScrapBook  ART_AND_DESIGN     4.1   \n",
       "1                                Coloring book moana  ART_AND_DESIGN     3.9   \n",
       "2  U Launcher Lite – FREE Live Cool Themes, Hide ...  ART_AND_DESIGN     4.7   \n",
       "3                              Sketch - Draw & Paint  ART_AND_DESIGN     4.5   \n",
       "4              Pixel Draw - Number Art Coloring Book  ART_AND_DESIGN     4.3   \n",
       "\n",
       "  Reviews  Type Price Content Rating                     Genres  \\\n",
       "0     159  Free     0       Everyone               Art & Design   \n",
       "1     967  Free     0       Everyone  Art & Design;Pretend Play   \n",
       "2   87510  Free     0       Everyone               Art & Design   \n",
       "3  215644  Free     0           Teen               Art & Design   \n",
       "4     967  Free     0       Everyone    Art & Design;Creativity   \n",
       "\n",
       "       Last Updated  Size  Standard size     Installs  N° of Installs  \\\n",
       "0   January 7, 2018   19M     19000000.0      10,000+           10000   \n",
       "1  January 15, 2018   14M     14000000.0     500,000+          500000   \n",
       "2    August 1, 2018  8.7M      8700000.0   5,000,000+         5000000   \n",
       "3      June 8, 2018   25M     25000000.0  50,000,000+        50000000   \n",
       "4     June 20, 2018  2.8M      2800000.0     100,000+          100000   \n",
       "\n",
       "  Current Ver Current Ver Refined   Android Ver Android Ver Refined  \n",
       "0       1.0.0               1.0.0  4.0.3 and up             4.0.3    \n",
       "1       2.0.0               2.0.0  4.0.3 and up             4.0.3    \n",
       "2       1.2.4               1.2.4  4.0.3 and up             4.0.3    \n",
       "3         NaN                 NaN    4.2 and up               4.2    \n",
       "4         1.1                 1.1    4.4 and up               4.4    "
      ]
     },
     "execution_count": 27,
     "metadata": {},
     "output_type": "execute_result"
    }
   ],
   "source": [
    "play_store_nan = play_store_nan[[i for i in play_store_nan if i not in ['Current Ver', 'Current Ver Refined', 'Android Ver', 'Android Ver Refined']] + ['Current Ver', 'Current Ver Refined', 'Android Ver', 'Android Ver Refined']]\n",
    "\n",
    "play_store_nan.head()"
   ]
  },
  {
   "cell_type": "markdown",
   "metadata": {},
   "source": [
    "##  Exercise 5)"
   ]
  },
  {
   "cell_type": "markdown",
   "metadata": {},
   "source": [
    "> ###  Remove the duplicates"
   ]
  },
  {
   "cell_type": "markdown",
   "metadata": {},
   "source": [
    "L'esistenza dei duplicati è probabilmente dovuta alla fase di raccolta dei dati, avvenuta in tempi differenti.<br>\n",
    "Per questo punto ho quindi deciso di ordinare il dataset in base agli attributi \"*App*\" e \"*Reviews*\", optando per un ordinamento decrescente degli stessi.<br>\n",
    "Così facendo ho controllo su quali applicazioni abbiano ricevuto un numero minore di recensioni, potendo quindi procedere all'eliminazione dei duplicati e al mantenimento del primo record, più recente nonché più interessante (perché contenente maggiori informazioni)."
   ]
  },
  {
   "cell_type": "code",
   "execution_count": 28,
   "metadata": {},
   "outputs": [
    {
     "name": "stdout",
     "output_type": "stream",
     "text": [
      "Il numero di righe prima di aver effettuato ogni sorta di modifica è pari a 10840\n"
     ]
    }
   ],
   "source": [
    "print('Il numero di righe prima di aver effettuato ogni sorta di modifica è pari a', len(play_store_nan))"
   ]
  },
  {
   "cell_type": "markdown",
   "metadata": {},
   "source": [
    "Volendo avrei potuto usare la funzione \"*shape*\" per avere un'informazione anche sul numero di colonne."
   ]
  },
  {
   "cell_type": "code",
   "execution_count": 29,
   "metadata": {},
   "outputs": [
    {
     "name": "stdout",
     "output_type": "stream",
     "text": [
      "Le righe e le colonne totali sono pari a: (10840, 17)\n"
     ]
    }
   ],
   "source": [
    "print('Le righe e le colonne totali sono pari a:', play_store_nan.shape)"
   ]
  },
  {
   "cell_type": "markdown",
   "metadata": {},
   "source": [
    "Cerco di capire se vi siano record completamente identici, usando \"*drop_duplicates*\"."
   ]
  },
  {
   "cell_type": "code",
   "execution_count": 30,
   "metadata": {},
   "outputs": [
    {
     "name": "stdout",
     "output_type": "stream",
     "text": [
      "Il numero di righe dopo aver eliminato i duplicati è pari a 10357\n"
     ]
    }
   ],
   "source": [
    "play_store_nan.drop_duplicates(inplace = True)\n",
    "\n",
    "print('Il numero di righe dopo aver eliminato i duplicati è pari a', len(play_store_nan))"
   ]
  },
  {
   "cell_type": "markdown",
   "metadata": {},
   "source": [
    "Vista la riduzione da 10840 righe a 10357, si può evincere come esistessero circa 483 righe coincidenti."
   ]
  },
  {
   "cell_type": "code",
   "execution_count": 31,
   "metadata": {
    "scrolled": true
   },
   "outputs": [
    {
     "data": {
      "text/html": [
       "<div>\n",
       "<style scoped>\n",
       "    .dataframe tbody tr th:only-of-type {\n",
       "        vertical-align: middle;\n",
       "    }\n",
       "\n",
       "    .dataframe tbody tr th {\n",
       "        vertical-align: top;\n",
       "    }\n",
       "\n",
       "    .dataframe thead th {\n",
       "        text-align: right;\n",
       "    }\n",
       "</style>\n",
       "<table border=\"1\" class=\"dataframe\">\n",
       "  <thead>\n",
       "    <tr style=\"text-align: right;\">\n",
       "      <th></th>\n",
       "      <th>App</th>\n",
       "      <th>Reviews</th>\n",
       "    </tr>\n",
       "  </thead>\n",
       "  <tbody>\n",
       "    <tr>\n",
       "      <th>855</th>\n",
       "      <td>Netflix</td>\n",
       "      <td>5456208</td>\n",
       "    </tr>\n",
       "    <tr>\n",
       "      <th>931</th>\n",
       "      <td>Netflix</td>\n",
       "      <td>5456599</td>\n",
       "    </tr>\n",
       "    <tr>\n",
       "      <th>958</th>\n",
       "      <td>Netflix</td>\n",
       "      <td>5456708</td>\n",
       "    </tr>\n",
       "    <tr>\n",
       "      <th>3889</th>\n",
       "      <td>Netflix</td>\n",
       "      <td>5453997</td>\n",
       "    </tr>\n",
       "  </tbody>\n",
       "</table>\n",
       "</div>"
      ],
      "text/plain": [
       "          App  Reviews\n",
       "855   Netflix  5456208\n",
       "931   Netflix  5456599\n",
       "958   Netflix  5456708\n",
       "3889  Netflix  5453997"
      ]
     },
     "execution_count": 31,
     "metadata": {},
     "output_type": "execute_result"
    }
   ],
   "source": [
    "play_store_nan['Reviews'] = pd.to_numeric(play_store_nan['Reviews'])\n",
    "play_store_nan[play_store_nan['App'] == 'Netflix'][['App', 'Reviews']]"
   ]
  },
  {
   "cell_type": "markdown",
   "metadata": {},
   "source": [
    "Come applicazione di riferimento decido di utilizzare Netflix.<br>\n",
    "Il passo successivo è quello di ordinare i valori dal maggiore al minore, mantenendo poi solo quello con il numero di recensioni più alto."
   ]
  },
  {
   "cell_type": "code",
   "execution_count": 32,
   "metadata": {},
   "outputs": [
    {
     "data": {
      "text/html": [
       "<div>\n",
       "<style scoped>\n",
       "    .dataframe tbody tr th:only-of-type {\n",
       "        vertical-align: middle;\n",
       "    }\n",
       "\n",
       "    .dataframe tbody tr th {\n",
       "        vertical-align: top;\n",
       "    }\n",
       "\n",
       "    .dataframe thead th {\n",
       "        text-align: right;\n",
       "    }\n",
       "</style>\n",
       "<table border=\"1\" class=\"dataframe\">\n",
       "  <thead>\n",
       "    <tr style=\"text-align: right;\">\n",
       "      <th></th>\n",
       "      <th>App</th>\n",
       "      <th>Reviews</th>\n",
       "    </tr>\n",
       "  </thead>\n",
       "  <tbody>\n",
       "    <tr>\n",
       "      <th>958</th>\n",
       "      <td>Netflix</td>\n",
       "      <td>5456708</td>\n",
       "    </tr>\n",
       "    <tr>\n",
       "      <th>931</th>\n",
       "      <td>Netflix</td>\n",
       "      <td>5456599</td>\n",
       "    </tr>\n",
       "    <tr>\n",
       "      <th>855</th>\n",
       "      <td>Netflix</td>\n",
       "      <td>5456208</td>\n",
       "    </tr>\n",
       "    <tr>\n",
       "      <th>3889</th>\n",
       "      <td>Netflix</td>\n",
       "      <td>5453997</td>\n",
       "    </tr>\n",
       "  </tbody>\n",
       "</table>\n",
       "</div>"
      ],
      "text/plain": [
       "          App  Reviews\n",
       "958   Netflix  5456708\n",
       "931   Netflix  5456599\n",
       "855   Netflix  5456208\n",
       "3889  Netflix  5453997"
      ]
     },
     "execution_count": 32,
     "metadata": {},
     "output_type": "execute_result"
    }
   ],
   "source": [
    "play_store_nan = play_store_nan.sort_values('Reviews', ascending = False)\n",
    "play_store_nan[play_store_nan['App'] == 'Netflix'][['App', 'Reviews']]"
   ]
  },
  {
   "cell_type": "code",
   "execution_count": 33,
   "metadata": {},
   "outputs": [
    {
     "data": {
      "text/html": [
       "<div>\n",
       "<style scoped>\n",
       "    .dataframe tbody tr th:only-of-type {\n",
       "        vertical-align: middle;\n",
       "    }\n",
       "\n",
       "    .dataframe tbody tr th {\n",
       "        vertical-align: top;\n",
       "    }\n",
       "\n",
       "    .dataframe thead th {\n",
       "        text-align: right;\n",
       "    }\n",
       "</style>\n",
       "<table border=\"1\" class=\"dataframe\">\n",
       "  <thead>\n",
       "    <tr style=\"text-align: right;\">\n",
       "      <th></th>\n",
       "      <th>App</th>\n",
       "      <th>Reviews</th>\n",
       "    </tr>\n",
       "  </thead>\n",
       "  <tbody>\n",
       "    <tr>\n",
       "      <th>958</th>\n",
       "      <td>Netflix</td>\n",
       "      <td>5456708</td>\n",
       "    </tr>\n",
       "  </tbody>\n",
       "</table>\n",
       "</div>"
      ],
      "text/plain": [
       "         App  Reviews\n",
       "958  Netflix  5456708"
      ]
     },
     "execution_count": 33,
     "metadata": {},
     "output_type": "execute_result"
    }
   ],
   "source": [
    "play_store_nan.drop_duplicates(subset = 'App', keep = 'first', inplace = True)\n",
    "play_store_nan[play_store_nan['App'] == 'Netflix'][['App', 'Reviews']]"
   ]
  },
  {
   "cell_type": "code",
   "execution_count": 34,
   "metadata": {},
   "outputs": [
    {
     "name": "stdout",
     "output_type": "stream",
     "text": [
      "La totalità di righe e colonne dopo aver svolto il punto del progetto risulta pari a: (9659, 17)\n"
     ]
    }
   ],
   "source": [
    "print('La totalità di righe e colonne dopo aver svolto il punto del progetto risulta pari a:', play_store_nan.shape)"
   ]
  },
  {
   "cell_type": "markdown",
   "metadata": {},
   "source": [
    "##  Exercise 6)"
   ]
  },
  {
   "cell_type": "markdown",
   "metadata": {},
   "source": [
    "> ###  For each category, compute the number of apps"
   ]
  },
  {
   "cell_type": "markdown",
   "metadata": {},
   "source": [
    "Avendo già rimosso i duplicati al punto 5), mi basta fare una Group By e usare la funzione \"*size*\"; così facendo raggrupperò per l'attributo \"*Category*\" e conterò i valori uguali."
   ]
  },
  {
   "cell_type": "code",
   "execution_count": 35,
   "metadata": {},
   "outputs": [
    {
     "data": {
      "text/plain": [
       "Category\n",
       "BEAUTY                   53\n",
       "COMICS                   56\n",
       "PARENTING                60\n",
       "ART_AND_DESIGN           61\n",
       "EVENTS                   64\n",
       "HOUSE_AND_HOME           73\n",
       "WEATHER                  79\n",
       "LIBRARIES_AND_DEMO       84\n",
       "AUTO_AND_VEHICLES        85\n",
       "ENTERTAINMENT            86\n",
       "EDUCATION               105\n",
       "FOOD_AND_DRINK          112\n",
       "MAPS_AND_NAVIGATION     131\n",
       "VIDEO_PLAYERS           164\n",
       "DATING                  170\n",
       "SHOPPING                202\n",
       "TRAVEL_AND_LOCAL        219\n",
       "BOOKS_AND_REFERENCE     222\n",
       "SOCIAL                  239\n",
       "NEWS_AND_MAGAZINES      254\n",
       "PHOTOGRAPHY             281\n",
       "HEALTH_AND_FITNESS      288\n",
       "COMMUNICATION           315\n",
       "SPORTS                  325\n",
       "FINANCE                 345\n",
       "LIFESTYLE               369\n",
       "PRODUCTIVITY            374\n",
       "PERSONALIZATION         376\n",
       "MEDICAL                 395\n",
       "BUSINESS                420\n",
       "TOOLS                   829\n",
       "GAME                    945\n",
       "FAMILY                 1878\n",
       "dtype: int64"
      ]
     },
     "execution_count": 35,
     "metadata": {},
     "output_type": "execute_result"
    }
   ],
   "source": [
    "play_store_nan.groupby('Category').size().sort_values(ascending = True)"
   ]
  },
  {
   "cell_type": "markdown",
   "metadata": {},
   "source": [
    "##  Exercise 7)"
   ]
  },
  {
   "cell_type": "markdown",
   "metadata": {},
   "source": [
    "> ###  For each category, compute the average rating"
   ]
  },
  {
   "cell_type": "markdown",
   "metadata": {},
   "source": [
    "Per questo punto basta usare una semplice Group By accompagnata da \"_.mean()_\" per avere la media delle varie categorie (dal valore più alto al valore più basso)."
   ]
  },
  {
   "cell_type": "code",
   "execution_count": 36,
   "metadata": {
    "scrolled": false
   },
   "outputs": [
    {
     "data": {
      "text/html": [
       "<div>\n",
       "<style scoped>\n",
       "    .dataframe tbody tr th:only-of-type {\n",
       "        vertical-align: middle;\n",
       "    }\n",
       "\n",
       "    .dataframe tbody tr th {\n",
       "        vertical-align: top;\n",
       "    }\n",
       "\n",
       "    .dataframe thead th {\n",
       "        text-align: right;\n",
       "    }\n",
       "</style>\n",
       "<table border=\"1\" class=\"dataframe\">\n",
       "  <thead>\n",
       "    <tr style=\"text-align: right;\">\n",
       "      <th></th>\n",
       "      <th>Rating</th>\n",
       "    </tr>\n",
       "    <tr>\n",
       "      <th>Category</th>\n",
       "      <th></th>\n",
       "    </tr>\n",
       "  </thead>\n",
       "  <tbody>\n",
       "    <tr>\n",
       "      <th>EVENTS</th>\n",
       "      <td>4.435556</td>\n",
       "    </tr>\n",
       "    <tr>\n",
       "      <th>ART_AND_DESIGN</th>\n",
       "      <td>4.359322</td>\n",
       "    </tr>\n",
       "    <tr>\n",
       "      <th>EDUCATION</th>\n",
       "      <td>4.349038</td>\n",
       "    </tr>\n",
       "    <tr>\n",
       "      <th>BOOKS_AND_REFERENCE</th>\n",
       "      <td>4.344970</td>\n",
       "    </tr>\n",
       "    <tr>\n",
       "      <th>PERSONALIZATION</th>\n",
       "      <td>4.332215</td>\n",
       "    </tr>\n",
       "    <tr>\n",
       "      <th>PARENTING</th>\n",
       "      <td>4.300000</td>\n",
       "    </tr>\n",
       "    <tr>\n",
       "      <th>BEAUTY</th>\n",
       "      <td>4.278571</td>\n",
       "    </tr>\n",
       "    <tr>\n",
       "      <th>SOCIAL</th>\n",
       "      <td>4.247291</td>\n",
       "    </tr>\n",
       "    <tr>\n",
       "      <th>GAME</th>\n",
       "      <td>4.244432</td>\n",
       "    </tr>\n",
       "    <tr>\n",
       "      <th>WEATHER</th>\n",
       "      <td>4.243056</td>\n",
       "    </tr>\n",
       "  </tbody>\n",
       "</table>\n",
       "</div>"
      ],
      "text/plain": [
       "                       Rating\n",
       "Category                     \n",
       "EVENTS               4.435556\n",
       "ART_AND_DESIGN       4.359322\n",
       "EDUCATION            4.349038\n",
       "BOOKS_AND_REFERENCE  4.344970\n",
       "PERSONALIZATION      4.332215\n",
       "PARENTING            4.300000\n",
       "BEAUTY               4.278571\n",
       "SOCIAL               4.247291\n",
       "GAME                 4.244432\n",
       "WEATHER              4.243056"
      ]
     },
     "execution_count": 36,
     "metadata": {},
     "output_type": "execute_result"
    }
   ],
   "source": [
    "play_store_nan.groupby('Category')[['Rating']].mean().sort_values(by = 'Rating', ascending = False).head(10)"
   ]
  },
  {
   "cell_type": "markdown",
   "metadata": {},
   "source": [
    "In alternativa, usando DataFrame di pandas, si possono ottenere gli stessi risultati ma con la colonna \"_Category_\" in ordine alfabetico."
   ]
  },
  {
   "cell_type": "code",
   "execution_count": 37,
   "metadata": {},
   "outputs": [
    {
     "data": {
      "text/html": [
       "<div>\n",
       "<style scoped>\n",
       "    .dataframe tbody tr th:only-of-type {\n",
       "        vertical-align: middle;\n",
       "    }\n",
       "\n",
       "    .dataframe tbody tr th {\n",
       "        vertical-align: top;\n",
       "    }\n",
       "\n",
       "    .dataframe thead th {\n",
       "        text-align: right;\n",
       "    }\n",
       "</style>\n",
       "<table border=\"1\" class=\"dataframe\">\n",
       "  <thead>\n",
       "    <tr style=\"text-align: right;\">\n",
       "      <th></th>\n",
       "      <th>Rating</th>\n",
       "    </tr>\n",
       "    <tr>\n",
       "      <th>Category</th>\n",
       "      <th></th>\n",
       "    </tr>\n",
       "  </thead>\n",
       "  <tbody>\n",
       "    <tr>\n",
       "      <th>ART_AND_DESIGN</th>\n",
       "      <td>4.359322</td>\n",
       "    </tr>\n",
       "    <tr>\n",
       "      <th>AUTO_AND_VEHICLES</th>\n",
       "      <td>4.190411</td>\n",
       "    </tr>\n",
       "    <tr>\n",
       "      <th>BEAUTY</th>\n",
       "      <td>4.278571</td>\n",
       "    </tr>\n",
       "    <tr>\n",
       "      <th>BOOKS_AND_REFERENCE</th>\n",
       "      <td>4.344970</td>\n",
       "    </tr>\n",
       "    <tr>\n",
       "      <th>BUSINESS</th>\n",
       "      <td>4.098479</td>\n",
       "    </tr>\n",
       "    <tr>\n",
       "      <th>COMICS</th>\n",
       "      <td>4.181481</td>\n",
       "    </tr>\n",
       "    <tr>\n",
       "      <th>COMMUNICATION</th>\n",
       "      <td>4.121484</td>\n",
       "    </tr>\n",
       "    <tr>\n",
       "      <th>DATING</th>\n",
       "      <td>3.980451</td>\n",
       "    </tr>\n",
       "    <tr>\n",
       "      <th>EDUCATION</th>\n",
       "      <td>4.349038</td>\n",
       "    </tr>\n",
       "    <tr>\n",
       "      <th>ENTERTAINMENT</th>\n",
       "      <td>4.129070</td>\n",
       "    </tr>\n",
       "  </tbody>\n",
       "</table>\n",
       "</div>"
      ],
      "text/plain": [
       "                       Rating\n",
       "Category                     \n",
       "ART_AND_DESIGN       4.359322\n",
       "AUTO_AND_VEHICLES    4.190411\n",
       "BEAUTY               4.278571\n",
       "BOOKS_AND_REFERENCE  4.344970\n",
       "BUSINESS             4.098479\n",
       "COMICS               4.181481\n",
       "COMMUNICATION        4.121484\n",
       "DATING               3.980451\n",
       "EDUCATION            4.349038\n",
       "ENTERTAINMENT        4.129070"
      ]
     },
     "execution_count": 37,
     "metadata": {},
     "output_type": "execute_result"
    }
   ],
   "source": [
    "pd.DataFrame(play_store_nan.groupby('Category')['Rating'].mean()).head(10)"
   ]
  },
  {
   "cell_type": "markdown",
   "metadata": {},
   "source": [
    "##  Exercise 8)"
   ]
  },
  {
   "cell_type": "markdown",
   "metadata": {},
   "source": [
    "> ###  Create two dataframes: one for the genres and one bridging apps and genres<br>So that, for instance, the app Pixel Draw - Number Art Coloring Book appears twice in the bridging table, once for Art & Design, once for Creativity"
   ]
  },
  {
   "cell_type": "markdown",
   "metadata": {},
   "source": [
    "Cerco di capire come è strutturata la colonna \"_Genres_\", focalizzandomi sul numero di generi per ogni applicazione."
   ]
  },
  {
   "cell_type": "code",
   "execution_count": 38,
   "metadata": {
    "scrolled": false
   },
   "outputs": [
    {
     "data": {
      "text/plain": [
       "Genres\n",
       "Action                                   299\n",
       "Action;Action & Adventure                 12\n",
       "Adventure                                 73\n",
       "Adventure;Action & Adventure               5\n",
       "Adventure;Brain Games                      1\n",
       "Adventure;Education                        1\n",
       "Arcade                                   184\n",
       "Arcade;Action & Adventure                 14\n",
       "Arcade;Pretend Play                        1\n",
       "Art & Design                              57\n",
       "Art & Design;Action & Adventure            1\n",
       "Art & Design;Creativity                    6\n",
       "Art & Design;Pretend Play                  1\n",
       "Auto & Vehicles                           85\n",
       "Beauty                                    53\n",
       "Board                                     42\n",
       "Board;Action & Adventure                   3\n",
       "Board;Brain Games                         14\n",
       "Board;Pretend Play                         1\n",
       "Books & Reference                        222\n",
       "Books & Reference;Creativity               1\n",
       "Books & Reference;Education                2\n",
       "Business                                 420\n",
       "Card                                      47\n",
       "Card;Action & Adventure                    2\n",
       "Casino                                    39\n",
       "Casual                                   165\n",
       "Casual;Action & Adventure                 13\n",
       "Casual;Brain Games                        12\n",
       "Casual;Creativity                          6\n",
       "                                        ... \n",
       "Racing;Action & Adventure                 16\n",
       "Racing;Pretend Play                        1\n",
       "Role Playing                             105\n",
       "Role Playing;Action & Adventure            4\n",
       "Role Playing;Brain Games                   1\n",
       "Role Playing;Education                     1\n",
       "Role Playing;Pretend Play                  4\n",
       "Shopping                                 202\n",
       "Simulation                               193\n",
       "Simulation;Action & Adventure              7\n",
       "Simulation;Education                       3\n",
       "Simulation;Pretend Play                    3\n",
       "Social                                   239\n",
       "Sports                                   331\n",
       "Sports;Action & Adventure                  4\n",
       "Strategy                                  95\n",
       "Strategy;Action & Adventure                2\n",
       "Strategy;Creativity                        1\n",
       "Strategy;Education                         1\n",
       "Tools                                    828\n",
       "Tools;Education                            1\n",
       "Travel & Local                           218\n",
       "Travel & Local;Action & Adventure          1\n",
       "Trivia                                    38\n",
       "Trivia;Education                           1\n",
       "Video Players & Editors                  162\n",
       "Video Players & Editors;Creativity         1\n",
       "Video Players & Editors;Music & Video      2\n",
       "Weather                                   79\n",
       "Word                                      23\n",
       "Length: 118, dtype: int64"
      ]
     },
     "execution_count": 38,
     "metadata": {},
     "output_type": "execute_result"
    }
   ],
   "source": [
    "play_store_nan.groupby('Genres').size() "
   ]
  },
  {
   "cell_type": "markdown",
   "metadata": {},
   "source": [
    "Noto che le applicazioni presentano al massimo due generi, ma con le seguenti differenze:<br>\n",
    "&nbsp;&nbsp;&nbsp;&nbsp;&nbsp; i) Alcune applicazioni presentano due generi identici"
   ]
  },
  {
   "cell_type": "code",
   "execution_count": 39,
   "metadata": {},
   "outputs": [
    {
     "data": {
      "text/plain": [
       "'Education;Education'"
      ]
     },
     "execution_count": 39,
     "metadata": {},
     "output_type": "execute_result"
    }
   ],
   "source": [
    "play_store_nan['Genres'].loc[2035]"
   ]
  },
  {
   "cell_type": "markdown",
   "metadata": {},
   "source": [
    "&nbsp;&nbsp;&nbsp;&nbsp;&nbsp; ii) Altre applicazioni presentano due generi differenti<br>"
   ]
  },
  {
   "cell_type": "code",
   "execution_count": 40,
   "metadata": {},
   "outputs": [
    {
     "data": {
      "text/plain": [
       "'Video Players & Editors;Creativity'"
      ]
     },
     "execution_count": 40,
     "metadata": {},
     "output_type": "execute_result"
    }
   ],
   "source": [
    "play_store_nan['Genres'].loc[3712]"
   ]
  },
  {
   "cell_type": "markdown",
   "metadata": {},
   "source": [
    "Ma questo non rappresenta un vero e proprio problema, dal momento che in caso di più generi, questi verranno tenuti distinti nel nuovo dataframe, usando come riferimento la presenza di un punto e virgola (\" ; \") tra due generi. <br>\n",
    "Quindi non mi resta che creare i due dataframe richiesti, partendo dal primo, quello dei generi."
   ]
  },
  {
   "cell_type": "code",
   "execution_count": 41,
   "metadata": {
    "scrolled": false
   },
   "outputs": [
    {
     "data": {
      "text/html": [
       "<div>\n",
       "<style scoped>\n",
       "    .dataframe tbody tr th:only-of-type {\n",
       "        vertical-align: middle;\n",
       "    }\n",
       "\n",
       "    .dataframe tbody tr th {\n",
       "        vertical-align: top;\n",
       "    }\n",
       "\n",
       "    .dataframe thead th {\n",
       "        text-align: right;\n",
       "    }\n",
       "</style>\n",
       "<table border=\"1\" class=\"dataframe\">\n",
       "  <thead>\n",
       "    <tr style=\"text-align: right;\">\n",
       "      <th></th>\n",
       "      <th>0</th>\n",
       "      <th>1</th>\n",
       "    </tr>\n",
       "  </thead>\n",
       "  <tbody>\n",
       "    <tr>\n",
       "      <th>10344</th>\n",
       "      <td>Tools</td>\n",
       "      <td>NaN</td>\n",
       "    </tr>\n",
       "    <tr>\n",
       "      <th>8872</th>\n",
       "      <td>Health &amp; Fitness</td>\n",
       "      <td>NaN</td>\n",
       "    </tr>\n",
       "    <tr>\n",
       "      <th>8871</th>\n",
       "      <td>Art &amp; Design</td>\n",
       "      <td>NaN</td>\n",
       "    </tr>\n",
       "    <tr>\n",
       "      <th>10347</th>\n",
       "      <td>Food &amp; Drink</td>\n",
       "      <td>NaN</td>\n",
       "    </tr>\n",
       "    <tr>\n",
       "      <th>10348</th>\n",
       "      <td>House &amp; Home</td>\n",
       "      <td>NaN</td>\n",
       "    </tr>\n",
       "    <tr>\n",
       "      <th>6329</th>\n",
       "      <td>Casino</td>\n",
       "      <td>NaN</td>\n",
       "    </tr>\n",
       "  </tbody>\n",
       "</table>\n",
       "</div>"
      ],
      "text/plain": [
       "                      0    1\n",
       "10344             Tools  NaN\n",
       "8872   Health & Fitness  NaN\n",
       "8871       Art & Design  NaN\n",
       "10347      Food & Drink  NaN\n",
       "10348      House & Home  NaN\n",
       "6329             Casino  NaN"
      ]
     },
     "execution_count": 41,
     "metadata": {},
     "output_type": "execute_result"
    }
   ],
   "source": [
    "play_store_nan['Genre_Splitter'] = [gnr.split(';') for gnr in play_store_nan['Genres']]\n",
    "genres = play_store_nan.Genre_Splitter.apply(pd.Series)\n",
    "\n",
    "genres.tail(6)"
   ]
  },
  {
   "cell_type": "code",
   "execution_count": 42,
   "metadata": {
    "scrolled": true
   },
   "outputs": [
    {
     "data": {
      "text/html": [
       "<div>\n",
       "<style scoped>\n",
       "    .dataframe tbody tr th:only-of-type {\n",
       "        vertical-align: middle;\n",
       "    }\n",
       "\n",
       "    .dataframe tbody tr th {\n",
       "        vertical-align: top;\n",
       "    }\n",
       "\n",
       "    .dataframe thead th {\n",
       "        text-align: right;\n",
       "    }\n",
       "</style>\n",
       "<table border=\"1\" class=\"dataframe\">\n",
       "  <thead>\n",
       "    <tr style=\"text-align: right;\">\n",
       "      <th></th>\n",
       "      <th>First/Main Genre</th>\n",
       "      <th>Second Genre</th>\n",
       "    </tr>\n",
       "  </thead>\n",
       "  <tbody>\n",
       "    <tr>\n",
       "      <th>2544</th>\n",
       "      <td>Social</td>\n",
       "      <td>NaN</td>\n",
       "    </tr>\n",
       "    <tr>\n",
       "      <th>336</th>\n",
       "      <td>Communication</td>\n",
       "      <td>NaN</td>\n",
       "    </tr>\n",
       "    <tr>\n",
       "      <th>2604</th>\n",
       "      <td>Social</td>\n",
       "      <td>NaN</td>\n",
       "    </tr>\n",
       "    <tr>\n",
       "      <th>382</th>\n",
       "      <td>Communication</td>\n",
       "      <td>NaN</td>\n",
       "    </tr>\n",
       "    <tr>\n",
       "      <th>1879</th>\n",
       "      <td>Strategy</td>\n",
       "      <td>NaN</td>\n",
       "    </tr>\n",
       "  </tbody>\n",
       "</table>\n",
       "</div>"
      ],
      "text/plain": [
       "     First/Main Genre Second Genre\n",
       "2544           Social          NaN\n",
       "336     Communication          NaN\n",
       "2604           Social          NaN\n",
       "382     Communication          NaN\n",
       "1879         Strategy          NaN"
      ]
     },
     "execution_count": 42,
     "metadata": {},
     "output_type": "execute_result"
    }
   ],
   "source": [
    "genres = genres.rename(columns = {0: 'First/Main Genre', 1: 'Second Genre'})\n",
    "genres.head(5)"
   ]
  },
  {
   "cell_type": "markdown",
   "metadata": {},
   "source": [
    "In ordine ho:<br>\n",
    "&nbsp;&nbsp;&nbsp;&nbsp;&nbsp; i) Eseguito lo splitting dei due generi in un vettore (array);<br>\n",
    "&nbsp;&nbsp;&nbsp;&nbsp;&nbsp; ii) Creato il relativo dataframe;<br>\n",
    "&nbsp;&nbsp;&nbsp;&nbsp;&nbsp; iii) Sistemato i nomi delle colonne."
   ]
  },
  {
   "cell_type": "markdown",
   "metadata": {},
   "source": [
    "Controllo ora una delle righe messe in evidenza precedentemente, per accertarmi dell'avvenuto splitting."
   ]
  },
  {
   "cell_type": "code",
   "execution_count": 43,
   "metadata": {
    "scrolled": false
   },
   "outputs": [
    {
     "data": {
      "text/html": [
       "<div>\n",
       "<style scoped>\n",
       "    .dataframe tbody tr th:only-of-type {\n",
       "        vertical-align: middle;\n",
       "    }\n",
       "\n",
       "    .dataframe tbody tr th {\n",
       "        vertical-align: top;\n",
       "    }\n",
       "\n",
       "    .dataframe thead th {\n",
       "        text-align: right;\n",
       "    }\n",
       "</style>\n",
       "<table border=\"1\" class=\"dataframe\">\n",
       "  <thead>\n",
       "    <tr style=\"text-align: right;\">\n",
       "      <th></th>\n",
       "      <th>First/Main Genre</th>\n",
       "      <th>Second Genre</th>\n",
       "    </tr>\n",
       "  </thead>\n",
       "  <tbody>\n",
       "    <tr>\n",
       "      <th>3712</th>\n",
       "      <td>Video Players &amp; Editors</td>\n",
       "      <td>Creativity</td>\n",
       "    </tr>\n",
       "  </tbody>\n",
       "</table>\n",
       "</div>"
      ],
      "text/plain": [
       "             First/Main Genre Second Genre\n",
       "3712  Video Players & Editors   Creativity"
      ]
     },
     "execution_count": 43,
     "metadata": {},
     "output_type": "execute_result"
    }
   ],
   "source": [
    "genres.loc[[3712]]"
   ]
  },
  {
   "cell_type": "markdown",
   "metadata": {},
   "source": [
    "Prima di procedere alla creazione della tabella di collegamento, creo un dataframe che contiene i nomi delle applicazioni. <br>\n",
    "Questa precisazione serve a far sì che non mi trovi a lavorare con una serie."
   ]
  },
  {
   "cell_type": "code",
   "execution_count": 44,
   "metadata": {},
   "outputs": [
    {
     "data": {
      "text/plain": [
       "pandas.core.frame.DataFrame"
      ]
     },
     "execution_count": 44,
     "metadata": {},
     "output_type": "execute_result"
    }
   ],
   "source": [
    "applications = play_store_nan['App'].to_frame()\n",
    "type(applications)"
   ]
  },
  {
   "cell_type": "markdown",
   "metadata": {},
   "source": [
    "Nella creazione della tabella-ponte, uso \"_.dropna()_\" per eliminare i valori mancanti, e quindi per evitare che le applicazioni che non hanno un secondo genere si ripetano più volte."
   ]
  },
  {
   "cell_type": "code",
   "execution_count": 45,
   "metadata": {
    "scrolled": true
   },
   "outputs": [
    {
     "data": {
      "text/html": [
       "<div>\n",
       "<style scoped>\n",
       "    .dataframe tbody tr th:only-of-type {\n",
       "        vertical-align: middle;\n",
       "    }\n",
       "\n",
       "    .dataframe tbody tr th {\n",
       "        vertical-align: top;\n",
       "    }\n",
       "\n",
       "    .dataframe thead th {\n",
       "        text-align: right;\n",
       "    }\n",
       "</style>\n",
       "<table border=\"1\" class=\"dataframe\">\n",
       "  <thead>\n",
       "    <tr style=\"text-align: right;\">\n",
       "      <th></th>\n",
       "      <th>App</th>\n",
       "      <th>Main Genre</th>\n",
       "    </tr>\n",
       "  </thead>\n",
       "  <tbody>\n",
       "    <tr>\n",
       "      <th>0</th>\n",
       "      <td>Facebook</td>\n",
       "      <td>Social</td>\n",
       "    </tr>\n",
       "    <tr>\n",
       "      <th>1</th>\n",
       "      <td>WhatsApp Messenger</td>\n",
       "      <td>Communication</td>\n",
       "    </tr>\n",
       "    <tr>\n",
       "      <th>2</th>\n",
       "      <td>Instagram</td>\n",
       "      <td>Social</td>\n",
       "    </tr>\n",
       "    <tr>\n",
       "      <th>3</th>\n",
       "      <td>Messenger – Text and Video Chat for Free</td>\n",
       "      <td>Communication</td>\n",
       "    </tr>\n",
       "    <tr>\n",
       "      <th>4</th>\n",
       "      <td>Clash of Clans</td>\n",
       "      <td>Strategy</td>\n",
       "    </tr>\n",
       "    <tr>\n",
       "      <th>5</th>\n",
       "      <td>Clean Master- Space Cleaner &amp; Antivirus</td>\n",
       "      <td>Tools</td>\n",
       "    </tr>\n",
       "    <tr>\n",
       "      <th>6</th>\n",
       "      <td>Subway Surfers</td>\n",
       "      <td>Arcade</td>\n",
       "    </tr>\n",
       "    <tr>\n",
       "      <th>7</th>\n",
       "      <td>YouTube</td>\n",
       "      <td>Video Players &amp; Editors</td>\n",
       "    </tr>\n",
       "    <tr>\n",
       "      <th>8</th>\n",
       "      <td>Security Master - Antivirus, VPN, AppLock, Boo...</td>\n",
       "      <td>Tools</td>\n",
       "    </tr>\n",
       "    <tr>\n",
       "      <th>9</th>\n",
       "      <td>Clash Royale</td>\n",
       "      <td>Strategy</td>\n",
       "    </tr>\n",
       "  </tbody>\n",
       "</table>\n",
       "</div>"
      ],
      "text/plain": [
       "                                                 App               Main Genre\n",
       "0                                           Facebook                   Social\n",
       "1                                 WhatsApp Messenger            Communication\n",
       "2                                          Instagram                   Social\n",
       "3           Messenger – Text and Video Chat for Free            Communication\n",
       "4                                     Clash of Clans                 Strategy\n",
       "5            Clean Master- Space Cleaner & Antivirus                    Tools\n",
       "6                                     Subway Surfers                   Arcade\n",
       "7                                            YouTube  Video Players & Editors\n",
       "8  Security Master - Antivirus, VPN, AppLock, Boo...                    Tools\n",
       "9                                       Clash Royale                 Strategy"
      ]
     },
     "execution_count": 45,
     "metadata": {},
     "output_type": "execute_result"
    }
   ],
   "source": [
    "bridging_table = pd.merge(genres, applications, left_index = True, right_index = True)\\\n",
    "                 .melt(id_vars = ['App'], value_name = 'Main Genre')\\\n",
    "                 .drop('variable', axis = 1)\\\n",
    "                 .dropna()\n",
    "bridging_table.head(10)"
   ]
  },
  {
   "cell_type": "markdown",
   "metadata": {},
   "source": [
    "Volendo fare due controlli:"
   ]
  },
  {
   "cell_type": "code",
   "execution_count": 46,
   "metadata": {
    "scrolled": true
   },
   "outputs": [
    {
     "data": {
      "text/html": [
       "<div>\n",
       "<style scoped>\n",
       "    .dataframe tbody tr th:only-of-type {\n",
       "        vertical-align: middle;\n",
       "    }\n",
       "\n",
       "    .dataframe tbody tr th {\n",
       "        vertical-align: top;\n",
       "    }\n",
       "\n",
       "    .dataframe thead th {\n",
       "        text-align: right;\n",
       "    }\n",
       "</style>\n",
       "<table border=\"1\" class=\"dataframe\">\n",
       "  <thead>\n",
       "    <tr style=\"text-align: right;\">\n",
       "      <th></th>\n",
       "      <th>App</th>\n",
       "      <th>Main Genre</th>\n",
       "    </tr>\n",
       "  </thead>\n",
       "  <tbody>\n",
       "    <tr>\n",
       "      <th>4831</th>\n",
       "      <td>Pixel Draw - Number Art Coloring Book</td>\n",
       "      <td>Art &amp; Design</td>\n",
       "    </tr>\n",
       "    <tr>\n",
       "      <th>14490</th>\n",
       "      <td>Pixel Draw - Number Art Coloring Book</td>\n",
       "      <td>Creativity</td>\n",
       "    </tr>\n",
       "  </tbody>\n",
       "</table>\n",
       "</div>"
      ],
      "text/plain": [
       "                                         App    Main Genre\n",
       "4831   Pixel Draw - Number Art Coloring Book  Art & Design\n",
       "14490  Pixel Draw - Number Art Coloring Book    Creativity"
      ]
     },
     "execution_count": 46,
     "metadata": {},
     "output_type": "execute_result"
    }
   ],
   "source": [
    "bridging_table[bridging_table['App'] == 'Pixel Draw - Number Art Coloring Book']"
   ]
  },
  {
   "cell_type": "code",
   "execution_count": 47,
   "metadata": {
    "scrolled": true
   },
   "outputs": [
    {
     "data": {
      "text/html": [
       "<div>\n",
       "<style scoped>\n",
       "    .dataframe tbody tr th:only-of-type {\n",
       "        vertical-align: middle;\n",
       "    }\n",
       "\n",
       "    .dataframe tbody tr th {\n",
       "        vertical-align: top;\n",
       "    }\n",
       "\n",
       "    .dataframe thead th {\n",
       "        text-align: right;\n",
       "    }\n",
       "</style>\n",
       "<table border=\"1\" class=\"dataframe\">\n",
       "  <thead>\n",
       "    <tr style=\"text-align: right;\">\n",
       "      <th></th>\n",
       "      <th>App</th>\n",
       "      <th>Main Genre</th>\n",
       "    </tr>\n",
       "  </thead>\n",
       "  <tbody>\n",
       "    <tr>\n",
       "      <th>1156</th>\n",
       "      <td>Video Editor</td>\n",
       "      <td>Video Players &amp; Editors</td>\n",
       "    </tr>\n",
       "    <tr>\n",
       "      <th>10815</th>\n",
       "      <td>Video Editor</td>\n",
       "      <td>Creativity</td>\n",
       "    </tr>\n",
       "  </tbody>\n",
       "</table>\n",
       "</div>"
      ],
      "text/plain": [
       "                App               Main Genre\n",
       "1156   Video Editor  Video Players & Editors\n",
       "10815  Video Editor               Creativity"
      ]
     },
     "execution_count": 47,
     "metadata": {},
     "output_type": "execute_result"
    }
   ],
   "source": [
    "bridging_table[bridging_table['App'] == 'Video Editor']"
   ]
  },
  {
   "cell_type": "markdown",
   "metadata": {},
   "source": [
    "Decido di esportare i dati in formato CSV e XLSX, per eventuali manipolazioni future."
   ]
  },
  {
   "cell_type": "code",
   "execution_count": 48,
   "metadata": {},
   "outputs": [],
   "source": [
    "bridging_table.to_csv(\"C:/Users/MioPC/Documents/GPS_bridging_table.csv\")"
   ]
  },
  {
   "cell_type": "code",
   "execution_count": 49,
   "metadata": {},
   "outputs": [],
   "source": [
    "bridging_table.to_excel(\"C:/Users/MioPC/Documents/GPS_bridging_table.xlsx\")"
   ]
  },
  {
   "cell_type": "markdown",
   "metadata": {},
   "source": [
    "##  Exercise 9)"
   ]
  },
  {
   "cell_type": "markdown",
   "metadata": {},
   "source": [
    "> ###  For each genre, create a new column of the original dataframe <br> The new columns must have boolean values (True if the app has a given genre)"
   ]
  },
  {
   "cell_type": "markdown",
   "metadata": {},
   "source": [
    "Per ottenere quanto richiesto dalla consegna ho fatto ricorso a una funzione, che ho chiamato \"*generate_dummies*\". <br>\n",
    "L'idea di fondo è quella di creare delle colonne riferite ai diversi generi presenti nel dataset e di avere nelle celle relative a queste colonne un valore booleano, quindi o *True* o *False*, in base all'applicazione considerata. <br>\n",
    "Bisogna precisare che in riferimento ai generi viene sfruttata la distinzione tra *First* e *Second Genre* elaborata durante l'**Exercise 8)**."
   ]
  },
  {
   "cell_type": "code",
   "execution_count": 50,
   "metadata": {},
   "outputs": [],
   "source": [
    "def generate_dummies(df, colname):\n",
    "    boolean_clmn = pd.get_dummies(df[colname].apply(pd.Series).stack()).sum(level = 0)\n",
    "    boolean_clmn.drop(boolean_clmn.columns[0], axis = 1, inplace = True)\n",
    "    boole = pd.concat([df, boolean_clmn.astype(bool)], axis = 1)\n",
    "    boole.drop(colname, axis = 1, inplace = True)\n",
    "    return boole"
   ]
  },
  {
   "cell_type": "markdown",
   "metadata": {},
   "source": [
    "Volendo fare un esempio per confermare l'avvenuta modifica:"
   ]
  },
  {
   "cell_type": "code",
   "execution_count": 51,
   "metadata": {},
   "outputs": [
    {
     "data": {
      "text/html": [
       "<div>\n",
       "<style scoped>\n",
       "    .dataframe tbody tr th:only-of-type {\n",
       "        vertical-align: middle;\n",
       "    }\n",
       "\n",
       "    .dataframe tbody tr th {\n",
       "        vertical-align: top;\n",
       "    }\n",
       "\n",
       "    .dataframe thead th {\n",
       "        text-align: right;\n",
       "    }\n",
       "</style>\n",
       "<table border=\"1\" class=\"dataframe\">\n",
       "  <thead>\n",
       "    <tr style=\"text-align: right;\">\n",
       "      <th></th>\n",
       "      <th>App</th>\n",
       "      <th>Genres</th>\n",
       "      <th>Creativity</th>\n",
       "      <th>Education</th>\n",
       "      <th>Art &amp; Design</th>\n",
       "      <th>Video Players &amp; Editors</th>\n",
       "      <th>Pretend Play</th>\n",
       "      <th>Finance</th>\n",
       "      <th>Strategy</th>\n",
       "      <th>Trivia</th>\n",
       "    </tr>\n",
       "  </thead>\n",
       "  <tbody>\n",
       "    <tr>\n",
       "      <th>3712</th>\n",
       "      <td>Video Editor</td>\n",
       "      <td>Video Players &amp; Editors;Creativity</td>\n",
       "      <td>True</td>\n",
       "      <td>False</td>\n",
       "      <td>False</td>\n",
       "      <td>True</td>\n",
       "      <td>False</td>\n",
       "      <td>False</td>\n",
       "      <td>False</td>\n",
       "      <td>False</td>\n",
       "    </tr>\n",
       "  </tbody>\n",
       "</table>\n",
       "</div>"
      ],
      "text/plain": [
       "               App                              Genres  Creativity  Education  \\\n",
       "3712  Video Editor  Video Players & Editors;Creativity        True      False   \n",
       "\n",
       "      Art & Design  Video Players & Editors  Pretend Play  Finance  Strategy  \\\n",
       "3712         False                     True         False    False     False   \n",
       "\n",
       "      Trivia  \n",
       "3712   False  "
      ]
     },
     "execution_count": 51,
     "metadata": {},
     "output_type": "execute_result"
    }
   ],
   "source": [
    "is_that_genre = generate_dummies(play_store_nan, 'Genre_Splitter')\n",
    "is_that_genre[is_that_genre['App'] == 'Video Editor'][['App', 'Genres', 'Creativity', 'Education', 'Art & Design', 'Video Players & Editors', 'Pretend Play', 'Finance', 'Strategy', 'Trivia']]"
   ]
  },
  {
   "cell_type": "markdown",
   "metadata": {},
   "source": [
    "##  Exercise 10)"
   ]
  },
  {
   "cell_type": "markdown",
   "metadata": {},
   "source": [
    "> ###  For each genre, compute the average rating <br>What is the genre with highest average?"
   ]
  },
  {
   "cell_type": "markdown",
   "metadata": {},
   "source": [
    "La prima cosa che possiamo fare è controllare l'esistenza di valori mancanti nella colonna \"_Rating_\". <br>\n",
    "Non comprometterà lo svolgimento di questo punto del progetto, ma è comunque meglio essere consapevoli dei valori con cui avremo a che fare."
   ]
  },
  {
   "cell_type": "code",
   "execution_count": 52,
   "metadata": {},
   "outputs": [
    {
     "data": {
      "text/plain": [
       "True"
      ]
     },
     "execution_count": 52,
     "metadata": {},
     "output_type": "execute_result"
    }
   ],
   "source": [
    "play_store_nan['Rating'].isna().any()"
   ]
  },
  {
   "cell_type": "markdown",
   "metadata": {},
   "source": [
    "Procedendo allo svolgimento del punto in esame, basterà unire il dataset originario (con le modifiche strutturali fino a qui applicate, ovviamente) con la tabella ponte (\"*bridging_table*\") creata durante l'**Exercise 9)**. <br>\n",
    "In questo modo otteniamo una tabella contenente i rating delle varie applicazioni, da cui si può ottenere facilmente un rating medio per ogni genere. <br>\n",
    "L'utilizzo della \"*bridging_table*\" viene giustificato dall'intento di preservare la distinzione dei generi tra _First_ e _Second_ rispetto alla codifica originaria data da \"_Genres_\"."
   ]
  },
  {
   "cell_type": "code",
   "execution_count": 53,
   "metadata": {
    "scrolled": false
   },
   "outputs": [
    {
     "data": {
      "text/html": [
       "<div>\n",
       "<style scoped>\n",
       "    .dataframe tbody tr th:only-of-type {\n",
       "        vertical-align: middle;\n",
       "    }\n",
       "\n",
       "    .dataframe tbody tr th {\n",
       "        vertical-align: top;\n",
       "    }\n",
       "\n",
       "    .dataframe thead th {\n",
       "        text-align: right;\n",
       "    }\n",
       "</style>\n",
       "<table border=\"1\" class=\"dataframe\">\n",
       "  <thead>\n",
       "    <tr style=\"text-align: right;\">\n",
       "      <th></th>\n",
       "      <th>App</th>\n",
       "      <th>Genres</th>\n",
       "      <th>Main Genre</th>\n",
       "    </tr>\n",
       "  </thead>\n",
       "  <tbody>\n",
       "    <tr>\n",
       "      <th>0</th>\n",
       "      <td>Facebook</td>\n",
       "      <td>Social</td>\n",
       "      <td>Social</td>\n",
       "    </tr>\n",
       "    <tr>\n",
       "      <th>1</th>\n",
       "      <td>WhatsApp Messenger</td>\n",
       "      <td>Communication</td>\n",
       "      <td>Communication</td>\n",
       "    </tr>\n",
       "    <tr>\n",
       "      <th>2</th>\n",
       "      <td>Instagram</td>\n",
       "      <td>Social</td>\n",
       "      <td>Social</td>\n",
       "    </tr>\n",
       "    <tr>\n",
       "      <th>3</th>\n",
       "      <td>Messenger – Text and Video Chat for Free</td>\n",
       "      <td>Communication</td>\n",
       "      <td>Communication</td>\n",
       "    </tr>\n",
       "    <tr>\n",
       "      <th>4</th>\n",
       "      <td>Clash of Clans</td>\n",
       "      <td>Strategy</td>\n",
       "      <td>Strategy</td>\n",
       "    </tr>\n",
       "    <tr>\n",
       "      <th>5</th>\n",
       "      <td>Clean Master- Space Cleaner &amp; Antivirus</td>\n",
       "      <td>Tools</td>\n",
       "      <td>Tools</td>\n",
       "    </tr>\n",
       "    <tr>\n",
       "      <th>6</th>\n",
       "      <td>Subway Surfers</td>\n",
       "      <td>Arcade</td>\n",
       "      <td>Arcade</td>\n",
       "    </tr>\n",
       "    <tr>\n",
       "      <th>7</th>\n",
       "      <td>YouTube</td>\n",
       "      <td>Video Players &amp; Editors</td>\n",
       "      <td>Video Players &amp; Editors</td>\n",
       "    </tr>\n",
       "    <tr>\n",
       "      <th>8</th>\n",
       "      <td>Security Master - Antivirus, VPN, AppLock, Boo...</td>\n",
       "      <td>Tools</td>\n",
       "      <td>Tools</td>\n",
       "    </tr>\n",
       "    <tr>\n",
       "      <th>9</th>\n",
       "      <td>Clash Royale</td>\n",
       "      <td>Strategy</td>\n",
       "      <td>Strategy</td>\n",
       "    </tr>\n",
       "    <tr>\n",
       "      <th>10</th>\n",
       "      <td>Candy Crush Saga</td>\n",
       "      <td>Casual</td>\n",
       "      <td>Casual</td>\n",
       "    </tr>\n",
       "    <tr>\n",
       "      <th>11</th>\n",
       "      <td>UC Browser - Fast Download Private &amp; Secure</td>\n",
       "      <td>Communication</td>\n",
       "      <td>Communication</td>\n",
       "    </tr>\n",
       "    <tr>\n",
       "      <th>12</th>\n",
       "      <td>Snapchat</td>\n",
       "      <td>Social</td>\n",
       "      <td>Social</td>\n",
       "    </tr>\n",
       "    <tr>\n",
       "      <th>13</th>\n",
       "      <td>360 Security - Free Antivirus, Booster, Cleaner</td>\n",
       "      <td>Tools</td>\n",
       "      <td>Tools</td>\n",
       "    </tr>\n",
       "    <tr>\n",
       "      <th>14</th>\n",
       "      <td>My Talking Tom</td>\n",
       "      <td>Casual</td>\n",
       "      <td>Casual</td>\n",
       "    </tr>\n",
       "    <tr>\n",
       "      <th>15</th>\n",
       "      <td>8 Ball Pool</td>\n",
       "      <td>Sports</td>\n",
       "      <td>Sports</td>\n",
       "    </tr>\n",
       "    <tr>\n",
       "      <th>16</th>\n",
       "      <td>DU Battery Saver - Battery Charger &amp; Battery Life</td>\n",
       "      <td>Tools</td>\n",
       "      <td>Tools</td>\n",
       "    </tr>\n",
       "    <tr>\n",
       "      <th>17</th>\n",
       "      <td>BBM - Free Calls &amp; Messages</td>\n",
       "      <td>Communication</td>\n",
       "      <td>Communication</td>\n",
       "    </tr>\n",
       "    <tr>\n",
       "      <th>18</th>\n",
       "      <td>Cache Cleaner-DU Speed Booster (booster &amp; clea...</td>\n",
       "      <td>Tools</td>\n",
       "      <td>Tools</td>\n",
       "    </tr>\n",
       "    <tr>\n",
       "      <th>19</th>\n",
       "      <td>Twitter</td>\n",
       "      <td>News &amp; Magazines</td>\n",
       "      <td>News &amp; Magazines</td>\n",
       "    </tr>\n",
       "    <tr>\n",
       "      <th>20</th>\n",
       "      <td>Viber Messenger</td>\n",
       "      <td>Communication</td>\n",
       "      <td>Communication</td>\n",
       "    </tr>\n",
       "    <tr>\n",
       "      <th>21</th>\n",
       "      <td>Shadow Fight 2</td>\n",
       "      <td>Action</td>\n",
       "      <td>Action</td>\n",
       "    </tr>\n",
       "    <tr>\n",
       "      <th>22</th>\n",
       "      <td>Google Photos</td>\n",
       "      <td>Photography</td>\n",
       "      <td>Photography</td>\n",
       "    </tr>\n",
       "    <tr>\n",
       "      <th>23</th>\n",
       "      <td>LINE: Free Calls &amp; Messages</td>\n",
       "      <td>Communication</td>\n",
       "      <td>Communication</td>\n",
       "    </tr>\n",
       "    <tr>\n",
       "      <th>24</th>\n",
       "      <td>Pou</td>\n",
       "      <td>Casual</td>\n",
       "      <td>Casual</td>\n",
       "    </tr>\n",
       "    <tr>\n",
       "      <th>25</th>\n",
       "      <td>Skype - free IM &amp; video calls</td>\n",
       "      <td>Communication</td>\n",
       "      <td>Communication</td>\n",
       "    </tr>\n",
       "    <tr>\n",
       "      <th>26</th>\n",
       "      <td>Pokémon GO</td>\n",
       "      <td>Adventure</td>\n",
       "      <td>Adventure</td>\n",
       "    </tr>\n",
       "    <tr>\n",
       "      <th>27</th>\n",
       "      <td>Minion Rush: Despicable Me Official Game</td>\n",
       "      <td>Casual;Action &amp; Adventure</td>\n",
       "      <td>Casual</td>\n",
       "    </tr>\n",
       "    <tr>\n",
       "      <th>28</th>\n",
       "      <td>Minion Rush: Despicable Me Official Game</td>\n",
       "      <td>Casual;Action &amp; Adventure</td>\n",
       "      <td>Action &amp; Adventure</td>\n",
       "    </tr>\n",
       "    <tr>\n",
       "      <th>29</th>\n",
       "      <td>Yes day</td>\n",
       "      <td>Casual</td>\n",
       "      <td>Casual</td>\n",
       "    </tr>\n",
       "    <tr>\n",
       "      <th>...</th>\n",
       "      <td>...</td>\n",
       "      <td>...</td>\n",
       "      <td>...</td>\n",
       "    </tr>\n",
       "    <tr>\n",
       "      <th>10021</th>\n",
       "      <td>25 Mins Ako ay may lobo Etc Pinoy Kid Song Off...</td>\n",
       "      <td>Entertainment</td>\n",
       "      <td>Entertainment</td>\n",
       "    </tr>\n",
       "    <tr>\n",
       "      <th>10022</th>\n",
       "      <td>Ako ay may lobo Pinoy Kid Song Offline</td>\n",
       "      <td>Entertainment</td>\n",
       "      <td>Entertainment</td>\n",
       "    </tr>\n",
       "    <tr>\n",
       "      <th>10023</th>\n",
       "      <td>Mehmet Emin Ay İlahileri</td>\n",
       "      <td>Entertainment</td>\n",
       "      <td>Entertainment</td>\n",
       "    </tr>\n",
       "    <tr>\n",
       "      <th>10024</th>\n",
       "      <td>AY Oakmont</td>\n",
       "      <td>Health &amp; Fitness</td>\n",
       "      <td>Health &amp; Fitness</td>\n",
       "    </tr>\n",
       "    <tr>\n",
       "      <th>10025</th>\n",
       "      <td>YAKALA AY</td>\n",
       "      <td>Arcade</td>\n",
       "      <td>Arcade</td>\n",
       "    </tr>\n",
       "    <tr>\n",
       "      <th>10026</th>\n",
       "      <td>Ay Vamos - PJ. Balvin - Piano</td>\n",
       "      <td>Arcade</td>\n",
       "      <td>Arcade</td>\n",
       "    </tr>\n",
       "    <tr>\n",
       "      <th>10027</th>\n",
       "      <td>Ay Peruk</td>\n",
       "      <td>Business</td>\n",
       "      <td>Business</td>\n",
       "    </tr>\n",
       "    <tr>\n",
       "      <th>10028</th>\n",
       "      <td>BA SALES</td>\n",
       "      <td>Communication</td>\n",
       "      <td>Communication</td>\n",
       "    </tr>\n",
       "    <tr>\n",
       "      <th>10029</th>\n",
       "      <td>Curso Básico y Avanzado la Fe de Jesús Audio-T...</td>\n",
       "      <td>Education</td>\n",
       "      <td>Education</td>\n",
       "    </tr>\n",
       "    <tr>\n",
       "      <th>10030</th>\n",
       "      <td>FE Connect Drive-Tech</td>\n",
       "      <td>Business</td>\n",
       "      <td>Business</td>\n",
       "    </tr>\n",
       "    <tr>\n",
       "      <th>10031</th>\n",
       "      <td>BlueDV AMBE</td>\n",
       "      <td>Communication</td>\n",
       "      <td>Communication</td>\n",
       "    </tr>\n",
       "    <tr>\n",
       "      <th>10032</th>\n",
       "      <td>PAY DT</td>\n",
       "      <td>Business</td>\n",
       "      <td>Business</td>\n",
       "    </tr>\n",
       "    <tr>\n",
       "      <th>10033</th>\n",
       "      <td>DV Portfolio</td>\n",
       "      <td>Tools</td>\n",
       "      <td>Tools</td>\n",
       "    </tr>\n",
       "    <tr>\n",
       "      <th>10034</th>\n",
       "      <td>AV Anthony's</td>\n",
       "      <td>Food &amp; Drink</td>\n",
       "      <td>Food &amp; Drink</td>\n",
       "    </tr>\n",
       "    <tr>\n",
       "      <th>10035</th>\n",
       "      <td>Nougat Android 7 Launcher : AW</td>\n",
       "      <td>Personalization</td>\n",
       "      <td>Personalization</td>\n",
       "    </tr>\n",
       "    <tr>\n",
       "      <th>10036</th>\n",
       "      <td>AW Connect</td>\n",
       "      <td>Education</td>\n",
       "      <td>Education</td>\n",
       "    </tr>\n",
       "    <tr>\n",
       "      <th>10037</th>\n",
       "      <td>AW</td>\n",
       "      <td>Strategy</td>\n",
       "      <td>Strategy</td>\n",
       "    </tr>\n",
       "    <tr>\n",
       "      <th>10038</th>\n",
       "      <td>FE Other Disciplines Engineering Exam Prep</td>\n",
       "      <td>Education</td>\n",
       "      <td>Education</td>\n",
       "    </tr>\n",
       "    <tr>\n",
       "      <th>10039</th>\n",
       "      <td>Caprock Santa Fe Credit Union</td>\n",
       "      <td>Finance</td>\n",
       "      <td>Finance</td>\n",
       "    </tr>\n",
       "    <tr>\n",
       "      <th>10040</th>\n",
       "      <td>AX Timesheets App for Dynamics</td>\n",
       "      <td>Business</td>\n",
       "      <td>Business</td>\n",
       "    </tr>\n",
       "    <tr>\n",
       "      <th>10041</th>\n",
       "      <td>AX Window</td>\n",
       "      <td>Tools</td>\n",
       "      <td>Tools</td>\n",
       "    </tr>\n",
       "    <tr>\n",
       "      <th>10042</th>\n",
       "      <td>INTERACTIVE CALCULUS PRO</td>\n",
       "      <td>Education</td>\n",
       "      <td>Education</td>\n",
       "    </tr>\n",
       "    <tr>\n",
       "      <th>10043</th>\n",
       "      <td>DT Technologies</td>\n",
       "      <td>Shopping</td>\n",
       "      <td>Shopping</td>\n",
       "    </tr>\n",
       "    <tr>\n",
       "      <th>10044</th>\n",
       "      <td>DT Freight</td>\n",
       "      <td>Productivity</td>\n",
       "      <td>Productivity</td>\n",
       "    </tr>\n",
       "    <tr>\n",
       "      <th>10045</th>\n",
       "      <td>FE Connect Fhoton</td>\n",
       "      <td>Tools</td>\n",
       "      <td>Tools</td>\n",
       "    </tr>\n",
       "    <tr>\n",
       "      <th>10046</th>\n",
       "      <td>Eat Right Diet (by Dt Shreya's Family Diet Cli...</td>\n",
       "      <td>Health &amp; Fitness</td>\n",
       "      <td>Health &amp; Fitness</td>\n",
       "    </tr>\n",
       "    <tr>\n",
       "      <th>10047</th>\n",
       "      <td>Test Application DT 02</td>\n",
       "      <td>Art &amp; Design</td>\n",
       "      <td>Art &amp; Design</td>\n",
       "    </tr>\n",
       "    <tr>\n",
       "      <th>10048</th>\n",
       "      <td>Santa Fe Espresso &amp; News</td>\n",
       "      <td>Food &amp; Drink</td>\n",
       "      <td>Food &amp; Drink</td>\n",
       "    </tr>\n",
       "    <tr>\n",
       "      <th>10049</th>\n",
       "      <td>Santa Fe Sentry</td>\n",
       "      <td>House &amp; Home</td>\n",
       "      <td>House &amp; Home</td>\n",
       "    </tr>\n",
       "    <tr>\n",
       "      <th>10050</th>\n",
       "      <td>Basic Strategy Training BJ 21</td>\n",
       "      <td>Casino</td>\n",
       "      <td>Casino</td>\n",
       "    </tr>\n",
       "  </tbody>\n",
       "</table>\n",
       "<p>10051 rows × 3 columns</p>\n",
       "</div>"
      ],
      "text/plain": [
       "                                                     App  \\\n",
       "0                                               Facebook   \n",
       "1                                     WhatsApp Messenger   \n",
       "2                                              Instagram   \n",
       "3               Messenger – Text and Video Chat for Free   \n",
       "4                                         Clash of Clans   \n",
       "5                Clean Master- Space Cleaner & Antivirus   \n",
       "6                                         Subway Surfers   \n",
       "7                                                YouTube   \n",
       "8      Security Master - Antivirus, VPN, AppLock, Boo...   \n",
       "9                                           Clash Royale   \n",
       "10                                      Candy Crush Saga   \n",
       "11           UC Browser - Fast Download Private & Secure   \n",
       "12                                              Snapchat   \n",
       "13       360 Security - Free Antivirus, Booster, Cleaner   \n",
       "14                                        My Talking Tom   \n",
       "15                                           8 Ball Pool   \n",
       "16     DU Battery Saver - Battery Charger & Battery Life   \n",
       "17                           BBM - Free Calls & Messages   \n",
       "18     Cache Cleaner-DU Speed Booster (booster & clea...   \n",
       "19                                               Twitter   \n",
       "20                                       Viber Messenger   \n",
       "21                                        Shadow Fight 2   \n",
       "22                                         Google Photos   \n",
       "23                           LINE: Free Calls & Messages   \n",
       "24                                                   Pou   \n",
       "25                         Skype - free IM & video calls   \n",
       "26                                            Pokémon GO   \n",
       "27              Minion Rush: Despicable Me Official Game   \n",
       "28              Minion Rush: Despicable Me Official Game   \n",
       "29                                               Yes day   \n",
       "...                                                  ...   \n",
       "10021  25 Mins Ako ay may lobo Etc Pinoy Kid Song Off...   \n",
       "10022             Ako ay may lobo Pinoy Kid Song Offline   \n",
       "10023                           Mehmet Emin Ay İlahileri   \n",
       "10024                                         AY Oakmont   \n",
       "10025                                          YAKALA AY   \n",
       "10026                      Ay Vamos - PJ. Balvin - Piano   \n",
       "10027                                           Ay Peruk   \n",
       "10028                                           BA SALES   \n",
       "10029  Curso Básico y Avanzado la Fe de Jesús Audio-T...   \n",
       "10030                              FE Connect Drive-Tech   \n",
       "10031                                        BlueDV AMBE   \n",
       "10032                                             PAY DT   \n",
       "10033                                       DV Portfolio   \n",
       "10034                                       AV Anthony's   \n",
       "10035                     Nougat Android 7 Launcher : AW   \n",
       "10036                                         AW Connect   \n",
       "10037                                                 AW   \n",
       "10038         FE Other Disciplines Engineering Exam Prep   \n",
       "10039                      Caprock Santa Fe Credit Union   \n",
       "10040                     AX Timesheets App for Dynamics   \n",
       "10041                                          AX Window   \n",
       "10042                           INTERACTIVE CALCULUS PRO   \n",
       "10043                                    DT Technologies   \n",
       "10044                                         DT Freight   \n",
       "10045                                  FE Connect Fhoton   \n",
       "10046  Eat Right Diet (by Dt Shreya's Family Diet Cli...   \n",
       "10047                             Test Application DT 02   \n",
       "10048                           Santa Fe Espresso & News   \n",
       "10049                                    Santa Fe Sentry   \n",
       "10050                      Basic Strategy Training BJ 21   \n",
       "\n",
       "                          Genres               Main Genre  \n",
       "0                         Social                   Social  \n",
       "1                  Communication            Communication  \n",
       "2                         Social                   Social  \n",
       "3                  Communication            Communication  \n",
       "4                       Strategy                 Strategy  \n",
       "5                          Tools                    Tools  \n",
       "6                         Arcade                   Arcade  \n",
       "7        Video Players & Editors  Video Players & Editors  \n",
       "8                          Tools                    Tools  \n",
       "9                       Strategy                 Strategy  \n",
       "10                        Casual                   Casual  \n",
       "11                 Communication            Communication  \n",
       "12                        Social                   Social  \n",
       "13                         Tools                    Tools  \n",
       "14                        Casual                   Casual  \n",
       "15                        Sports                   Sports  \n",
       "16                         Tools                    Tools  \n",
       "17                 Communication            Communication  \n",
       "18                         Tools                    Tools  \n",
       "19              News & Magazines         News & Magazines  \n",
       "20                 Communication            Communication  \n",
       "21                        Action                   Action  \n",
       "22                   Photography              Photography  \n",
       "23                 Communication            Communication  \n",
       "24                        Casual                   Casual  \n",
       "25                 Communication            Communication  \n",
       "26                     Adventure                Adventure  \n",
       "27     Casual;Action & Adventure                   Casual  \n",
       "28     Casual;Action & Adventure       Action & Adventure  \n",
       "29                        Casual                   Casual  \n",
       "...                          ...                      ...  \n",
       "10021              Entertainment            Entertainment  \n",
       "10022              Entertainment            Entertainment  \n",
       "10023              Entertainment            Entertainment  \n",
       "10024           Health & Fitness         Health & Fitness  \n",
       "10025                     Arcade                   Arcade  \n",
       "10026                     Arcade                   Arcade  \n",
       "10027                   Business                 Business  \n",
       "10028              Communication            Communication  \n",
       "10029                  Education                Education  \n",
       "10030                   Business                 Business  \n",
       "10031              Communication            Communication  \n",
       "10032                   Business                 Business  \n",
       "10033                      Tools                    Tools  \n",
       "10034               Food & Drink             Food & Drink  \n",
       "10035            Personalization          Personalization  \n",
       "10036                  Education                Education  \n",
       "10037                   Strategy                 Strategy  \n",
       "10038                  Education                Education  \n",
       "10039                    Finance                  Finance  \n",
       "10040                   Business                 Business  \n",
       "10041                      Tools                    Tools  \n",
       "10042                  Education                Education  \n",
       "10043                   Shopping                 Shopping  \n",
       "10044               Productivity             Productivity  \n",
       "10045                      Tools                    Tools  \n",
       "10046           Health & Fitness         Health & Fitness  \n",
       "10047               Art & Design             Art & Design  \n",
       "10048               Food & Drink             Food & Drink  \n",
       "10049               House & Home             House & Home  \n",
       "10050                     Casino                   Casino  \n",
       "\n",
       "[10051 rows x 3 columns]"
      ]
     },
     "execution_count": 53,
     "metadata": {},
     "output_type": "execute_result"
    }
   ],
   "source": [
    "rating_table = bridging_table.merge(play_store_nan, on = 'App')\n",
    "rating_table[['App', 'Genres', 'Main Genre']]"
   ]
  },
  {
   "cell_type": "markdown",
   "metadata": {},
   "source": [
    "Di seguito utilizzo una \"_groupby_\" al fine di riuscire a ottenere il rating corrispondente a ogni singolo genere presente nel dataset, senza avere ripetizioni sulle righe."
   ]
  },
  {
   "cell_type": "code",
   "execution_count": 54,
   "metadata": {},
   "outputs": [
    {
     "data": {
      "text/html": [
       "<div>\n",
       "<style scoped>\n",
       "    .dataframe tbody tr th:only-of-type {\n",
       "        vertical-align: middle;\n",
       "    }\n",
       "\n",
       "    .dataframe tbody tr th {\n",
       "        vertical-align: top;\n",
       "    }\n",
       "\n",
       "    .dataframe thead th {\n",
       "        text-align: right;\n",
       "    }\n",
       "</style>\n",
       "<table border=\"1\" class=\"dataframe\">\n",
       "  <thead>\n",
       "    <tr style=\"text-align: right;\">\n",
       "      <th></th>\n",
       "      <th>Rating</th>\n",
       "    </tr>\n",
       "    <tr>\n",
       "      <th>Main Genre</th>\n",
       "      <th></th>\n",
       "    </tr>\n",
       "  </thead>\n",
       "  <tbody>\n",
       "    <tr>\n",
       "      <th>Events</th>\n",
       "      <td>4.435556</td>\n",
       "    </tr>\n",
       "    <tr>\n",
       "      <th>Puzzle</th>\n",
       "      <td>4.370732</td>\n",
       "    </tr>\n",
       "    <tr>\n",
       "      <th>Brain Games</th>\n",
       "      <td>4.358065</td>\n",
       "    </tr>\n",
       "    <tr>\n",
       "      <th>Art &amp; Design</th>\n",
       "      <td>4.350000</td>\n",
       "    </tr>\n",
       "    <tr>\n",
       "      <th>Books &amp; Reference</th>\n",
       "      <td>4.343275</td>\n",
       "    </tr>\n",
       "    <tr>\n",
       "      <th>Personalization</th>\n",
       "      <td>4.332215</td>\n",
       "    </tr>\n",
       "    <tr>\n",
       "      <th>Word</th>\n",
       "      <td>4.318182</td>\n",
       "    </tr>\n",
       "    <tr>\n",
       "      <th>Creativity</th>\n",
       "      <td>4.306250</td>\n",
       "    </tr>\n",
       "    <tr>\n",
       "      <th>Music &amp; Audio</th>\n",
       "      <td>4.300000</td>\n",
       "    </tr>\n",
       "    <tr>\n",
       "      <th>Parenting</th>\n",
       "      <td>4.300000</td>\n",
       "    </tr>\n",
       "    <tr>\n",
       "      <th>Board</th>\n",
       "      <td>4.291228</td>\n",
       "    </tr>\n",
       "    <tr>\n",
       "      <th>Education</th>\n",
       "      <td>4.290290</td>\n",
       "    </tr>\n",
       "    <tr>\n",
       "      <th>Action &amp; Adventure</th>\n",
       "      <td>4.288542</td>\n",
       "    </tr>\n",
       "    <tr>\n",
       "      <th>Casino</th>\n",
       "      <td>4.286486</td>\n",
       "    </tr>\n",
       "    <tr>\n",
       "      <th>Beauty</th>\n",
       "      <td>4.278571</td>\n",
       "    </tr>\n",
       "    <tr>\n",
       "      <th>Arcade</th>\n",
       "      <td>4.277838</td>\n",
       "    </tr>\n",
       "    <tr>\n",
       "      <th>Role Playing</th>\n",
       "      <td>4.272072</td>\n",
       "    </tr>\n",
       "  </tbody>\n",
       "</table>\n",
       "</div>"
      ],
      "text/plain": [
       "                      Rating\n",
       "Main Genre                  \n",
       "Events              4.435556\n",
       "Puzzle              4.370732\n",
       "Brain Games         4.358065\n",
       "Art & Design        4.350000\n",
       "Books & Reference   4.343275\n",
       "Personalization     4.332215\n",
       "Word                4.318182\n",
       "Creativity          4.306250\n",
       "Music & Audio       4.300000\n",
       "Parenting           4.300000\n",
       "Board               4.291228\n",
       "Education           4.290290\n",
       "Action & Adventure  4.288542\n",
       "Casino              4.286486\n",
       "Beauty              4.278571\n",
       "Arcade              4.277838\n",
       "Role Playing        4.272072"
      ]
     },
     "execution_count": 54,
     "metadata": {},
     "output_type": "execute_result"
    }
   ],
   "source": [
    "rating_table.groupby('Main Genre')[['Rating']].mean().sort_values(by = 'Rating', ascending = False).head(17)"
   ]
  },
  {
   "cell_type": "markdown",
   "metadata": {},
   "source": [
    "Quindi per ottenere il genere con il rating più alto usiamo la funzione \"_idxmax()_\", come mostrato di seguito:"
   ]
  },
  {
   "cell_type": "code",
   "execution_count": 55,
   "metadata": {},
   "outputs": [
    {
     "data": {
      "text/plain": [
       "'Events'"
      ]
     },
     "execution_count": 55,
     "metadata": {},
     "output_type": "execute_result"
    }
   ],
   "source": [
    "rating_table.groupby('Main Genre')['Rating'].mean().idxmax()"
   ]
  },
  {
   "cell_type": "markdown",
   "metadata": {},
   "source": [
    "Mentre per ottenere il rating più alto, eseguiamo il comando \"_max()_\":"
   ]
  },
  {
   "cell_type": "code",
   "execution_count": 56,
   "metadata": {},
   "outputs": [
    {
     "data": {
      "text/plain": [
       "4.435555555555556"
      ]
     },
     "execution_count": 56,
     "metadata": {},
     "output_type": "execute_result"
    }
   ],
   "source": [
    "rating_table.groupby('Main Genre')['Rating'].mean().max()"
   ]
  },
  {
   "cell_type": "markdown",
   "metadata": {},
   "source": [
    "Una volta ottenuti i rispettivi valori, volendo mettere tutto insieme, sarà sufficiente eseguire il seguente comando:"
   ]
  },
  {
   "cell_type": "code",
   "execution_count": 57,
   "metadata": {},
   "outputs": [
    {
     "name": "stdout",
     "output_type": "stream",
     "text": [
      "'Events' è il genere con un rating più alto, il quale è pari a : 4.436 (arrotondato a 4 cifre significative)\n"
     ]
    }
   ],
   "source": [
    "print(\"'{}' è il genere con un rating più alto, il quale è pari a : {} (arrotondato a 4 cifre significative)\"\n",
    "            .format(rating_table.groupby('Main Genre')['Rating'].mean().idxmax(),\n",
    "            rating_table.groupby('Main Genre')['Rating'].mean().max().round(3)))"
   ]
  },
  {
   "cell_type": "markdown",
   "metadata": {},
   "source": [
    "##  Exercise 11)"
   ]
  },
  {
   "cell_type": "markdown",
   "metadata": {},
   "source": [
    "> ###  For each app, compute the approximate income, obtain as a product of number of installs and price"
   ]
  },
  {
   "cell_type": "markdown",
   "metadata": {},
   "source": [
    "Per lo svolgimento di questo punto procedo alla ripulitura dell'attributo \"_Price_\" da eventuali simboli o caratteri non numerici, creando un campo \"_Finished Price_\", il quale viene in seguito convertito a variabile numerica (non più stringa)."
   ]
  },
  {
   "cell_type": "code",
   "execution_count": 58,
   "metadata": {
    "scrolled": false
   },
   "outputs": [
    {
     "data": {
      "text/html": [
       "<div>\n",
       "<style scoped>\n",
       "    .dataframe tbody tr th:only-of-type {\n",
       "        vertical-align: middle;\n",
       "    }\n",
       "\n",
       "    .dataframe tbody tr th {\n",
       "        vertical-align: top;\n",
       "    }\n",
       "\n",
       "    .dataframe thead th {\n",
       "        text-align: right;\n",
       "    }\n",
       "</style>\n",
       "<table border=\"1\" class=\"dataframe\">\n",
       "  <thead>\n",
       "    <tr style=\"text-align: right;\">\n",
       "      <th></th>\n",
       "      <th>App</th>\n",
       "      <th>Finished Price</th>\n",
       "      <th>Price</th>\n",
       "    </tr>\n",
       "  </thead>\n",
       "  <tbody>\n",
       "    <tr>\n",
       "      <th>4367</th>\n",
       "      <td>I'm Rich - Trump Edition</td>\n",
       "      <td>400.00</td>\n",
       "      <td>$400.00</td>\n",
       "    </tr>\n",
       "    <tr>\n",
       "      <th>5362</th>\n",
       "      <td>I Am Rich Pro</td>\n",
       "      <td>399.99</td>\n",
       "      <td>$399.99</td>\n",
       "    </tr>\n",
       "    <tr>\n",
       "      <th>4197</th>\n",
       "      <td>most expensive app (H)</td>\n",
       "      <td>399.99</td>\n",
       "      <td>$399.99</td>\n",
       "    </tr>\n",
       "    <tr>\n",
       "      <th>9934</th>\n",
       "      <td>I'm Rich/Eu sou Rico/أنا غني/我很有錢</td>\n",
       "      <td>399.99</td>\n",
       "      <td>$399.99</td>\n",
       "    </tr>\n",
       "    <tr>\n",
       "      <th>5369</th>\n",
       "      <td>I am Rich</td>\n",
       "      <td>399.99</td>\n",
       "      <td>$399.99</td>\n",
       "    </tr>\n",
       "    <tr>\n",
       "      <th>5373</th>\n",
       "      <td>I AM RICH PRO PLUS</td>\n",
       "      <td>399.99</td>\n",
       "      <td>$399.99</td>\n",
       "    </tr>\n",
       "    <tr>\n",
       "      <th>5358</th>\n",
       "      <td>I am Rich!</td>\n",
       "      <td>399.99</td>\n",
       "      <td>$399.99</td>\n",
       "    </tr>\n",
       "    <tr>\n",
       "      <th>4362</th>\n",
       "      <td>💎 I'm rich</td>\n",
       "      <td>399.99</td>\n",
       "      <td>$399.99</td>\n",
       "    </tr>\n",
       "    <tr>\n",
       "      <th>5359</th>\n",
       "      <td>I am rich(premium)</td>\n",
       "      <td>399.99</td>\n",
       "      <td>$399.99</td>\n",
       "    </tr>\n",
       "    <tr>\n",
       "      <th>5354</th>\n",
       "      <td>I am Rich Plus</td>\n",
       "      <td>399.99</td>\n",
       "      <td>$399.99</td>\n",
       "    </tr>\n",
       "  </tbody>\n",
       "</table>\n",
       "</div>"
      ],
      "text/plain": [
       "                                    App  Finished Price    Price\n",
       "4367           I'm Rich - Trump Edition          400.00  $400.00\n",
       "5362                      I Am Rich Pro          399.99  $399.99\n",
       "4197             most expensive app (H)          399.99  $399.99\n",
       "9934  I'm Rich/Eu sou Rico/أنا غني/我很有錢          399.99  $399.99\n",
       "5369                          I am Rich          399.99  $399.99\n",
       "5373                 I AM RICH PRO PLUS          399.99  $399.99\n",
       "5358                         I am Rich!          399.99  $399.99\n",
       "4362                         💎 I'm rich          399.99  $399.99\n",
       "5359                 I am rich(premium)          399.99  $399.99\n",
       "5354                     I am Rich Plus          399.99  $399.99"
      ]
     },
     "execution_count": 58,
     "metadata": {},
     "output_type": "execute_result"
    }
   ],
   "source": [
    "play_store_nan['Finished Price'] = [re.sub('\\$', '', price) for price in play_store_nan['Price']]\n",
    "play_store_nan['Finished Price'] = play_store_nan['Finished Price'].apply(float)\n",
    "play_store_nan[['App', 'Finished Price', 'Price']].sort_values(by = 'Finished Price', ascending = False).head(10)"
   ]
  },
  {
   "cell_type": "markdown",
   "metadata": {},
   "source": [
    "In alternativa, avrei potuto definire una funzione in grado di convertire l'attributo \"_Price_\" in una variabile numerica come appena visto. <br>\n",
    "Non si avrebbe alcun cambiamento sul risultato, ma in termini di programmazione è esteticamente più appagante. <br>\n",
    "Qui di seguito la funzione:\n",
    "<br>\n",
    "\n",
    "```python\n",
    "price_to_float = re.compile('\\D*(?P<amount>\\d+\\.{0,1}\\d*)')\n",
    "\n",
    "def Convert(price):\n",
    "    found = price_to_float.search(price)\n",
    "    if found:\n",
    "        return float(found.group('amount'))\n",
    "    else:\n",
    "        return None\n",
    "\n",
    "play_store_nan['Price Number'] = play_store_nan.Price.apply(Convert)\n",
    "```"
   ]
  },
  {
   "cell_type": "markdown",
   "metadata": {},
   "source": [
    "Procedo quindi a calcolare il reddito approssimativo, ottenibile dall'acquisto e dalla conseguente installazione delle varie applicazioni. <br>\n",
    "I risultati verranno messi in una colonna denominata \"_Income_\"."
   ]
  },
  {
   "cell_type": "code",
   "execution_count": 59,
   "metadata": {
    "scrolled": true
   },
   "outputs": [
    {
     "data": {
      "text/html": [
       "<div>\n",
       "<style scoped>\n",
       "    .dataframe tbody tr th:only-of-type {\n",
       "        vertical-align: middle;\n",
       "    }\n",
       "\n",
       "    .dataframe tbody tr th {\n",
       "        vertical-align: top;\n",
       "    }\n",
       "\n",
       "    .dataframe thead th {\n",
       "        text-align: right;\n",
       "    }\n",
       "</style>\n",
       "<table border=\"1\" class=\"dataframe\">\n",
       "  <thead>\n",
       "    <tr style=\"text-align: right;\">\n",
       "      <th></th>\n",
       "      <th>App</th>\n",
       "      <th>Income</th>\n",
       "      <th>Price</th>\n",
       "      <th>N° of Installs</th>\n",
       "    </tr>\n",
       "  </thead>\n",
       "  <tbody>\n",
       "    <tr>\n",
       "      <th>2241</th>\n",
       "      <td>Minecraft</td>\n",
       "      <td>69900000.0</td>\n",
       "      <td>$6.99</td>\n",
       "      <td>10000000</td>\n",
       "    </tr>\n",
       "    <tr>\n",
       "      <th>5351</th>\n",
       "      <td>I am rich</td>\n",
       "      <td>39999000.0</td>\n",
       "      <td>$399.99</td>\n",
       "      <td>100000</td>\n",
       "    </tr>\n",
       "    <tr>\n",
       "      <th>5356</th>\n",
       "      <td>I Am Rich Premium</td>\n",
       "      <td>19999500.0</td>\n",
       "      <td>$399.99</td>\n",
       "      <td>50000</td>\n",
       "    </tr>\n",
       "    <tr>\n",
       "      <th>4034</th>\n",
       "      <td>Hitman Sniper</td>\n",
       "      <td>9900000.0</td>\n",
       "      <td>$0.99</td>\n",
       "      <td>10000000</td>\n",
       "    </tr>\n",
       "    <tr>\n",
       "      <th>7417</th>\n",
       "      <td>Grand Theft Auto: San Andreas</td>\n",
       "      <td>6990000.0</td>\n",
       "      <td>$6.99</td>\n",
       "      <td>1000000</td>\n",
       "    </tr>\n",
       "    <tr>\n",
       "      <th>2883</th>\n",
       "      <td>Facetune - For Free</td>\n",
       "      <td>5990000.0</td>\n",
       "      <td>$5.99</td>\n",
       "      <td>1000000</td>\n",
       "    </tr>\n",
       "    <tr>\n",
       "      <th>5578</th>\n",
       "      <td>Sleep as Android Unlock</td>\n",
       "      <td>5990000.0</td>\n",
       "      <td>$5.99</td>\n",
       "      <td>1000000</td>\n",
       "    </tr>\n",
       "    <tr>\n",
       "      <th>8804</th>\n",
       "      <td>DraStic DS Emulator</td>\n",
       "      <td>4990000.0</td>\n",
       "      <td>$4.99</td>\n",
       "      <td>1000000</td>\n",
       "    </tr>\n",
       "    <tr>\n",
       "      <th>4367</th>\n",
       "      <td>I'm Rich - Trump Edition</td>\n",
       "      <td>4000000.0</td>\n",
       "      <td>$400.00</td>\n",
       "      <td>10000</td>\n",
       "    </tr>\n",
       "    <tr>\n",
       "      <th>5354</th>\n",
       "      <td>I am Rich Plus</td>\n",
       "      <td>3999900.0</td>\n",
       "      <td>$399.99</td>\n",
       "      <td>10000</td>\n",
       "    </tr>\n",
       "  </tbody>\n",
       "</table>\n",
       "</div>"
      ],
      "text/plain": [
       "                                App      Income    Price  N° of Installs\n",
       "2241                      Minecraft  69900000.0    $6.99        10000000\n",
       "5351                      I am rich  39999000.0  $399.99          100000\n",
       "5356              I Am Rich Premium  19999500.0  $399.99           50000\n",
       "4034                  Hitman Sniper   9900000.0    $0.99        10000000\n",
       "7417  Grand Theft Auto: San Andreas   6990000.0    $6.99         1000000\n",
       "2883            Facetune - For Free   5990000.0    $5.99         1000000\n",
       "5578        Sleep as Android Unlock   5990000.0    $5.99         1000000\n",
       "8804            DraStic DS Emulator   4990000.0    $4.99         1000000\n",
       "4367       I'm Rich - Trump Edition   4000000.0  $400.00           10000\n",
       "5354                 I am Rich Plus   3999900.0  $399.99           10000"
      ]
     },
     "execution_count": 59,
     "metadata": {},
     "output_type": "execute_result"
    }
   ],
   "source": [
    "play_store_nan['Income'] = play_store_nan['Finished Price'] * play_store_nan['N° of Installs']\n",
    "#play_store_nan['Income'] = [re.sub('','$', str(income)) for income in play_store_nan['Income']]\n",
    "play_store_nan[['App', 'Income', 'Price', 'N° of Installs']].sort_values(by = 'Income', ascending = False).head(10)"
   ]
  },
  {
   "cell_type": "markdown",
   "metadata": {},
   "source": [
    "##  Exercise 12)"
   ]
  },
  {
   "cell_type": "markdown",
   "metadata": {},
   "source": [
    "> ###  For each app, compute its minimum and maximum ` Sentiment_polarity `"
   ]
  },
  {
   "cell_type": "code",
   "execution_count": 60,
   "metadata": {
    "scrolled": true
   },
   "outputs": [
    {
     "data": {
      "text/html": [
       "<div>\n",
       "<style scoped>\n",
       "    .dataframe tbody tr th:only-of-type {\n",
       "        vertical-align: middle;\n",
       "    }\n",
       "\n",
       "    .dataframe tbody tr th {\n",
       "        vertical-align: top;\n",
       "    }\n",
       "\n",
       "    .dataframe thead th {\n",
       "        text-align: right;\n",
       "    }\n",
       "</style>\n",
       "<table border=\"1\" class=\"dataframe\">\n",
       "  <thead>\n",
       "    <tr style=\"text-align: right;\">\n",
       "      <th></th>\n",
       "      <th>App</th>\n",
       "      <th>Sentiment</th>\n",
       "      <th>Sentiment_Polarity</th>\n",
       "    </tr>\n",
       "  </thead>\n",
       "  <tbody>\n",
       "    <tr>\n",
       "      <th>0</th>\n",
       "      <td>10 Best Foods for You</td>\n",
       "      <td>Positive</td>\n",
       "      <td>1.00</td>\n",
       "    </tr>\n",
       "    <tr>\n",
       "      <th>1</th>\n",
       "      <td>10 Best Foods for You</td>\n",
       "      <td>Positive</td>\n",
       "      <td>0.25</td>\n",
       "    </tr>\n",
       "    <tr>\n",
       "      <th>2</th>\n",
       "      <td>10 Best Foods for You</td>\n",
       "      <td>NaN</td>\n",
       "      <td>NaN</td>\n",
       "    </tr>\n",
       "    <tr>\n",
       "      <th>3</th>\n",
       "      <td>10 Best Foods for You</td>\n",
       "      <td>Positive</td>\n",
       "      <td>0.40</td>\n",
       "    </tr>\n",
       "    <tr>\n",
       "      <th>4</th>\n",
       "      <td>10 Best Foods for You</td>\n",
       "      <td>Positive</td>\n",
       "      <td>1.00</td>\n",
       "    </tr>\n",
       "    <tr>\n",
       "      <th>5</th>\n",
       "      <td>10 Best Foods for You</td>\n",
       "      <td>Positive</td>\n",
       "      <td>1.00</td>\n",
       "    </tr>\n",
       "    <tr>\n",
       "      <th>6</th>\n",
       "      <td>10 Best Foods for You</td>\n",
       "      <td>Positive</td>\n",
       "      <td>0.60</td>\n",
       "    </tr>\n",
       "    <tr>\n",
       "      <th>7</th>\n",
       "      <td>10 Best Foods for You</td>\n",
       "      <td>NaN</td>\n",
       "      <td>NaN</td>\n",
       "    </tr>\n",
       "    <tr>\n",
       "      <th>8</th>\n",
       "      <td>10 Best Foods for You</td>\n",
       "      <td>Neutral</td>\n",
       "      <td>0.00</td>\n",
       "    </tr>\n",
       "    <tr>\n",
       "      <th>9</th>\n",
       "      <td>10 Best Foods for You</td>\n",
       "      <td>Neutral</td>\n",
       "      <td>0.00</td>\n",
       "    </tr>\n",
       "  </tbody>\n",
       "</table>\n",
       "</div>"
      ],
      "text/plain": [
       "                     App Sentiment  Sentiment_Polarity\n",
       "0  10 Best Foods for You  Positive                1.00\n",
       "1  10 Best Foods for You  Positive                0.25\n",
       "2  10 Best Foods for You       NaN                 NaN\n",
       "3  10 Best Foods for You  Positive                0.40\n",
       "4  10 Best Foods for You  Positive                1.00\n",
       "5  10 Best Foods for You  Positive                1.00\n",
       "6  10 Best Foods for You  Positive                0.60\n",
       "7  10 Best Foods for You       NaN                 NaN\n",
       "8  10 Best Foods for You   Neutral                0.00\n",
       "9  10 Best Foods for You   Neutral                0.00"
      ]
     },
     "execution_count": 60,
     "metadata": {},
     "output_type": "execute_result"
    }
   ],
   "source": [
    "user_reviews[['App', 'Sentiment', 'Sentiment_Polarity']].head(10)"
   ]
  },
  {
   "cell_type": "markdown",
   "metadata": {},
   "source": [
    "Nonostante si possa scorgere dalla cella qui sopra, controlliamo la presenza o meno di valori nulli nel campo di interesse."
   ]
  },
  {
   "cell_type": "code",
   "execution_count": 61,
   "metadata": {},
   "outputs": [
    {
     "data": {
      "text/plain": [
       "True"
      ]
     },
     "execution_count": 61,
     "metadata": {},
     "output_type": "execute_result"
    }
   ],
   "source": [
    "user_reviews['Sentiment_Polarity'].isna().any()"
   ]
  },
  {
   "cell_type": "markdown",
   "metadata": {},
   "source": [
    "Anche in questo caso la presenza di valori nulli non dovrebbe crearci problemi, dal momento che con l'approccio che andremo a utilizzare, e cioè utilizzando le funzioni \"_min()_\" e \"_max()_\", questi valori verrebbero utilizzati solo nel caso in cui non ce ne fossero altri disponibili."
   ]
  },
  {
   "cell_type": "markdown",
   "metadata": {},
   "source": [
    "Ora inizio ad affrontare l'esercizio cercando come prima cosa di ottenere la \"_Sentiment Polarity_\" minima per ogni applicazione.<br>\n",
    "Svolgo quindi i seguenti passaggi:<br>\n",
    "&nbsp;&nbsp;&nbsp;&nbsp;&nbsp; i) Eseguo una \"*groupby*\" sul dataset e applico la funzione \"*min*\";<br>\n",
    "&nbsp;&nbsp;&nbsp;&nbsp;&nbsp; ii) Converto il risultato così ottenuto in un dataframe, per eseguire più facilmente il merge che dovrò effettuare più avanti;<br>\n",
    "&nbsp;&nbsp;&nbsp;&nbsp;&nbsp; iii) Rinomino le colonne, al fine di avere un risultato il più chiaro possibile."
   ]
  },
  {
   "cell_type": "code",
   "execution_count": 62,
   "metadata": {
    "scrolled": false
   },
   "outputs": [
    {
     "data": {
      "text/html": [
       "<div>\n",
       "<style scoped>\n",
       "    .dataframe tbody tr th:only-of-type {\n",
       "        vertical-align: middle;\n",
       "    }\n",
       "\n",
       "    .dataframe tbody tr th {\n",
       "        vertical-align: top;\n",
       "    }\n",
       "\n",
       "    .dataframe thead th {\n",
       "        text-align: right;\n",
       "    }\n",
       "</style>\n",
       "<table border=\"1\" class=\"dataframe\">\n",
       "  <thead>\n",
       "    <tr style=\"text-align: right;\">\n",
       "      <th></th>\n",
       "      <th>min Sentiment Polarity</th>\n",
       "    </tr>\n",
       "    <tr>\n",
       "      <th>App</th>\n",
       "      <th></th>\n",
       "    </tr>\n",
       "  </thead>\n",
       "  <tbody>\n",
       "    <tr>\n",
       "      <th>10 Best Foods for You</th>\n",
       "      <td>-0.8000</td>\n",
       "    </tr>\n",
       "    <tr>\n",
       "      <th>104 找工作 - 找工作 找打工 找兼職 履歷健檢 履歷診療室</th>\n",
       "      <td>-0.1125</td>\n",
       "    </tr>\n",
       "    <tr>\n",
       "      <th>11st</th>\n",
       "      <td>-1.0000</td>\n",
       "    </tr>\n",
       "    <tr>\n",
       "      <th>1800 Contacts - Lens Store</th>\n",
       "      <td>-0.3000</td>\n",
       "    </tr>\n",
       "    <tr>\n",
       "      <th>1LINE – One Line with One Touch</th>\n",
       "      <td>-0.8250</td>\n",
       "    </tr>\n",
       "  </tbody>\n",
       "</table>\n",
       "</div>"
      ],
      "text/plain": [
       "                                  min Sentiment Polarity\n",
       "App                                                     \n",
       "10 Best Foods for You                            -0.8000\n",
       "104 找工作 - 找工作 找打工 找兼職 履歷健檢 履歷診療室                 -0.1125\n",
       "11st                                             -1.0000\n",
       "1800 Contacts - Lens Store                       -0.3000\n",
       "1LINE – One Line with One Touch                  -0.8250"
      ]
     },
     "execution_count": 62,
     "metadata": {},
     "output_type": "execute_result"
    }
   ],
   "source": [
    "min_sntmntplrt = user_reviews.groupby('App')['Sentiment_Polarity'].min()\n",
    "min_sntmntplrt = pd.DataFrame(min_sntmntplrt)\n",
    "min_sntmntplrt = min_sntmntplrt.rename(columns = {'Sentiment_Polarity' : 'min Sentiment Polarity'})\n",
    "min_sntmntplrt.head()"
   ]
  },
  {
   "cell_type": "markdown",
   "metadata": {},
   "source": [
    "Ripeto i tre passaggi sopraindicati al fine di estrapolare la \"_Sentiment Polarity_\" massima per ogni applicazione."
   ]
  },
  {
   "cell_type": "code",
   "execution_count": 63,
   "metadata": {
    "scrolled": true
   },
   "outputs": [
    {
     "data": {
      "text/html": [
       "<div>\n",
       "<style scoped>\n",
       "    .dataframe tbody tr th:only-of-type {\n",
       "        vertical-align: middle;\n",
       "    }\n",
       "\n",
       "    .dataframe tbody tr th {\n",
       "        vertical-align: top;\n",
       "    }\n",
       "\n",
       "    .dataframe thead th {\n",
       "        text-align: right;\n",
       "    }\n",
       "</style>\n",
       "<table border=\"1\" class=\"dataframe\">\n",
       "  <thead>\n",
       "    <tr style=\"text-align: right;\">\n",
       "      <th></th>\n",
       "      <th>MAX Sentiment Polarity</th>\n",
       "    </tr>\n",
       "    <tr>\n",
       "      <th>App</th>\n",
       "      <th></th>\n",
       "    </tr>\n",
       "  </thead>\n",
       "  <tbody>\n",
       "    <tr>\n",
       "      <th>10 Best Foods for You</th>\n",
       "      <td>1.000000</td>\n",
       "    </tr>\n",
       "    <tr>\n",
       "      <th>104 找工作 - 找工作 找打工 找兼職 履歷健檢 履歷診療室</th>\n",
       "      <td>0.910000</td>\n",
       "    </tr>\n",
       "    <tr>\n",
       "      <th>11st</th>\n",
       "      <td>1.000000</td>\n",
       "    </tr>\n",
       "    <tr>\n",
       "      <th>1800 Contacts - Lens Store</th>\n",
       "      <td>0.838542</td>\n",
       "    </tr>\n",
       "    <tr>\n",
       "      <th>1LINE – One Line with One Touch</th>\n",
       "      <td>1.000000</td>\n",
       "    </tr>\n",
       "  </tbody>\n",
       "</table>\n",
       "</div>"
      ],
      "text/plain": [
       "                                  MAX Sentiment Polarity\n",
       "App                                                     \n",
       "10 Best Foods for You                           1.000000\n",
       "104 找工作 - 找工作 找打工 找兼職 履歷健檢 履歷診療室                0.910000\n",
       "11st                                            1.000000\n",
       "1800 Contacts - Lens Store                      0.838542\n",
       "1LINE – One Line with One Touch                 1.000000"
      ]
     },
     "execution_count": 63,
     "metadata": {},
     "output_type": "execute_result"
    }
   ],
   "source": [
    "max_sntmntplrt = user_reviews.groupby('App')['Sentiment_Polarity'].max()\n",
    "max_sntmntplrt = pd.DataFrame(max_sntmntplrt)\n",
    "max_sntmntplrt = max_sntmntplrt.rename(columns = {'Sentiment_Polarity' : 'MAX Sentiment Polarity'})\n",
    "max_sntmntplrt.head()"
   ]
  },
  {
   "cell_type": "markdown",
   "metadata": {},
   "source": [
    "Eseguo quindi il merge annunciato precedentemente."
   ]
  },
  {
   "cell_type": "code",
   "execution_count": 64,
   "metadata": {
    "scrolled": false
   },
   "outputs": [
    {
     "data": {
      "text/html": [
       "<div>\n",
       "<style scoped>\n",
       "    .dataframe tbody tr th:only-of-type {\n",
       "        vertical-align: middle;\n",
       "    }\n",
       "\n",
       "    .dataframe tbody tr th {\n",
       "        vertical-align: top;\n",
       "    }\n",
       "\n",
       "    .dataframe thead th {\n",
       "        text-align: right;\n",
       "    }\n",
       "</style>\n",
       "<table border=\"1\" class=\"dataframe\">\n",
       "  <thead>\n",
       "    <tr style=\"text-align: right;\">\n",
       "      <th></th>\n",
       "      <th>min Sentiment Polarity</th>\n",
       "      <th>MAX Sentiment Polarity</th>\n",
       "    </tr>\n",
       "    <tr>\n",
       "      <th>App</th>\n",
       "      <th></th>\n",
       "      <th></th>\n",
       "    </tr>\n",
       "  </thead>\n",
       "  <tbody>\n",
       "    <tr>\n",
       "      <th>10 Best Foods for You</th>\n",
       "      <td>-0.800000</td>\n",
       "      <td>1.000000</td>\n",
       "    </tr>\n",
       "    <tr>\n",
       "      <th>104 找工作 - 找工作 找打工 找兼職 履歷健檢 履歷診療室</th>\n",
       "      <td>-0.112500</td>\n",
       "      <td>0.910000</td>\n",
       "    </tr>\n",
       "    <tr>\n",
       "      <th>11st</th>\n",
       "      <td>-1.000000</td>\n",
       "      <td>1.000000</td>\n",
       "    </tr>\n",
       "    <tr>\n",
       "      <th>1800 Contacts - Lens Store</th>\n",
       "      <td>-0.300000</td>\n",
       "      <td>0.838542</td>\n",
       "    </tr>\n",
       "    <tr>\n",
       "      <th>1LINE – One Line with One Touch</th>\n",
       "      <td>-0.825000</td>\n",
       "      <td>1.000000</td>\n",
       "    </tr>\n",
       "    <tr>\n",
       "      <th>2018Emoji Keyboard 😂 Emoticons Lite -sticker&amp;gif</th>\n",
       "      <td>-0.800000</td>\n",
       "      <td>1.000000</td>\n",
       "    </tr>\n",
       "    <tr>\n",
       "      <th>21-Day Meditation Experience</th>\n",
       "      <td>-0.265625</td>\n",
       "      <td>0.587500</td>\n",
       "    </tr>\n",
       "    <tr>\n",
       "      <th>2Date Dating App, Love and matching</th>\n",
       "      <td>-0.645833</td>\n",
       "      <td>1.000000</td>\n",
       "    </tr>\n",
       "    <tr>\n",
       "      <th>2GIS: directory &amp; navigator</th>\n",
       "      <td>-0.375000</td>\n",
       "      <td>1.000000</td>\n",
       "    </tr>\n",
       "    <tr>\n",
       "      <th>2RedBeans</th>\n",
       "      <td>-0.800000</td>\n",
       "      <td>1.000000</td>\n",
       "    </tr>\n",
       "    <tr>\n",
       "      <th>2ndLine - Second Phone Number</th>\n",
       "      <td>-0.781250</td>\n",
       "      <td>1.000000</td>\n",
       "    </tr>\n",
       "    <tr>\n",
       "      <th>30 Day Fitness Challenge - Workout at Home</th>\n",
       "      <td>-0.500000</td>\n",
       "      <td>0.900000</td>\n",
       "    </tr>\n",
       "    <tr>\n",
       "      <th>365Scores - Live Scores</th>\n",
       "      <td>0.000000</td>\n",
       "      <td>1.000000</td>\n",
       "    </tr>\n",
       "    <tr>\n",
       "      <th>3D Blue Glass Water Keyboard Theme</th>\n",
       "      <td>NaN</td>\n",
       "      <td>NaN</td>\n",
       "    </tr>\n",
       "    <tr>\n",
       "      <th>3D Color Pixel by Number - Sandbox Art Coloring</th>\n",
       "      <td>NaN</td>\n",
       "      <td>NaN</td>\n",
       "    </tr>\n",
       "    <tr>\n",
       "      <th>3D Live Neon Weed Launcher</th>\n",
       "      <td>0.136364</td>\n",
       "      <td>1.000000</td>\n",
       "    </tr>\n",
       "    <tr>\n",
       "      <th>4 in a Row</th>\n",
       "      <td>-0.800000</td>\n",
       "      <td>1.000000</td>\n",
       "    </tr>\n",
       "    <tr>\n",
       "      <th>4K Wallpapers and Ultra HD Backgrounds</th>\n",
       "      <td>-0.700000</td>\n",
       "      <td>0.750000</td>\n",
       "    </tr>\n",
       "    <tr>\n",
       "      <th>591房屋交易-租屋、中古屋、新建案、實價登錄、別墅透天、公寓套房、捷運、買房賣房行情、房價房貸查詢</th>\n",
       "      <td>-0.300000</td>\n",
       "      <td>0.700000</td>\n",
       "    </tr>\n",
       "    <tr>\n",
       "      <th>591房屋交易-香港</th>\n",
       "      <td>-0.077083</td>\n",
       "      <td>0.700000</td>\n",
       "    </tr>\n",
       "  </tbody>\n",
       "</table>\n",
       "</div>"
      ],
      "text/plain": [
       "                                                    min Sentiment Polarity  \\\n",
       "App                                                                          \n",
       "10 Best Foods for You                                            -0.800000   \n",
       "104 找工作 - 找工作 找打工 找兼職 履歷健檢 履歷診療室                                 -0.112500   \n",
       "11st                                                             -1.000000   \n",
       "1800 Contacts - Lens Store                                       -0.300000   \n",
       "1LINE – One Line with One Touch                                  -0.825000   \n",
       "2018Emoji Keyboard 😂 Emoticons Lite -sticker&gif                 -0.800000   \n",
       "21-Day Meditation Experience                                     -0.265625   \n",
       "2Date Dating App, Love and matching                              -0.645833   \n",
       "2GIS: directory & navigator                                      -0.375000   \n",
       "2RedBeans                                                        -0.800000   \n",
       "2ndLine - Second Phone Number                                    -0.781250   \n",
       "30 Day Fitness Challenge - Workout at Home                       -0.500000   \n",
       "365Scores - Live Scores                                           0.000000   \n",
       "3D Blue Glass Water Keyboard Theme                                     NaN   \n",
       "3D Color Pixel by Number - Sandbox Art Coloring                        NaN   \n",
       "3D Live Neon Weed Launcher                                        0.136364   \n",
       "4 in a Row                                                       -0.800000   \n",
       "4K Wallpapers and Ultra HD Backgrounds                           -0.700000   \n",
       "591房屋交易-租屋、中古屋、新建案、實價登錄、別墅透天、公寓套房、捷運、買房賣房行情、房價房貸查詢               -0.300000   \n",
       "591房屋交易-香港                                                       -0.077083   \n",
       "\n",
       "                                                    MAX Sentiment Polarity  \n",
       "App                                                                         \n",
       "10 Best Foods for You                                             1.000000  \n",
       "104 找工作 - 找工作 找打工 找兼職 履歷健檢 履歷診療室                                  0.910000  \n",
       "11st                                                              1.000000  \n",
       "1800 Contacts - Lens Store                                        0.838542  \n",
       "1LINE – One Line with One Touch                                   1.000000  \n",
       "2018Emoji Keyboard 😂 Emoticons Lite -sticker&gif                  1.000000  \n",
       "21-Day Meditation Experience                                      0.587500  \n",
       "2Date Dating App, Love and matching                               1.000000  \n",
       "2GIS: directory & navigator                                       1.000000  \n",
       "2RedBeans                                                         1.000000  \n",
       "2ndLine - Second Phone Number                                     1.000000  \n",
       "30 Day Fitness Challenge - Workout at Home                        0.900000  \n",
       "365Scores - Live Scores                                           1.000000  \n",
       "3D Blue Glass Water Keyboard Theme                                     NaN  \n",
       "3D Color Pixel by Number - Sandbox Art Coloring                        NaN  \n",
       "3D Live Neon Weed Launcher                                        1.000000  \n",
       "4 in a Row                                                        1.000000  \n",
       "4K Wallpapers and Ultra HD Backgrounds                            0.750000  \n",
       "591房屋交易-租屋、中古屋、新建案、實價登錄、別墅透天、公寓套房、捷運、買房賣房行情、房價房貸查詢                0.700000  \n",
       "591房屋交易-香港                                                        0.700000  "
      ]
     },
     "execution_count": 64,
     "metadata": {},
     "output_type": "execute_result"
    }
   ],
   "source": [
    "sentiment_polarity_mnm = min_sntmntplrt.merge(max_sntmntplrt, left_index = True, right_index = True)\n",
    "sentiment_polarity_mnm.head(20)"
   ]
  },
  {
   "cell_type": "markdown",
   "metadata": {},
   "source": [
    "Se si volessero eliminare i valori nulli, mi basterà eseguire il pezzetto di codice sotto riportato. <br>\n",
    "L'eliminazione di tali valori non è strettamente necessaria, ma garantisce la restituzione di un output più pulito."
   ]
  },
  {
   "cell_type": "code",
   "execution_count": 65,
   "metadata": {
    "scrolled": false
   },
   "outputs": [
    {
     "data": {
      "text/html": [
       "<div>\n",
       "<style scoped>\n",
       "    .dataframe tbody tr th:only-of-type {\n",
       "        vertical-align: middle;\n",
       "    }\n",
       "\n",
       "    .dataframe tbody tr th {\n",
       "        vertical-align: top;\n",
       "    }\n",
       "\n",
       "    .dataframe thead th {\n",
       "        text-align: right;\n",
       "    }\n",
       "</style>\n",
       "<table border=\"1\" class=\"dataframe\">\n",
       "  <thead>\n",
       "    <tr style=\"text-align: right;\">\n",
       "      <th></th>\n",
       "      <th>min Sentiment Polarity</th>\n",
       "      <th>MAX Sentiment Polarity</th>\n",
       "    </tr>\n",
       "    <tr>\n",
       "      <th>App</th>\n",
       "      <th></th>\n",
       "      <th></th>\n",
       "    </tr>\n",
       "  </thead>\n",
       "  <tbody>\n",
       "    <tr>\n",
       "      <th>10 Best Foods for You</th>\n",
       "      <td>-0.800000</td>\n",
       "      <td>1.000000</td>\n",
       "    </tr>\n",
       "    <tr>\n",
       "      <th>104 找工作 - 找工作 找打工 找兼職 履歷健檢 履歷診療室</th>\n",
       "      <td>-0.112500</td>\n",
       "      <td>0.910000</td>\n",
       "    </tr>\n",
       "    <tr>\n",
       "      <th>11st</th>\n",
       "      <td>-1.000000</td>\n",
       "      <td>1.000000</td>\n",
       "    </tr>\n",
       "    <tr>\n",
       "      <th>1800 Contacts - Lens Store</th>\n",
       "      <td>-0.300000</td>\n",
       "      <td>0.838542</td>\n",
       "    </tr>\n",
       "    <tr>\n",
       "      <th>1LINE – One Line with One Touch</th>\n",
       "      <td>-0.825000</td>\n",
       "      <td>1.000000</td>\n",
       "    </tr>\n",
       "    <tr>\n",
       "      <th>2018Emoji Keyboard 😂 Emoticons Lite -sticker&amp;gif</th>\n",
       "      <td>-0.800000</td>\n",
       "      <td>1.000000</td>\n",
       "    </tr>\n",
       "    <tr>\n",
       "      <th>21-Day Meditation Experience</th>\n",
       "      <td>-0.265625</td>\n",
       "      <td>0.587500</td>\n",
       "    </tr>\n",
       "    <tr>\n",
       "      <th>2Date Dating App, Love and matching</th>\n",
       "      <td>-0.645833</td>\n",
       "      <td>1.000000</td>\n",
       "    </tr>\n",
       "    <tr>\n",
       "      <th>2GIS: directory &amp; navigator</th>\n",
       "      <td>-0.375000</td>\n",
       "      <td>1.000000</td>\n",
       "    </tr>\n",
       "    <tr>\n",
       "      <th>2RedBeans</th>\n",
       "      <td>-0.800000</td>\n",
       "      <td>1.000000</td>\n",
       "    </tr>\n",
       "    <tr>\n",
       "      <th>2ndLine - Second Phone Number</th>\n",
       "      <td>-0.781250</td>\n",
       "      <td>1.000000</td>\n",
       "    </tr>\n",
       "    <tr>\n",
       "      <th>30 Day Fitness Challenge - Workout at Home</th>\n",
       "      <td>-0.500000</td>\n",
       "      <td>0.900000</td>\n",
       "    </tr>\n",
       "    <tr>\n",
       "      <th>365Scores - Live Scores</th>\n",
       "      <td>0.000000</td>\n",
       "      <td>1.000000</td>\n",
       "    </tr>\n",
       "    <tr>\n",
       "      <th>3D Live Neon Weed Launcher</th>\n",
       "      <td>0.136364</td>\n",
       "      <td>1.000000</td>\n",
       "    </tr>\n",
       "    <tr>\n",
       "      <th>4 in a Row</th>\n",
       "      <td>-0.800000</td>\n",
       "      <td>1.000000</td>\n",
       "    </tr>\n",
       "    <tr>\n",
       "      <th>4K Wallpapers and Ultra HD Backgrounds</th>\n",
       "      <td>-0.700000</td>\n",
       "      <td>0.750000</td>\n",
       "    </tr>\n",
       "    <tr>\n",
       "      <th>591房屋交易-租屋、中古屋、新建案、實價登錄、別墅透天、公寓套房、捷運、買房賣房行情、房價房貸查詢</th>\n",
       "      <td>-0.300000</td>\n",
       "      <td>0.700000</td>\n",
       "    </tr>\n",
       "    <tr>\n",
       "      <th>591房屋交易-香港</th>\n",
       "      <td>-0.077083</td>\n",
       "      <td>0.700000</td>\n",
       "    </tr>\n",
       "    <tr>\n",
       "      <th>7 Cups: Anxiety &amp; Stress Chat</th>\n",
       "      <td>-0.172222</td>\n",
       "      <td>0.812500</td>\n",
       "    </tr>\n",
       "    <tr>\n",
       "      <th>7 Day Food Journal Challenge</th>\n",
       "      <td>0.070000</td>\n",
       "      <td>0.343333</td>\n",
       "    </tr>\n",
       "  </tbody>\n",
       "</table>\n",
       "</div>"
      ],
      "text/plain": [
       "                                                    min Sentiment Polarity  \\\n",
       "App                                                                          \n",
       "10 Best Foods for You                                            -0.800000   \n",
       "104 找工作 - 找工作 找打工 找兼職 履歷健檢 履歷診療室                                 -0.112500   \n",
       "11st                                                             -1.000000   \n",
       "1800 Contacts - Lens Store                                       -0.300000   \n",
       "1LINE – One Line with One Touch                                  -0.825000   \n",
       "2018Emoji Keyboard 😂 Emoticons Lite -sticker&gif                 -0.800000   \n",
       "21-Day Meditation Experience                                     -0.265625   \n",
       "2Date Dating App, Love and matching                              -0.645833   \n",
       "2GIS: directory & navigator                                      -0.375000   \n",
       "2RedBeans                                                        -0.800000   \n",
       "2ndLine - Second Phone Number                                    -0.781250   \n",
       "30 Day Fitness Challenge - Workout at Home                       -0.500000   \n",
       "365Scores - Live Scores                                           0.000000   \n",
       "3D Live Neon Weed Launcher                                        0.136364   \n",
       "4 in a Row                                                       -0.800000   \n",
       "4K Wallpapers and Ultra HD Backgrounds                           -0.700000   \n",
       "591房屋交易-租屋、中古屋、新建案、實價登錄、別墅透天、公寓套房、捷運、買房賣房行情、房價房貸查詢               -0.300000   \n",
       "591房屋交易-香港                                                       -0.077083   \n",
       "7 Cups: Anxiety & Stress Chat                                    -0.172222   \n",
       "7 Day Food Journal Challenge                                      0.070000   \n",
       "\n",
       "                                                    MAX Sentiment Polarity  \n",
       "App                                                                         \n",
       "10 Best Foods for You                                             1.000000  \n",
       "104 找工作 - 找工作 找打工 找兼職 履歷健檢 履歷診療室                                  0.910000  \n",
       "11st                                                              1.000000  \n",
       "1800 Contacts - Lens Store                                        0.838542  \n",
       "1LINE – One Line with One Touch                                   1.000000  \n",
       "2018Emoji Keyboard 😂 Emoticons Lite -sticker&gif                  1.000000  \n",
       "21-Day Meditation Experience                                      0.587500  \n",
       "2Date Dating App, Love and matching                               1.000000  \n",
       "2GIS: directory & navigator                                       1.000000  \n",
       "2RedBeans                                                         1.000000  \n",
       "2ndLine - Second Phone Number                                     1.000000  \n",
       "30 Day Fitness Challenge - Workout at Home                        0.900000  \n",
       "365Scores - Live Scores                                           1.000000  \n",
       "3D Live Neon Weed Launcher                                        1.000000  \n",
       "4 in a Row                                                        1.000000  \n",
       "4K Wallpapers and Ultra HD Backgrounds                            0.750000  \n",
       "591房屋交易-租屋、中古屋、新建案、實價登錄、別墅透天、公寓套房、捷運、買房賣房行情、房價房貸查詢                0.700000  \n",
       "591房屋交易-香港                                                        0.700000  \n",
       "7 Cups: Anxiety & Stress Chat                                     0.812500  \n",
       "7 Day Food Journal Challenge                                      0.343333  "
      ]
     },
     "execution_count": 65,
     "metadata": {},
     "output_type": "execute_result"
    }
   ],
   "source": [
    "sentiment_polarity_mnm[sentiment_polarity_mnm.notnull().any(axis = 1)].head(20)"
   ]
  },
  {
   "cell_type": "markdown",
   "metadata": {},
   "source": [
    "***\n",
    "\n",
    "<a name=\"paragraph3\"></a>"
   ]
  },
  {
   "cell_type": "markdown",
   "metadata": {},
   "source": [
    "##  Conclusion"
   ]
  },
  {
   "cell_type": "markdown",
   "metadata": {},
   "source": [
    "### »  First \"*time*\" ending "
   ]
  },
  {
   "cell_type": "markdown",
   "metadata": {},
   "source": [
    "Dal momento che mi sono reso conto che la presenza di visualizzazioni rallenta molto il tempo di esecuzione del codice, decido di eseguire una prima interruzione della funzione \"_time_\" a questo punto del Notebook."
   ]
  },
  {
   "cell_type": "code",
   "execution_count": 66,
   "metadata": {},
   "outputs": [
    {
     "name": "stdout",
     "output_type": "stream",
     "text": [
      "Il tempo di esecuzione del codice è stato di 7.750809907913208 secondi.\n"
     ]
    }
   ],
   "source": [
    "finish_1 = time.time()\n",
    "\n",
    "print('Il tempo di esecuzione del codice è stato di ' + str(finish_1-begin) + ' secondi.')"
   ]
  },
  {
   "cell_type": "markdown",
   "metadata": {},
   "source": [
    "La relativa lentezza è probabilmente causata dalle immagini e dalle molte celle markwdown di commento inserite all'inizio e lungo tutto il foglio di lavoro.\n",
    "\n",
    "<a name=\"subparagraph5\"></a>"
   ]
  },
  {
   "cell_type": "markdown",
   "metadata": {},
   "source": [
    "### »  Some Data Visualizations "
   ]
  },
  {
   "cell_type": "code",
   "execution_count": 67,
   "metadata": {},
   "outputs": [
    {
     "data": {
      "text/html": [
       "<script type=\"text/javascript\">window.PlotlyConfig = {MathJaxConfig: 'local'};</script><script type=\"text/javascript\">if (window.MathJax) {MathJax.Hub.Config({SVG: {font: \"STIX-Web\"}});}</script><script>requirejs.config({paths: { 'plotly': ['https://cdn.plot.ly/plotly-latest.min']},});if(!window._Plotly) {require(['plotly'],function(plotly) {window._Plotly=plotly;});}</script>"
      ],
      "text/vnd.plotly.v1+html": [
       "<script type=\"text/javascript\">window.PlotlyConfig = {MathJaxConfig: 'local'};</script><script type=\"text/javascript\">if (window.MathJax) {MathJax.Hub.Config({SVG: {font: \"STIX-Web\"}});}</script><script>requirejs.config({paths: { 'plotly': ['https://cdn.plot.ly/plotly-latest.min']},});if(!window._Plotly) {require(['plotly'],function(plotly) {window._Plotly=plotly;});}</script>"
      ]
     },
     "metadata": {},
     "output_type": "display_data"
    },
    {
     "data": {
      "text/html": [
       "<script type=\"text/javascript\">window.PlotlyConfig = {MathJaxConfig: 'local'};</script><script type=\"text/javascript\">if (window.MathJax) {MathJax.Hub.Config({SVG: {font: \"STIX-Web\"}});}</script><script>requirejs.config({paths: { 'plotly': ['https://cdn.plot.ly/plotly-latest.min']},});if(!window._Plotly) {require(['plotly'],function(plotly) {window._Plotly=plotly;});}</script>"
      ],
      "text/vnd.plotly.v1+html": [
       "<script type=\"text/javascript\">window.PlotlyConfig = {MathJaxConfig: 'local'};</script><script type=\"text/javascript\">if (window.MathJax) {MathJax.Hub.Config({SVG: {font: \"STIX-Web\"}});}</script><script>requirejs.config({paths: { 'plotly': ['https://cdn.plot.ly/plotly-latest.min']},});if(!window._Plotly) {require(['plotly'],function(plotly) {window._Plotly=plotly;});}</script>"
      ]
     },
     "metadata": {},
     "output_type": "display_data"
    }
   ],
   "source": [
    "from plotly import __version__\n",
    "from plotly.offline import download_plotlyjs, init_notebook_mode, plot, iplot\n",
    "import plotly.graph_objs as go\n",
    "import cufflinks as cf\n",
    "import seaborn as sns\n",
    "init_notebook_mode(connected = True)\n",
    "cf.go_offline()"
   ]
  },
  {
   "cell_type": "code",
   "execution_count": 68,
   "metadata": {
    "scrolled": false
   },
   "outputs": [],
   "source": [
    "cxa = play_store_nan.groupby(\"Category\", as_index = False, sort = False)[\"App\"].count()\n",
    "cxa = cxa.sort_values(by = \"App\", ascending = False).head(20)"
   ]
  },
  {
   "cell_type": "code",
   "execution_count": 69,
   "metadata": {},
   "outputs": [
    {
     "data": {
      "application/vnd.plotly.v1+json": {
       "config": {
        "linkText": "Export to plot.ly",
        "plotlyServerURL": "https://plot.ly",
        "showLink": true
       },
       "data": [
        {
         "marker": {
          "color": "rgba(0, 96, 60, 0.6)",
          "line": {
           "color": "rgba(0, 96, 60, 1.0)",
           "width": 1
          }
         },
         "name": "App",
         "orientation": "v",
         "text": "",
         "type": "bar",
         "uid": "bc9e68cb-fe98-4e99-9a2d-a75bcc63e995",
         "x": [
          "FAMILY",
          "GAME",
          "TOOLS",
          "BUSINESS",
          "MEDICAL",
          "PERSONALIZATION",
          "PRODUCTIVITY",
          "LIFESTYLE",
          "FINANCE",
          "SPORTS",
          "COMMUNICATION",
          "HEALTH_AND_FITNESS",
          "PHOTOGRAPHY",
          "NEWS_AND_MAGAZINES",
          "SOCIAL",
          "BOOKS_AND_REFERENCE",
          "TRAVEL_AND_LOCAL",
          "SHOPPING",
          "DATING",
          "VIDEO_PLAYERS"
         ],
         "y": [
          1878,
          945,
          829,
          420,
          395,
          376,
          374,
          369,
          345,
          325,
          315,
          288,
          281,
          254,
          239,
          222,
          219,
          202,
          170,
          164
         ]
        }
       ],
       "layout": {
        "autosize": false,
        "height": 650,
        "title": {
         "text": "Top 20 Category per n° of Apps"
        },
        "width": 950,
        "xaxis": {
         "title": {
          "text": "Category"
         }
        },
        "yaxis": {
         "title": {
          "text": "Numerosity"
         }
        }
       }
      },
      "text/html": [
       "<div id=\"874fd91c-2e65-44f4-a993-7365d663fa33\" style=\"height: 650px; width: 950px;\" class=\"plotly-graph-div\"></div><script type=\"text/javascript\">require([\"plotly\"], function(Plotly) { window.PLOTLYENV=window.PLOTLYENV || {};window.PLOTLYENV.BASE_URL=\"https://plot.ly\";\n",
       "if (document.getElementById(\"874fd91c-2e65-44f4-a993-7365d663fa33\")) {\n",
       "    Plotly.newPlot(\"874fd91c-2e65-44f4-a993-7365d663fa33\", [{\"marker\": {\"color\": \"rgba(0, 96, 60, 0.6)\", \"line\": {\"color\": \"rgba(0, 96, 60, 1.0)\", \"width\": 1}}, \"name\": \"App\", \"orientation\": \"v\", \"text\": \"\", \"x\": [\"FAMILY\", \"GAME\", \"TOOLS\", \"BUSINESS\", \"MEDICAL\", \"PERSONALIZATION\", \"PRODUCTIVITY\", \"LIFESTYLE\", \"FINANCE\", \"SPORTS\", \"COMMUNICATION\", \"HEALTH_AND_FITNESS\", \"PHOTOGRAPHY\", \"NEWS_AND_MAGAZINES\", \"SOCIAL\", \"BOOKS_AND_REFERENCE\", \"TRAVEL_AND_LOCAL\", \"SHOPPING\", \"DATING\", \"VIDEO_PLAYERS\"], \"y\": [1878, 945, 829, 420, 395, 376, 374, 369, 345, 325, 315, 288, 281, 254, 239, 222, 219, 202, 170, 164], \"type\": \"bar\", \"uid\": \"d7023c9f-f1f2-450c-b7a9-896aa1138261\"}], {\"autosize\": false, \"height\": 650, \"title\": {\"text\": \"Top 20 Category per n\\u00b0 of Apps\"}, \"width\": 950, \"xaxis\": {\"title\": {\"text\": \"Category\"}}, \"yaxis\": {\"title\": {\"text\": \"Numerosity\"}}}, {\"showLink\": true, \"linkText\": \"Export to plot.ly\", \"plotlyServerURL\": \"https://plot.ly\"}); \n",
       "}\n",
       "});</script>"
      ],
      "text/vnd.plotly.v1+html": [
       "<div id=\"874fd91c-2e65-44f4-a993-7365d663fa33\" style=\"height: 650px; width: 950px;\" class=\"plotly-graph-div\"></div><script type=\"text/javascript\">require([\"plotly\"], function(Plotly) { window.PLOTLYENV=window.PLOTLYENV || {};window.PLOTLYENV.BASE_URL=\"https://plot.ly\";\n",
       "if (document.getElementById(\"874fd91c-2e65-44f4-a993-7365d663fa33\")) {\n",
       "    Plotly.newPlot(\"874fd91c-2e65-44f4-a993-7365d663fa33\", [{\"marker\": {\"color\": \"rgba(0, 96, 60, 0.6)\", \"line\": {\"color\": \"rgba(0, 96, 60, 1.0)\", \"width\": 1}}, \"name\": \"App\", \"orientation\": \"v\", \"text\": \"\", \"x\": [\"FAMILY\", \"GAME\", \"TOOLS\", \"BUSINESS\", \"MEDICAL\", \"PERSONALIZATION\", \"PRODUCTIVITY\", \"LIFESTYLE\", \"FINANCE\", \"SPORTS\", \"COMMUNICATION\", \"HEALTH_AND_FITNESS\", \"PHOTOGRAPHY\", \"NEWS_AND_MAGAZINES\", \"SOCIAL\", \"BOOKS_AND_REFERENCE\", \"TRAVEL_AND_LOCAL\", \"SHOPPING\", \"DATING\", \"VIDEO_PLAYERS\"], \"y\": [1878, 945, 829, 420, 395, 376, 374, 369, 345, 325, 315, 288, 281, 254, 239, 222, 219, 202, 170, 164], \"type\": \"bar\", \"uid\": \"d7023c9f-f1f2-450c-b7a9-896aa1138261\"}], {\"autosize\": false, \"height\": 650, \"title\": {\"text\": \"Top 20 Category per n\\u00b0 of Apps\"}, \"width\": 950, \"xaxis\": {\"title\": {\"text\": \"Category\"}}, \"yaxis\": {\"title\": {\"text\": \"Numerosity\"}}}, {\"showLink\": true, \"linkText\": \"Export to plot.ly\", \"plotlyServerURL\": \"https://plot.ly\"}); \n",
       "}\n",
       "});</script>"
      ]
     },
     "metadata": {},
     "output_type": "display_data"
    }
   ],
   "source": [
    "cxa.iplot(kind = \"bar\", x = \"Category\", bargap = 0.3, bargroupgap = 0.05, opacity = 0.60, color = '#00603C',\n",
    "           layout = go.Layout(autosize = False, width = 950, height = 650,\n",
    "                              title = 'Top 20 Category per n° of Apps',\n",
    "                              xaxis = dict(title = 'Category'), yaxis = dict(title = 'Numerosity')))"
   ]
  },
  {
   "cell_type": "code",
   "execution_count": 70,
   "metadata": {},
   "outputs": [],
   "source": [
    "cxar = play_store.groupby(\"Category\", as_index = False)[\"Rating\"].mean()\n",
    "cxar = cxar.sort_values(by = \"Rating\", ascending = False).head(10)"
   ]
  },
  {
   "cell_type": "code",
   "execution_count": 71,
   "metadata": {},
   "outputs": [
    {
     "data": {
      "application/vnd.plotly.v1+json": {
       "config": {
        "linkText": "Export to plot.ly",
        "plotlyServerURL": "https://plot.ly",
        "showLink": true
       },
       "data": [
        {
         "marker": {
          "color": "rgba(136, 0, 0, 0.6)",
          "line": {
           "color": "rgba(136, 0, 0, 1.0)",
           "width": 1
          }
         },
         "name": "Rating",
         "orientation": "v",
         "text": "",
         "type": "bar",
         "uid": "a9ea1ca4-6968-42fa-878d-25b834068722",
         "x": [
          "EVENTS",
          "EDUCATION",
          "ART_AND_DESIGN",
          "BOOKS_AND_REFERENCE",
          "PERSONALIZATION",
          "PARENTING",
          "GAME",
          "BEAUTY",
          "HEALTH_AND_FITNESS",
          "SHOPPING"
         ],
         "y": [
          4.435555555555557,
          4.389032258064517,
          4.358064516129031,
          4.346067415730338,
          4.335987261146501,
          4.300000000000001,
          4.2863263445761195,
          4.278571428571428,
          4.2771043771043775,
          4.259663865546221
         ]
        }
       ],
       "layout": {
        "autosize": false,
        "height": 650,
        "title": {
         "text": "Top 10 Category by Average Rating"
        },
        "width": 850,
        "yaxis": {
         "title": {
          "text": "Average Rating"
         }
        }
       }
      },
      "text/html": [
       "<div id=\"165b9a4e-bc2e-48fc-9721-d19818dddd2c\" style=\"height: 650px; width: 850px;\" class=\"plotly-graph-div\"></div><script type=\"text/javascript\">require([\"plotly\"], function(Plotly) { window.PLOTLYENV=window.PLOTLYENV || {};window.PLOTLYENV.BASE_URL=\"https://plot.ly\";\n",
       "if (document.getElementById(\"165b9a4e-bc2e-48fc-9721-d19818dddd2c\")) {\n",
       "    Plotly.newPlot(\"165b9a4e-bc2e-48fc-9721-d19818dddd2c\", [{\"marker\": {\"color\": \"rgba(136, 0, 0, 0.6)\", \"line\": {\"color\": \"rgba(136, 0, 0, 1.0)\", \"width\": 1}}, \"name\": \"Rating\", \"orientation\": \"v\", \"text\": \"\", \"x\": [\"EVENTS\", \"EDUCATION\", \"ART_AND_DESIGN\", \"BOOKS_AND_REFERENCE\", \"PERSONALIZATION\", \"PARENTING\", \"GAME\", \"BEAUTY\", \"HEALTH_AND_FITNESS\", \"SHOPPING\"], \"y\": [4.435555555555557, 4.389032258064517, 4.358064516129031, 4.346067415730338, 4.335987261146501, 4.300000000000001, 4.2863263445761195, 4.278571428571428, 4.2771043771043775, 4.259663865546221], \"type\": \"bar\", \"uid\": \"df47cfac-7a61-487d-b07b-1992d7dc38d4\"}], {\"autosize\": false, \"height\": 650, \"title\": {\"text\": \"Top 10 Category by Average Rating\"}, \"width\": 850, \"yaxis\": {\"title\": {\"text\": \"Average Rating\"}}}, {\"showLink\": true, \"linkText\": \"Export to plot.ly\", \"plotlyServerURL\": \"https://plot.ly\"}); \n",
       "}\n",
       "});</script>"
      ],
      "text/vnd.plotly.v1+html": [
       "<div id=\"165b9a4e-bc2e-48fc-9721-d19818dddd2c\" style=\"height: 650px; width: 850px;\" class=\"plotly-graph-div\"></div><script type=\"text/javascript\">require([\"plotly\"], function(Plotly) { window.PLOTLYENV=window.PLOTLYENV || {};window.PLOTLYENV.BASE_URL=\"https://plot.ly\";\n",
       "if (document.getElementById(\"165b9a4e-bc2e-48fc-9721-d19818dddd2c\")) {\n",
       "    Plotly.newPlot(\"165b9a4e-bc2e-48fc-9721-d19818dddd2c\", [{\"marker\": {\"color\": \"rgba(136, 0, 0, 0.6)\", \"line\": {\"color\": \"rgba(136, 0, 0, 1.0)\", \"width\": 1}}, \"name\": \"Rating\", \"orientation\": \"v\", \"text\": \"\", \"x\": [\"EVENTS\", \"EDUCATION\", \"ART_AND_DESIGN\", \"BOOKS_AND_REFERENCE\", \"PERSONALIZATION\", \"PARENTING\", \"GAME\", \"BEAUTY\", \"HEALTH_AND_FITNESS\", \"SHOPPING\"], \"y\": [4.435555555555557, 4.389032258064517, 4.358064516129031, 4.346067415730338, 4.335987261146501, 4.300000000000001, 4.2863263445761195, 4.278571428571428, 4.2771043771043775, 4.259663865546221], \"type\": \"bar\", \"uid\": \"df47cfac-7a61-487d-b07b-1992d7dc38d4\"}], {\"autosize\": false, \"height\": 650, \"title\": {\"text\": \"Top 10 Category by Average Rating\"}, \"width\": 850, \"yaxis\": {\"title\": {\"text\": \"Average Rating\"}}}, {\"showLink\": true, \"linkText\": \"Export to plot.ly\", \"plotlyServerURL\": \"https://plot.ly\"}); \n",
       "}\n",
       "});</script>"
      ]
     },
     "metadata": {},
     "output_type": "display_data"
    }
   ],
   "source": [
    "cxar.iplot(kind = \"bar\", x = \"Category\", bargap = 0.3, bargroupgap = 0.05, opacity = 0.60, color = \"#8000000\",\n",
    "           layout = go.Layout(autosize = False, width = 850, height = 650, \n",
    "                              title = 'Top 10 Category by Average Rating',\n",
    "                              yaxis = dict(title = 'Average Rating')))"
   ]
  },
  {
   "cell_type": "markdown",
   "metadata": {},
   "source": [
    "<a name=\"subparagraph6\"></a>"
   ]
  },
  {
   "cell_type": "markdown",
   "metadata": {},
   "source": [
    "### »  Second \"*time*\" ending "
   ]
  },
  {
   "cell_type": "markdown",
   "metadata": {},
   "source": [
    "Qui di seguito riportiamo il tempo di esecuzione complessivo del Notebook."
   ]
  },
  {
   "cell_type": "code",
   "execution_count": 72,
   "metadata": {
    "scrolled": false
   },
   "outputs": [
    {
     "name": "stdout",
     "output_type": "stream",
     "text": [
      "Il tempo di esecuzione del codice, compreso di visualizzazioni, è stato di 11.335135459899902 secondi.\n"
     ]
    }
   ],
   "source": [
    "finish_2 = time.time()\n",
    "\n",
    "print('Il tempo di esecuzione del codice, compreso di visualizzazioni, è stato di ' + str(finish_2-begin) + ' secondi.')"
   ]
  },
  {
   "cell_type": "markdown",
   "metadata": {},
   "source": [
    "Come già premesso nella sezione \"First \"_time_\" ending\", il rallentamento maggiore è dato dall'inserimento delle visualizzazioni."
   ]
  },
  {
   "cell_type": "code",
   "execution_count": 73,
   "metadata": {},
   "outputs": [
    {
     "name": "stdout",
     "output_type": "stream",
     "text": [
      "Più precisamente, la differenza tra i due tempi di esecuzione ammonta a 3.5843255519866943 secondi.\n"
     ]
    }
   ],
   "source": [
    "print('Più precisamente, la differenza tra i due tempi di esecuzione ammonta a ' + str(finish_2 - finish_1) + ' secondi.')"
   ]
  },
  {
   "cell_type": "markdown",
   "metadata": {},
   "source": [
    "***"
   ]
  },
  {
   "cell_type": "markdown",
   "metadata": {},
   "source": [
    "<br>\n",
    "<br>\n",
    "<br>"
   ]
  }
 ],
 "metadata": {
  "kernelspec": {
   "display_name": "Python 3",
   "language": "python",
   "name": "python3"
  },
  "language_info": {
   "codemirror_mode": {
    "name": "ipython",
    "version": 3
   },
   "file_extension": ".py",
   "mimetype": "text/x-python",
   "name": "python",
   "nbconvert_exporter": "python",
   "pygments_lexer": "ipython3",
   "version": "3.6.4"
  }
 },
 "nbformat": 4,
 "nbformat_minor": 2
}
